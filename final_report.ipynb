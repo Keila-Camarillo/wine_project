{
 "cells": [
  {
   "cell_type": "code",
   "execution_count": 1,
   "id": "0710c1d7",
   "metadata": {},
   "outputs": [],
   "source": [
    "import warnings\n",
    "warnings.filterwarnings(\"ignore\")\n",
    "\n",
    "import pandas as pd\n",
    "import numpy as np\n",
    "\n",
    "import matplotlib.pyplot as plt\n",
    "import seaborn as sns\n",
    "\n",
    "from sklearn.cluster import KMeans\n",
    "from sklearn.model_selection import train_test_split\n",
    "from sklearn.preprocessing import MinMaxScaler\n",
    "\n",
    "import keila_wrangle as w\n",
    "import keila_explore as e"
   ]
  },
  {
   "cell_type": "markdown",
   "id": "5f60ae51",
   "metadata": {},
   "source": [
    "# Project Description\n",
    "We will be analyzing, factors that affect wine quality. Our objective is to build a predictive model that can estimate the quality of a given wine. The focus here is to gain insights and understanding about the factors influencing wine quality rather than generating practical predictions.\n",
    "\n",
    "# Project Goal\n",
    "\n",
    "* We will be analyzing, exploring the different attributes affecting red and white wine quality. \n",
    "* We will be creating a model based on to predict the quality of the wine.\n",
    "* This data would not be used on future properties or for real life prediction.\n",
    "\n",
    "# Initial Thoughts\n",
    "\n",
    "The initial hypothesis for this project is that certain factors such as 'alcohol', 'chlorides', 'ph', 'residual sugar', 'density' may be significant drivers of wine quality.\n",
    "\n",
    "\n",
    "# Acquire\n",
    "* Aquire dataset from [Data.World: Wine Quality](https://data.world/food/wine-quality)\n",
    "* It contains two datasets: winequality-red.csv (1599 rows × 12 columns) & winequality-white.csv (4898 rows × 12 columns) \n",
    "* Each row represents a unique wine\n",
    "* Each column represents a feature of those wines.\n",
    "\n",
    "# Prepare\n",
    "- Prepare Actions:\n",
    "    * Fixed columns names to promote readability\n",
    "    * Checked for nulls in the data. No nulls were found.\n",
    "    * Checked that column data types were appropriate\n",
    "    * Added wine_type column, which identifies if the wine is red or white\n",
    "    * Added quality_type column, which identifies if the wine is low <= 5 quality or high > 5 quality\n",
    "    * Encoded categorical variables\n",
    "    * Split data into train, validate and test (approx. 60/20/20)\n",
    "    * 578 outliers have been removed for the iteration of the project, based on if they fell outside the 4 standard deviation"
   ]
  },
  {
   "cell_type": "code",
   "execution_count": 2,
   "id": "6ed26f72",
   "metadata": {},
   "outputs": [],
   "source": [
    "# acquire, prep, and clean data\n",
    "train, validate, test = w.clean_wine()"
   ]
  },
  {
   "cell_type": "markdown",
   "id": "591759d7",
   "metadata": {},
   "source": [
    "# Summarize df"
   ]
  },
  {
   "cell_type": "code",
   "execution_count": 3,
   "id": "0fd0cc41",
   "metadata": {},
   "outputs": [
    {
     "data": {
      "text/html": [
       "<div>\n",
       "<style scoped>\n",
       "    .dataframe tbody tr th:only-of-type {\n",
       "        vertical-align: middle;\n",
       "    }\n",
       "\n",
       "    .dataframe tbody tr th {\n",
       "        vertical-align: top;\n",
       "    }\n",
       "\n",
       "    .dataframe thead th {\n",
       "        text-align: right;\n",
       "    }\n",
       "</style>\n",
       "<table border=\"1\" class=\"dataframe\">\n",
       "  <thead>\n",
       "    <tr style=\"text-align: right;\">\n",
       "      <th></th>\n",
       "      <th>fixed_acidity</th>\n",
       "      <th>volatile_acidity</th>\n",
       "      <th>citric_acid</th>\n",
       "      <th>residual_sugar</th>\n",
       "      <th>chlorides</th>\n",
       "      <th>free_sulfur_dioxide</th>\n",
       "      <th>total_sulfur_dioxide</th>\n",
       "      <th>density</th>\n",
       "      <th>ph</th>\n",
       "      <th>sulphates</th>\n",
       "      <th>alcohol</th>\n",
       "      <th>quality</th>\n",
       "      <th>red_wine</th>\n",
       "      <th>wine_type</th>\n",
       "      <th>quality_type</th>\n",
       "    </tr>\n",
       "  </thead>\n",
       "  <tbody>\n",
       "    <tr>\n",
       "      <th>1961</th>\n",
       "      <td>9.5</td>\n",
       "      <td>0.21</td>\n",
       "      <td>0.47</td>\n",
       "      <td>1.3</td>\n",
       "      <td>0.039</td>\n",
       "      <td>21.0</td>\n",
       "      <td>123.0</td>\n",
       "      <td>0.99590</td>\n",
       "      <td>2.90</td>\n",
       "      <td>0.64</td>\n",
       "      <td>9.5</td>\n",
       "      <td>5</td>\n",
       "      <td>0</td>\n",
       "      <td>white</td>\n",
       "      <td>low</td>\n",
       "    </tr>\n",
       "    <tr>\n",
       "      <th>3624</th>\n",
       "      <td>6.6</td>\n",
       "      <td>0.36</td>\n",
       "      <td>0.28</td>\n",
       "      <td>6.1</td>\n",
       "      <td>0.029</td>\n",
       "      <td>12.0</td>\n",
       "      <td>93.0</td>\n",
       "      <td>0.99054</td>\n",
       "      <td>3.19</td>\n",
       "      <td>0.27</td>\n",
       "      <td>12.8</td>\n",
       "      <td>7</td>\n",
       "      <td>0</td>\n",
       "      <td>white</td>\n",
       "      <td>high</td>\n",
       "    </tr>\n",
       "    <tr>\n",
       "      <th>216</th>\n",
       "      <td>7.5</td>\n",
       "      <td>0.27</td>\n",
       "      <td>0.36</td>\n",
       "      <td>7.0</td>\n",
       "      <td>0.036</td>\n",
       "      <td>45.0</td>\n",
       "      <td>164.0</td>\n",
       "      <td>0.99390</td>\n",
       "      <td>3.03</td>\n",
       "      <td>0.33</td>\n",
       "      <td>11.0</td>\n",
       "      <td>5</td>\n",
       "      <td>0</td>\n",
       "      <td>white</td>\n",
       "      <td>low</td>\n",
       "    </tr>\n",
       "    <tr>\n",
       "      <th>657</th>\n",
       "      <td>7.3</td>\n",
       "      <td>0.34</td>\n",
       "      <td>0.21</td>\n",
       "      <td>3.2</td>\n",
       "      <td>0.050</td>\n",
       "      <td>14.0</td>\n",
       "      <td>136.0</td>\n",
       "      <td>0.99360</td>\n",
       "      <td>3.25</td>\n",
       "      <td>0.44</td>\n",
       "      <td>10.2</td>\n",
       "      <td>5</td>\n",
       "      <td>0</td>\n",
       "      <td>white</td>\n",
       "      <td>low</td>\n",
       "    </tr>\n",
       "    <tr>\n",
       "      <th>1571</th>\n",
       "      <td>7.4</td>\n",
       "      <td>0.30</td>\n",
       "      <td>0.49</td>\n",
       "      <td>8.2</td>\n",
       "      <td>0.055</td>\n",
       "      <td>49.0</td>\n",
       "      <td>188.0</td>\n",
       "      <td>0.99740</td>\n",
       "      <td>3.52</td>\n",
       "      <td>0.58</td>\n",
       "      <td>9.7</td>\n",
       "      <td>6</td>\n",
       "      <td>0</td>\n",
       "      <td>white</td>\n",
       "      <td>high</td>\n",
       "    </tr>\n",
       "  </tbody>\n",
       "</table>\n",
       "</div>"
      ],
      "text/plain": [
       "      fixed_acidity  volatile_acidity  citric_acid  residual_sugar  chlorides  \\\n",
       "1961            9.5              0.21         0.47             1.3      0.039   \n",
       "3624            6.6              0.36         0.28             6.1      0.029   \n",
       "216             7.5              0.27         0.36             7.0      0.036   \n",
       "657             7.3              0.34         0.21             3.2      0.050   \n",
       "1571            7.4              0.30         0.49             8.2      0.055   \n",
       "\n",
       "      free_sulfur_dioxide  total_sulfur_dioxide  density    ph  sulphates  \\\n",
       "1961                 21.0                 123.0  0.99590  2.90       0.64   \n",
       "3624                 12.0                  93.0  0.99054  3.19       0.27   \n",
       "216                  45.0                 164.0  0.99390  3.03       0.33   \n",
       "657                  14.0                 136.0  0.99360  3.25       0.44   \n",
       "1571                 49.0                 188.0  0.99740  3.52       0.58   \n",
       "\n",
       "      alcohol  quality  red_wine wine_type quality_type  \n",
       "1961      9.5        5         0     white          low  \n",
       "3624     12.8        7         0     white         high  \n",
       "216      11.0        5         0     white          low  \n",
       "657      10.2        5         0     white          low  \n",
       "1571      9.7        6         0     white         high  "
      ]
     },
     "execution_count": 3,
     "metadata": {},
     "output_type": "execute_result"
    }
   ],
   "source": [
    "train.head()"
   ]
  },
  {
   "cell_type": "markdown",
   "id": "592de4da",
   "metadata": {},
   "source": [
    "# Explore\n",
    "\n",
    "## Does Alcohol Affect Wine Quality?"
   ]
  },
  {
   "cell_type": "markdown",
   "id": "6e9c7f40",
   "metadata": {},
   "source": [
    " alc, res, cholrides,  \n",
    "failed ph"
   ]
  },
  {
   "cell_type": "markdown",
   "id": "f1d63117",
   "metadata": {},
   "source": [
    "## Does Residual Sugar Affect Wine Quality?\n",
    "$H_o$: The average residual sugar for low quality wines is less than or equal to the average residual sugar for high quality wines\n",
    "\n",
    "$H_a$: The average residual sugar for low quality wines is greater than the average residual sugar for high quality wines\n",
    "\n",
    "**I will use an Independent T-Test (1-tailed), to investigate whether low quality wines have more or less residual suger**\n",
    "\n",
    "* I will use a confidence interval of 95%\n",
    "* The alpha is .05"
   ]
  },
  {
   "cell_type": "code",
   "execution_count": 4,
   "id": "e29cd710",
   "metadata": {},
   "outputs": [
    {
     "data": {
      "image/png": "[encoded data removed]",
      "text/plain": [
       "<Figure size 640x480 with 1 Axes>"
      ]
     },
     "metadata": {},
     "output_type": "display_data"
    }
   ],
   "source": [
    "e.sugar_barplot(train)"
   ]
  },
  {
   "cell_type": "code",
   "execution_count": 5,
   "id": "e415d148",
   "metadata": {},
   "outputs": [],
   "source": [
    "low_quality_sugar = train[train.quality_type == 'low'].residual_sugar\n",
    "\n",
    "high_quality_sugar = train[train.quality_type == 'high'].residual_sugar"
   ]
  },
  {
   "cell_type": "code",
   "execution_count": 6,
   "id": "22efa811",
   "metadata": {},
   "outputs": [
    {
     "name": "stdout",
     "output_type": "stream",
     "text": [
      "Reject the null hypothesis: Sufficient\n",
      " p-value: 0.015019749218448116 , t: 2.433613307341986\n"
     ]
    }
   ],
   "source": [
    "e.ind_test(low_quality_sugar,high_quality_sugar)"
   ]
  },
  {
   "cell_type": "markdown",
   "id": "ef7d4036",
   "metadata": {},
   "source": [
    "## Does Chlorides Affect Wine Quality?"
   ]
  },
  {
   "cell_type": "markdown",
   "id": "44b2b099",
   "metadata": {},
   "source": [
    "## Does ph Affect Wine Quality?"
   ]
  },
  {
   "cell_type": "code",
   "execution_count": null,
   "id": "ae4f91cc",
   "metadata": {},
   "outputs": [],
   "source": []
  }
 ],
 "metadata": {
  "kernelspec": {
   "display_name": "Python 3 (ipykernel)",
   "language": "python",
   "name": "python3"
  },
  "language_info": {
   "codemirror_mode": {
    "name": "ipython",
    "version": 3
   },
   "file_extension": ".py",
   "mimetype": "text/x-python",
   "name": "python",
   "nbconvert_exporter": "python",
   "pygments_lexer": "ipython3",
   "version": "3.9.13"
  }
 },
 "nbformat": 4,
 "nbformat_minor": 5
}
