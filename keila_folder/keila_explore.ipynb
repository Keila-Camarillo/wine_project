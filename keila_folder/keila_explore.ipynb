{
 "cells": [
  {
   "cell_type": "code",
   "execution_count": 1,
   "id": "60b50d6f",
   "metadata": {},
   "outputs": [],
   "source": [
    "import warnings\n",
    "warnings.filterwarnings(\"ignore\")\n",
    "\n",
    "import pandas as pd\n",
    "import numpy as np\n",
    "\n",
    "import matplotlib.pyplot as plt\n",
    "import seaborn as sns\n",
    "\n",
    "from scipy import stats\n",
    "from math import sqrt\n",
    "\n",
    "import keila_wrangle as w"
   ]
  },
  {
   "cell_type": "code",
   "execution_count": 2,
   "id": "cb9639e9",
   "metadata": {},
   "outputs": [
    {
     "data": {
      "text/html": [
       "<div>\n",
       "<style scoped>\n",
       "    .dataframe tbody tr th:only-of-type {\n",
       "        vertical-align: middle;\n",
       "    }\n",
       "\n",
       "    .dataframe tbody tr th {\n",
       "        vertical-align: top;\n",
       "    }\n",
       "\n",
       "    .dataframe thead th {\n",
       "        text-align: right;\n",
       "    }\n",
       "</style>\n",
       "<table border=\"1\" class=\"dataframe\">\n",
       "  <thead>\n",
       "    <tr style=\"text-align: right;\">\n",
       "      <th></th>\n",
       "      <th>fixed acidity</th>\n",
       "      <th>volatile acidity</th>\n",
       "      <th>citric acid</th>\n",
       "      <th>residual sugar</th>\n",
       "      <th>chlorides</th>\n",
       "      <th>free sulfur dioxide</th>\n",
       "      <th>total sulfur dioxide</th>\n",
       "      <th>density</th>\n",
       "      <th>pH</th>\n",
       "      <th>sulphates</th>\n",
       "      <th>alcohol</th>\n",
       "      <th>quality</th>\n",
       "      <th>red_wine</th>\n",
       "      <th>wine_type</th>\n",
       "      <th>quality_type</th>\n",
       "    </tr>\n",
       "  </thead>\n",
       "  <tbody>\n",
       "    <tr>\n",
       "      <th>0</th>\n",
       "      <td>7.4</td>\n",
       "      <td>0.70</td>\n",
       "      <td>0.00</td>\n",
       "      <td>1.9</td>\n",
       "      <td>0.076</td>\n",
       "      <td>11.0</td>\n",
       "      <td>34.0</td>\n",
       "      <td>0.9978</td>\n",
       "      <td>3.51</td>\n",
       "      <td>0.56</td>\n",
       "      <td>9.4</td>\n",
       "      <td>5</td>\n",
       "      <td>1</td>\n",
       "      <td>red</td>\n",
       "      <td>low</td>\n",
       "    </tr>\n",
       "    <tr>\n",
       "      <th>1</th>\n",
       "      <td>7.8</td>\n",
       "      <td>0.88</td>\n",
       "      <td>0.00</td>\n",
       "      <td>2.6</td>\n",
       "      <td>0.098</td>\n",
       "      <td>25.0</td>\n",
       "      <td>67.0</td>\n",
       "      <td>0.9968</td>\n",
       "      <td>3.20</td>\n",
       "      <td>0.68</td>\n",
       "      <td>9.8</td>\n",
       "      <td>5</td>\n",
       "      <td>1</td>\n",
       "      <td>red</td>\n",
       "      <td>low</td>\n",
       "    </tr>\n",
       "    <tr>\n",
       "      <th>2</th>\n",
       "      <td>7.8</td>\n",
       "      <td>0.76</td>\n",
       "      <td>0.04</td>\n",
       "      <td>2.3</td>\n",
       "      <td>0.092</td>\n",
       "      <td>15.0</td>\n",
       "      <td>54.0</td>\n",
       "      <td>0.9970</td>\n",
       "      <td>3.26</td>\n",
       "      <td>0.65</td>\n",
       "      <td>9.8</td>\n",
       "      <td>5</td>\n",
       "      <td>1</td>\n",
       "      <td>red</td>\n",
       "      <td>low</td>\n",
       "    </tr>\n",
       "    <tr>\n",
       "      <th>3</th>\n",
       "      <td>11.2</td>\n",
       "      <td>0.28</td>\n",
       "      <td>0.56</td>\n",
       "      <td>1.9</td>\n",
       "      <td>0.075</td>\n",
       "      <td>17.0</td>\n",
       "      <td>60.0</td>\n",
       "      <td>0.9980</td>\n",
       "      <td>3.16</td>\n",
       "      <td>0.58</td>\n",
       "      <td>9.8</td>\n",
       "      <td>6</td>\n",
       "      <td>1</td>\n",
       "      <td>red</td>\n",
       "      <td>high</td>\n",
       "    </tr>\n",
       "    <tr>\n",
       "      <th>4</th>\n",
       "      <td>7.4</td>\n",
       "      <td>0.70</td>\n",
       "      <td>0.00</td>\n",
       "      <td>1.9</td>\n",
       "      <td>0.076</td>\n",
       "      <td>11.0</td>\n",
       "      <td>34.0</td>\n",
       "      <td>0.9978</td>\n",
       "      <td>3.51</td>\n",
       "      <td>0.56</td>\n",
       "      <td>9.4</td>\n",
       "      <td>5</td>\n",
       "      <td>1</td>\n",
       "      <td>red</td>\n",
       "      <td>low</td>\n",
       "    </tr>\n",
       "  </tbody>\n",
       "</table>\n",
       "</div>"
      ],
      "text/plain": [
       "   fixed acidity  volatile acidity  citric acid  residual sugar  chlorides  \\\n",
       "0            7.4              0.70         0.00             1.9      0.076   \n",
       "1            7.8              0.88         0.00             2.6      0.098   \n",
       "2            7.8              0.76         0.04             2.3      0.092   \n",
       "3           11.2              0.28         0.56             1.9      0.075   \n",
       "4            7.4              0.70         0.00             1.9      0.076   \n",
       "\n",
       "   free sulfur dioxide  total sulfur dioxide  density    pH  sulphates  \\\n",
       "0                 11.0                  34.0   0.9978  3.51       0.56   \n",
       "1                 25.0                  67.0   0.9968  3.20       0.68   \n",
       "2                 15.0                  54.0   0.9970  3.26       0.65   \n",
       "3                 17.0                  60.0   0.9980  3.16       0.58   \n",
       "4                 11.0                  34.0   0.9978  3.51       0.56   \n",
       "\n",
       "   alcohol  quality  red_wine wine_type quality_type  \n",
       "0      9.4        5         1       red          low  \n",
       "1      9.8        5         1       red          low  \n",
       "2      9.8        5         1       red          low  \n",
       "3      9.8        6         1       red         high  \n",
       "4      9.4        5         1       red          low  "
      ]
     },
     "execution_count": 2,
     "metadata": {},
     "output_type": "execute_result"
    }
   ],
   "source": [
    "df = w.read_wine()\n",
    "df.head()"
   ]
  },
  {
   "cell_type": "code",
   "execution_count": 3,
   "id": "0a837963",
   "metadata": {},
   "outputs": [
    {
     "data": {
      "text/html": [
       "<div>\n",
       "<style scoped>\n",
       "    .dataframe tbody tr th:only-of-type {\n",
       "        vertical-align: middle;\n",
       "    }\n",
       "\n",
       "    .dataframe tbody tr th {\n",
       "        vertical-align: top;\n",
       "    }\n",
       "\n",
       "    .dataframe thead th {\n",
       "        text-align: right;\n",
       "    }\n",
       "</style>\n",
       "<table border=\"1\" class=\"dataframe\">\n",
       "  <thead>\n",
       "    <tr style=\"text-align: right;\">\n",
       "      <th></th>\n",
       "      <th>fixed acidity</th>\n",
       "      <th>volatile acidity</th>\n",
       "      <th>citric acid</th>\n",
       "      <th>residual sugar</th>\n",
       "      <th>chlorides</th>\n",
       "      <th>free sulfur dioxide</th>\n",
       "      <th>total sulfur dioxide</th>\n",
       "      <th>density</th>\n",
       "      <th>pH</th>\n",
       "      <th>sulphates</th>\n",
       "      <th>alcohol</th>\n",
       "      <th>quality</th>\n",
       "      <th>red_wine</th>\n",
       "      <th>wine_type</th>\n",
       "      <th>quality_type</th>\n",
       "    </tr>\n",
       "  </thead>\n",
       "  <tbody>\n",
       "    <tr>\n",
       "      <th>0</th>\n",
       "      <td>7.4</td>\n",
       "      <td>0.70</td>\n",
       "      <td>0.00</td>\n",
       "      <td>1.9</td>\n",
       "      <td>0.076</td>\n",
       "      <td>11.0</td>\n",
       "      <td>34.0</td>\n",
       "      <td>0.9978</td>\n",
       "      <td>3.51</td>\n",
       "      <td>0.56</td>\n",
       "      <td>9.4</td>\n",
       "      <td>5</td>\n",
       "      <td>1</td>\n",
       "      <td>red</td>\n",
       "      <td>low</td>\n",
       "    </tr>\n",
       "    <tr>\n",
       "      <th>1</th>\n",
       "      <td>7.8</td>\n",
       "      <td>0.88</td>\n",
       "      <td>0.00</td>\n",
       "      <td>2.6</td>\n",
       "      <td>0.098</td>\n",
       "      <td>25.0</td>\n",
       "      <td>67.0</td>\n",
       "      <td>0.9968</td>\n",
       "      <td>3.20</td>\n",
       "      <td>0.68</td>\n",
       "      <td>9.8</td>\n",
       "      <td>5</td>\n",
       "      <td>1</td>\n",
       "      <td>red</td>\n",
       "      <td>low</td>\n",
       "    </tr>\n",
       "    <tr>\n",
       "      <th>2</th>\n",
       "      <td>7.8</td>\n",
       "      <td>0.76</td>\n",
       "      <td>0.04</td>\n",
       "      <td>2.3</td>\n",
       "      <td>0.092</td>\n",
       "      <td>15.0</td>\n",
       "      <td>54.0</td>\n",
       "      <td>0.9970</td>\n",
       "      <td>3.26</td>\n",
       "      <td>0.65</td>\n",
       "      <td>9.8</td>\n",
       "      <td>5</td>\n",
       "      <td>1</td>\n",
       "      <td>red</td>\n",
       "      <td>low</td>\n",
       "    </tr>\n",
       "    <tr>\n",
       "      <th>3</th>\n",
       "      <td>11.2</td>\n",
       "      <td>0.28</td>\n",
       "      <td>0.56</td>\n",
       "      <td>1.9</td>\n",
       "      <td>0.075</td>\n",
       "      <td>17.0</td>\n",
       "      <td>60.0</td>\n",
       "      <td>0.9980</td>\n",
       "      <td>3.16</td>\n",
       "      <td>0.58</td>\n",
       "      <td>9.8</td>\n",
       "      <td>6</td>\n",
       "      <td>1</td>\n",
       "      <td>red</td>\n",
       "      <td>high</td>\n",
       "    </tr>\n",
       "    <tr>\n",
       "      <th>4</th>\n",
       "      <td>7.4</td>\n",
       "      <td>0.70</td>\n",
       "      <td>0.00</td>\n",
       "      <td>1.9</td>\n",
       "      <td>0.076</td>\n",
       "      <td>11.0</td>\n",
       "      <td>34.0</td>\n",
       "      <td>0.9978</td>\n",
       "      <td>3.51</td>\n",
       "      <td>0.56</td>\n",
       "      <td>9.4</td>\n",
       "      <td>5</td>\n",
       "      <td>1</td>\n",
       "      <td>red</td>\n",
       "      <td>low</td>\n",
       "    </tr>\n",
       "  </tbody>\n",
       "</table>\n",
       "</div>"
      ],
      "text/plain": [
       "   fixed acidity  volatile acidity  citric acid  residual sugar  chlorides  \\\n",
       "0            7.4              0.70         0.00             1.9      0.076   \n",
       "1            7.8              0.88         0.00             2.6      0.098   \n",
       "2            7.8              0.76         0.04             2.3      0.092   \n",
       "3           11.2              0.28         0.56             1.9      0.075   \n",
       "4            7.4              0.70         0.00             1.9      0.076   \n",
       "\n",
       "   free sulfur dioxide  total sulfur dioxide  density    pH  sulphates  \\\n",
       "0                 11.0                  34.0   0.9978  3.51       0.56   \n",
       "1                 25.0                  67.0   0.9968  3.20       0.68   \n",
       "2                 15.0                  54.0   0.9970  3.26       0.65   \n",
       "3                 17.0                  60.0   0.9980  3.16       0.58   \n",
       "4                 11.0                  34.0   0.9978  3.51       0.56   \n",
       "\n",
       "   alcohol  quality  red_wine wine_type quality_type  \n",
       "0      9.4        5         1       red          low  \n",
       "1      9.8        5         1       red          low  \n",
       "2      9.8        5         1       red          low  \n",
       "3      9.8        6         1       red         high  \n",
       "4      9.4        5         1       red          low  "
      ]
     },
     "execution_count": 3,
     "metadata": {},
     "output_type": "execute_result"
    }
   ],
   "source": [
    "\n",
    "df.head()"
   ]
  },
  {
   "cell_type": "code",
   "execution_count": 4,
   "id": "481b4089",
   "metadata": {},
   "outputs": [],
   "source": [
    "train, validate, test = w.clean_wine()"
   ]
  },
  {
   "cell_type": "code",
   "execution_count": 5,
   "id": "cf202b1b",
   "metadata": {},
   "outputs": [
    {
     "name": "stdout",
     "output_type": "stream",
     "text": [
      "train -> (3551, 15)\n",
      "validate -> (1184, 15)\n",
      "test -> (1184, 15)\n"
     ]
    }
   ],
   "source": [
    "# splitting into x and y\n",
    "target = \"quality\"\n",
    "train, validate, test, x_train, y_train, x_validate, y_validate, x_test, y_test = w.split_data_xy(train, validate, test, target)"
   ]
  },
  {
   "cell_type": "code",
   "execution_count": 6,
   "id": "a677e005",
   "metadata": {},
   "outputs": [],
   "source": [
    "# scaling data\n",
    "x_train_scaled, x_validate_scaled, x_test_scaled = w.mm_scale(x_train, x_validate, x_test)"
   ]
  },
  {
   "cell_type": "markdown",
   "id": "17fddcda",
   "metadata": {},
   "source": [
    "1. What is the distribution of each of the variables?"
   ]
  },
  {
   "cell_type": "code",
   "execution_count": 7,
   "id": "86872c88",
   "metadata": {},
   "outputs": [
    {
     "data": {
      "image/png": "[encoded data removed]",
      "text/plain": [
       "<Figure size 400x200 with 1 Axes>"
      ]
     },
     "metadata": {},
     "output_type": "display_data"
    },
    {
     "data": {
      "image/png": "[encoded data removed]",
      "text/plain": [
       "<Figure size 400x200 with 1 Axes>"
      ]
     },
     "metadata": {},
     "output_type": "display_data"
    },
    {
     "data": {
      "image/png": "[encoded data removed]",
      "text/plain": [
       "<Figure size 400x200 with 1 Axes>"
      ]
     },
     "metadata": {},
     "output_type": "display_data"
    },
    {
     "data": {
      "image/png": "[encoded data removed]",
      "text/plain": [
       "<Figure size 400x200 with 1 Axes>"
      ]
     },
     "metadata": {},
     "output_type": "display_data"
    },
    {
     "data": {
      "image/png": "[encoded data removed]",
      "text/plain": [
       "<Figure size 400x200 with 1 Axes>"
      ]
     },
     "metadata": {},
     "output_type": "display_data"
    },
    {
     "data": {
      "image/png": "[encoded data removed]",
      "text/plain": [
       "<Figure size 400x200 with 1 Axes>"
      ]
     },
     "metadata": {},
     "output_type": "display_data"
    },
    {
     "data": {
      "image/png": "[encoded data removed]",
      "text/plain": [
       "<Figure size 400x200 with 1 Axes>"
      ]
     },
     "metadata": {},
     "output_type": "display_data"
    },
    {
     "data": {
      "image/png": "[encoded data removed]",
      "text/plain": [
       "<Figure size 400x200 with 1 Axes>"
      ]
     },
     "metadata": {},
     "output_type": "display_data"
    },
    {
     "data": {
      "image/png": "[encoded data removed]",
      "text/plain": [
       "<Figure size 400x200 with 1 Axes>"
      ]
     },
     "metadata": {},
     "output_type": "display_data"
    },
    {
     "data": {
      "image/png": "[encoded data removed]",
      "text/plain": [
       "<Figure size 400x200 with 1 Axes>"
      ]
     },
     "metadata": {},
     "output_type": "display_data"
    },
    {
     "data": {
      "image/png": "[encoded data removed]",
      "text/plain": [
       "<Figure size 400x200 with 1 Axes>"
      ]
     },
     "metadata": {},
     "output_type": "display_data"
    },
    {
     "data": {
      "image/png": "[encoded data removed]",
      "text/plain": [
       "<Figure size 400x200 with 1 Axes>"
      ]
     },
     "metadata": {},
     "output_type": "display_data"
    },
    {
     "data": {
      "image/png": "[encoded data removed]",
      "text/plain": [
       "<Figure size 400x200 with 1 Axes>"
      ]
     },
     "metadata": {},
     "output_type": "display_data"
    },
    {
     "data": {
      "image/png": "[encoded data removed]",
      "text/plain": [
       "<Figure size 400x200 with 1 Axes>"
      ]
     },
     "metadata": {},
     "output_type": "display_data"
    }
   ],
   "source": [
    "for col in train.drop(columns='wine_type').columns:\n",
    "    plt.figure(figsize=(4,2))\n",
    "    plt.hist(train[col])\n",
    "    plt.title(col)\n",
    "    plt.show()"
   ]
  },
  {
   "cell_type": "markdown",
   "id": "cf7ece0f",
   "metadata": {},
   "source": [
    "conclusion:\n",
    "\n",
    "    * normal dist -- citrc_acid, density, ph, quality\n",
    "    \n",
    "    * skews to the right -- red_wine, alcohol, sulphates, total_sulfur_dioxide,  free_sulfur_dioxide, cholrides, residual_sugar, volatile_acidity, fixed_acidity\n",
    "    \n",
    "    * The sample has more white wine than red"
   ]
  },
  {
   "cell_type": "markdown",
   "id": "34108981",
   "metadata": {},
   "source": [
    "exploratory Questions:\n",
    "    \n",
    "    - Is there a relationship between citric acid and quality?\n",
    "    - Is there a relationship between density and quality?\n",
    "    - Is there a relationship between ph and quality?\n",
    "    \n",
    "    - residual suger and density \n",
    "    "
   ]
  },
  {
   "cell_type": "markdown",
   "id": "71f5cfbb",
   "metadata": {},
   "source": [
    " # Statistical testing "
   ]
  },
  {
   "cell_type": "code",
   "execution_count": 8,
   "id": "7a7e9b54",
   "metadata": {},
   "outputs": [],
   "source": [
    "def corr_test(train, x_col, y_col):\n",
    "    corr, p = stats.pearsonr(train[x_col], train[y_col])\n",
    "    if p < alpha:\n",
    "        print(\"We reject the null hypothesis\")\n",
    "    else:\n",
    "        print(\"We fail to reject null hypothesis\")\n",
    "    return corr, p\n"
   ]
  },
  {
   "cell_type": "code",
   "execution_count": 9,
   "id": "7926e3a2",
   "metadata": {},
   "outputs": [],
   "source": [
    "# confidence level = 95% \n",
    "alpha = 0.05"
   ]
  },
  {
   "cell_type": "markdown",
   "id": "ac5164aa",
   "metadata": {},
   "source": [
    "$H_o$: There is no linear correlation between 'fixed_acidity' and the 'quality' on the wine.\n",
    "\n",
    "$H_a$: There is a linear relationship between 'fixed_acidity' and the 'quality' on the wine."
   ]
  },
  {
   "cell_type": "code",
   "execution_count": 10,
   "id": "68062793",
   "metadata": {},
   "outputs": [
    {
     "name": "stdout",
     "output_type": "stream",
     "text": [
      "We reject the null hypothesis\n"
     ]
    },
    {
     "data": {
      "text/plain": [
       "(-0.08822036992368139, 1.3981341497492563e-07)"
      ]
     },
     "execution_count": 10,
     "metadata": {},
     "output_type": "execute_result"
    }
   ],
   "source": [
    "corr_test(train, \"fixed_acidity\", \"quality\")"
   ]
  },
  {
   "cell_type": "code",
   "execution_count": 11,
   "id": "aca6443e",
   "metadata": {},
   "outputs": [
    {
     "data": {
      "text/plain": [
       "3551"
      ]
     },
     "execution_count": 11,
     "metadata": {},
     "output_type": "execute_result"
    }
   ],
   "source": [
    "train.fixed_acidity.count() # assume normal"
   ]
  },
  {
   "cell_type": "markdown",
   "id": "c58e7b33",
   "metadata": {},
   "source": [
    "$H_o$: There is no linear correlation between 'volatile_acidity' and the 'quality' on the wine.\n",
    "\n",
    "$H_a$: There is a linear relationship between 'volatile_acidity' and the 'quality' on the wine."
   ]
  },
  {
   "cell_type": "code",
   "execution_count": 12,
   "id": "b804926d",
   "metadata": {},
   "outputs": [
    {
     "name": "stdout",
     "output_type": "stream",
     "text": [
      "We reject the null hypothesis\n"
     ]
    },
    {
     "data": {
      "text/plain": [
       "(-0.25436440766232093, 1.4826931662479373e-53)"
      ]
     },
     "execution_count": 12,
     "metadata": {},
     "output_type": "execute_result"
    }
   ],
   "source": [
    "corr_test(train, \"quality\", \"volatile_acidity\")"
   ]
  },
  {
   "cell_type": "markdown",
   "id": "6412fa65",
   "metadata": {},
   "source": [
    "$H_o$: There is no linear correlation between 'citric_acid' and the 'quality' on the wine.\n",
    "\n",
    "$H_a$: There is a linear relationship between 'citric_acid' and the 'quality' on the wine."
   ]
  },
  {
   "cell_type": "code",
   "execution_count": 13,
   "id": "bda81713",
   "metadata": {},
   "outputs": [
    {
     "name": "stdout",
     "output_type": "stream",
     "text": [
      "We reject the null hypothesis\n"
     ]
    },
    {
     "data": {
      "text/plain": [
       "(0.09442975870663803, 1.7232194389794726e-08)"
      ]
     },
     "execution_count": 13,
     "metadata": {},
     "output_type": "execute_result"
    }
   ],
   "source": [
    "corr_test(train, \"quality\", \"citric_acid\")"
   ]
  },
  {
   "cell_type": "markdown",
   "id": "2ef07b2c",
   "metadata": {},
   "source": [
    "$H_o$: There is no linear correlation between 'residual_sugar' and the 'quality' on the wine.\n",
    "\n",
    "$H_a$: There is a linear relationship between 'residual_sugar' and the 'quality' on the wine."
   ]
  },
  {
   "cell_type": "code",
   "execution_count": 14,
   "id": "050b0c66",
   "metadata": {},
   "outputs": [
    {
     "name": "stdout",
     "output_type": "stream",
     "text": [
      "We reject the null hypothesis\n"
     ]
    },
    {
     "data": {
      "text/plain": [
       "(-0.039262784204291225, 0.01929622637778901)"
      ]
     },
     "execution_count": 14,
     "metadata": {},
     "output_type": "execute_result"
    }
   ],
   "source": [
    "corr_test(train, \"quality\", \"residual_sugar\")"
   ]
  },
  {
   "cell_type": "markdown",
   "id": "94408b13",
   "metadata": {},
   "source": [
    "$H_o$: There is no linear correlation between 'chlorides' and the 'quality' on the wine.\n",
    "\n",
    "$H_a$: There is a linear relationship between 'chlorides' and the 'quality' on the wine."
   ]
  },
  {
   "cell_type": "code",
   "execution_count": 15,
   "id": "7f895bd8",
   "metadata": {},
   "outputs": [
    {
     "name": "stdout",
     "output_type": "stream",
     "text": [
      "We reject the null hypothesis\n"
     ]
    },
    {
     "data": {
      "text/plain": [
       "(-0.255740989628014, 3.88972143863729e-54)"
      ]
     },
     "execution_count": 15,
     "metadata": {},
     "output_type": "execute_result"
    }
   ],
   "source": [
    "corr_test(train, \"quality\", \"chlorides\")"
   ]
  },
  {
   "cell_type": "markdown",
   "id": "4810f791",
   "metadata": {},
   "source": [
    "$H_o$: There is no linear correlation between 'free_sulfur_dioxide' and the 'quality' on the wine.\n",
    "\n",
    "$H_a$: There is a linear relationship between 'free_sulfur_dioxide' and the 'quality' on the wine."
   ]
  },
  {
   "cell_type": "code",
   "execution_count": 16,
   "id": "afcca291",
   "metadata": {},
   "outputs": [
    {
     "name": "stdout",
     "output_type": "stream",
     "text": [
      "We reject the null hypothesis\n"
     ]
    },
    {
     "data": {
      "text/plain": [
       "(0.07177163820187438, 1.8613337386911702e-05)"
      ]
     },
     "execution_count": 16,
     "metadata": {},
     "output_type": "execute_result"
    }
   ],
   "source": [
    "corr_test(train, \"quality\", \"free_sulfur_dioxide\")"
   ]
  },
  {
   "cell_type": "markdown",
   "id": "4e013592",
   "metadata": {},
   "source": [
    "$H_o$: There is no linear correlation between 'total_sulfur_dioxide' and the 'quality' on the wine.\n",
    "\n",
    "$H_a$: There is a linear relationship between 'total_sulfur_dioxide' and the 'quality' on the wine."
   ]
  },
  {
   "cell_type": "code",
   "execution_count": 17,
   "id": "4cc72d95",
   "metadata": {},
   "outputs": [
    {
     "name": "stdout",
     "output_type": "stream",
     "text": [
      "We reject the null hypothesis\n"
     ]
    },
    {
     "data": {
      "text/plain": [
       "(-0.04851320268799618, 0.003832861981018334)"
      ]
     },
     "execution_count": 17,
     "metadata": {},
     "output_type": "execute_result"
    }
   ],
   "source": [
    "corr_test(train, \"quality\", \"total_sulfur_dioxide\")"
   ]
  },
  {
   "cell_type": "markdown",
   "id": "fa5d91db",
   "metadata": {},
   "source": [
    "$H_o$: There is no linear correlation between 'density' and the 'quality' on the wine.\n",
    "\n",
    "$H_a$: There is a linear relationship between 'density' and the 'quality' on the wine."
   ]
  },
  {
   "cell_type": "code",
   "execution_count": 18,
   "id": "b5383a26",
   "metadata": {},
   "outputs": [
    {
     "name": "stdout",
     "output_type": "stream",
     "text": [
      "We reject the null hypothesis\n"
     ]
    },
    {
     "data": {
      "text/plain": [
       "(-0.32533615329159615, 2.4930044640584615e-88)"
      ]
     },
     "execution_count": 18,
     "metadata": {},
     "output_type": "execute_result"
    }
   ],
   "source": [
    "corr_test(train, \"quality\", \"density\")"
   ]
  },
  {
   "cell_type": "markdown",
   "id": "9681c01c",
   "metadata": {},
   "source": [
    "$H_o$: There is no linear correlation between 'ph' and the 'quality' on the wine.\n",
    "\n",
    "$H_a$: There is a linear relationship between 'ph' and the 'quality' on the wine."
   ]
  },
  {
   "cell_type": "code",
   "execution_count": 19,
   "id": "7b095281",
   "metadata": {},
   "outputs": [
    {
     "name": "stdout",
     "output_type": "stream",
     "text": [
      "We fail to reject null hypothesis\n"
     ]
    },
    {
     "data": {
      "text/plain": [
       "(0.0191897097661445, 0.2529461804358926)"
      ]
     },
     "execution_count": 19,
     "metadata": {},
     "output_type": "execute_result"
    }
   ],
   "source": [
    "corr_test(train, \"quality\", \"ph\")"
   ]
  },
  {
   "cell_type": "markdown",
   "id": "ee94f084",
   "metadata": {},
   "source": [
    "$H_o$: There is no linear correlation between 'sulphates' and the 'quality' on the wine.\n",
    "\n",
    "$H_a$: There is a linear relationship between 'sulphates' and the 'quality' on the wine."
   ]
  },
  {
   "cell_type": "code",
   "execution_count": 20,
   "id": "995dca89",
   "metadata": {},
   "outputs": [
    {
     "name": "stdout",
     "output_type": "stream",
     "text": [
      "We reject the null hypothesis\n"
     ]
    },
    {
     "data": {
      "text/plain": [
       "(0.05011381191862115, 0.0028161827425560917)"
      ]
     },
     "execution_count": 20,
     "metadata": {},
     "output_type": "execute_result"
    }
   ],
   "source": [
    "corr_test(train, \"quality\", \"sulphates\")"
   ]
  },
  {
   "cell_type": "markdown",
   "id": "95de8381",
   "metadata": {},
   "source": [
    "$H_o$: There is no linear correlation between 'alcohol' and the 'quality' on the wine.\n",
    "\n",
    "$H_a$: There is a linear relationship between 'alcohol' and the 'quality' on the wine."
   ]
  },
  {
   "cell_type": "code",
   "execution_count": 21,
   "id": "31615f82",
   "metadata": {},
   "outputs": [
    {
     "name": "stdout",
     "output_type": "stream",
     "text": [
      "We reject the null hypothesis\n"
     ]
    },
    {
     "data": {
      "text/plain": [
       "(0.46815600128849943, 6.273115230952022e-193)"
      ]
     },
     "execution_count": 21,
     "metadata": {},
     "output_type": "execute_result"
    }
   ],
   "source": [
    "corr_test(train, \"quality\", \"alcohol\")"
   ]
  },
  {
   "cell_type": "markdown",
   "id": "f66e6451",
   "metadata": {},
   "source": [
    "$H_o$: There is no linear correlation between 'wine_type' and the 'quality' on the wine.\n",
    "\n",
    "$H_a$: There is a linear relationship between 'wine_type' and the 'quality' on the wine."
   ]
  },
  {
   "cell_type": "code",
   "execution_count": 22,
   "id": "f8fb0c1a",
   "metadata": {},
   "outputs": [
    {
     "name": "stdout",
     "output_type": "stream",
     "text": [
      "We reject the null hypothesis\n"
     ]
    },
    {
     "data": {
      "text/plain": [
       "(-0.11924404926946276, 1.012987124737191e-12)"
      ]
     },
     "execution_count": 22,
     "metadata": {},
     "output_type": "execute_result"
    }
   ],
   "source": [
    "corr_test(train, \"quality\", \"red_wine\")"
   ]
  },
  {
   "cell_type": "markdown",
   "id": "10575b29",
   "metadata": {},
   "source": [
    "train.columns"
   ]
  },
  {
   "cell_type": "code",
   "execution_count": 23,
   "id": "cfe7cb78",
   "metadata": {},
   "outputs": [],
   "source": [
    "def ind_test(samp1, samp2, alpha=0.05):\n",
    "    '''\n",
    "    Completes an sample t-test, based on the null hypothesis less than\n",
    "    '''\n",
    "    t, p = stats.ttest_ind(samp1, samp2, equal_var=False)\n",
    "\n",
    "    if p/2 < alpha and t > 0 :\n",
    "        print(f'''Reject the null hypothesis: Sufficient''')\n",
    "    else:\n",
    "        print(f''' Fail to reject the null: Insufficient evidence''')\n",
    "    print(f\" p-value: {p} , t: {t}\")\n",
    "\n"
   ]
  },
  {
   "cell_type": "code",
   "execution_count": 24,
   "id": "365affc0",
   "metadata": {},
   "outputs": [],
   "source": [
    "# Does low quality wine have more residual suger or less when compared to high quality wine?"
   ]
  },
  {
   "cell_type": "markdown",
   "id": "298d35bb",
   "metadata": {},
   "source": [
    "$H_o$: Mean of 'residual_sugar' for low quality wines <= Mean of 'residual_sugar' for high quality wines\n",
    "\n",
    "$H_a$: Mean of 'residual_sugar' for low quality wines > Mean of 'residual_sugar' for high quality wines"
   ]
  },
  {
   "cell_type": "code",
   "execution_count": 25,
   "id": "169788f7",
   "metadata": {},
   "outputs": [],
   "source": [
    "low_quality = train[train.quality_type == 'low'].residual_sugar\n",
    "\n",
    "high_quality = train[train.quality_type == 'high'].residual_sugar"
   ]
  },
  {
   "cell_type": "code",
   "execution_count": 26,
   "id": "481865b2",
   "metadata": {},
   "outputs": [
    {
     "name": "stderr",
     "output_type": "stream",
     "text": [
      "No artists with labels found to put in legend.  Note that artists whose label start with an underscore are ignored when legend() is called with no argument.\n"
     ]
    },
    {
     "data": {
      "text/plain": [
       "<matplotlib.legend.Legend at 0x7fe40666a160>"
      ]
     },
     "execution_count": 26,
     "metadata": {},
     "output_type": "execute_result"
    },
    {
     "data": {
      "image/png": "[encoded data removed]",
      "text/plain": [
       "<Figure size 640x480 with 1 Axes>"
      ]
     },
     "metadata": {},
     "output_type": "display_data"
    }
   ],
   "source": [
    "high_quality.hist()\n",
    "low_quality.hist()\n",
    "plt.legend()"
   ]
  },
  {
   "cell_type": "code",
   "execution_count": 27,
   "id": "7c847df9",
   "metadata": {},
   "outputs": [],
   "source": [
    "def sugar_barplot(df):\n",
    "    '''\n",
    "    This function creates a custom bar chart for comparing homes with pools and homes without pools\n",
    "    '''\n",
    "    fig, ax =plt.subplots()\n",
    "    # creat average line\n",
    "  \n",
    "    \n",
    "    plt.title(\"Low Quality Wine has More Sugar\")\n",
    "    sns.barplot(x=\"quality_type\", y=\"residual_sugar\", data=df, hue='wine_type')\n",
    "    plt.xlabel(\"Quality\")\n",
    "    plt.ylabel(\"Amount of Sugar\")\n",
    "    tick_label = [\"Low\", \"High\"]\n",
    "    ax.set_xticklabels(tick_label)\n",
    "    property_value_average = df.residual_sugar.mean()\n",
    "    plt.axhline(property_value_average, label=\"Residual Sugar Average\", color='DarkSlateBlue')\n",
    "    plt.legend(loc='upper right')\n",
    "    plt.show()"
   ]
  },
  {
   "cell_type": "code",
   "execution_count": 28,
   "id": "eac7d0b5",
   "metadata": {},
   "outputs": [
    {
     "data": {
      "image/png": "[encoded data removed]",
      "text/plain": [
       "<Figure size 640x480 with 1 Axes>"
      ]
     },
     "metadata": {},
     "output_type": "display_data"
    }
   ],
   "source": [
    "sugar_barplot(train)"
   ]
  },
  {
   "cell_type": "code",
   "execution_count": 29,
   "id": "5893bb9a",
   "metadata": {},
   "outputs": [
    {
     "data": {
      "text/plain": [
       "(23.96522499956499, 20.619943637586797)"
      ]
     },
     "execution_count": 29,
     "metadata": {},
     "output_type": "execute_result"
    }
   ],
   "source": [
    "low_quality.var(), high_quality.var()"
   ]
  },
  {
   "cell_type": "code",
   "execution_count": 30,
   "id": "88842d4c",
   "metadata": {},
   "outputs": [
    {
     "name": "stdout",
     "output_type": "stream",
     "text": [
      "Reject the null hypothesis: Sufficient\n",
      " p-value: 0.015019749218448116 , t: 2.433613307341986\n"
     ]
    }
   ],
   "source": [
    "ind_test(low_quality, high_quality)"
   ]
  },
  {
   "cell_type": "markdown",
   "id": "25ac8b9c",
   "metadata": {},
   "source": [
    "$H_o$: Mean of 'density' for low quality wines <= Mean of 'residual_sugar' for high quality wines\n",
    "\n",
    "$H_a$: Mean of 'density' for low quality wines > Mean of 'residual_sugar' for high quality wines"
   ]
  },
  {
   "cell_type": "code",
   "execution_count": 31,
   "id": "f5aebd44",
   "metadata": {},
   "outputs": [],
   "source": [
    "red = train[train['wine_type'] == \"red\"]\n",
    "white = train[train['wine_type'] == \"white\"]"
   ]
  },
  {
   "cell_type": "markdown",
   "id": "50baf177",
   "metadata": {},
   "source": [
    "$H_o$: wine type is independent of quality type\n",
    "\n",
    "$H_a$: wine type is dependent of quality type"
   ]
  },
  {
   "cell_type": "code",
   "execution_count": 32,
   "id": "32b28cdc",
   "metadata": {},
   "outputs": [],
   "source": [
    "observed = pd.crosstab(train.wine_type, train.quality_type)"
   ]
  },
  {
   "cell_type": "code",
   "execution_count": 33,
   "id": "c9fbb0cd",
   "metadata": {},
   "outputs": [
    {
     "data": {
      "text/plain": [
       "2.3495044521689558e-12"
      ]
     },
     "execution_count": 33,
     "metadata": {},
     "output_type": "execute_result"
    }
   ],
   "source": [
    "chi2, p, degf, expected = stats.chi2_contingency(observed)\n",
    "p\n"
   ]
  },
  {
   "cell_type": "code",
   "execution_count": 34,
   "id": "1a5134a1",
   "metadata": {},
   "outputs": [],
   "source": [
    "def eval_results(p, alpha, group1, group2):\n",
    "    '''\n",
    "    this function will take in the p-value, alpha, and a name for the 2 variables \n",
    "    you are comparing (group 1 and group 2)\n",
    "    '''\n",
    "    if p < alpha:\n",
    "        print(f'There exists some relationship between {group1} and the {group2}. (p-value: {p})')\n",
    "    else:\n",
    "        print(f'There is not a significant relationship between {group1} and {group2}. (p-value: {p})')"
   ]
  },
  {
   "cell_type": "code",
   "execution_count": 35,
   "id": "5aecbc39",
   "metadata": {},
   "outputs": [
    {
     "name": "stdout",
     "output_type": "stream",
     "text": [
      "There exists some relationship between 1961    white\n",
      "3624    white\n",
      "216     white\n",
      "657     white\n",
      "1571    white\n",
      "        ...  \n",
      "1125    white\n",
      "994     white\n",
      "3813    white\n",
      "4429    white\n",
      "3234    white\n",
      "Name: wine_type, Length: 3551, dtype: object and the 1961     low\n",
      "3624    high\n",
      "216      low\n",
      "657      low\n",
      "1571    high\n",
      "        ... \n",
      "1125    high\n",
      "994     high\n",
      "3813     low\n",
      "4429    high\n",
      "3234    high\n",
      "Name: quality_type, Length: 3551, dtype: object. (p-value: 2.3495044521689558e-12)\n"
     ]
    }
   ],
   "source": [
    "eval_results(p, alpha, train.wine_type, train.quality_type)"
   ]
  },
  {
   "cell_type": "code",
   "execution_count": 36,
   "id": "4148d92e",
   "metadata": {},
   "outputs": [],
   "source": [
    "\n",
    "def train_heat(train):\n",
    "    '''\n",
    "    Creates a heatmap of the variables within the zillow dataset\n",
    "    '''\n",
    "\n",
    "    # Increase the figure size to accommodate the heatmap\n",
    "    plt.figure(figsize=(10, 8))\n",
    "    # Correlation heat map\n",
    "    sns.heatmap(train.corr(method='pearson'), cmap='YlGnBu', annot=True, fmt=\".2f\",\n",
    "                mask=np.triu(train.corr(method='pearson')))\n",
    "    # Adjust the font size of the annotations\n",
    "    plt.yticks(fontsize=8)\n",
    "    plt.xticks(fontsize=8)\n",
    "    # Show the plot\n",
    "    \n",
    "    plt.show()"
   ]
  },
  {
   "cell_type": "code",
   "execution_count": 37,
   "id": "40f73d34",
   "metadata": {},
   "outputs": [
    {
     "data": {
      "image/png": "[encoded data removed]",
      "text/plain": [
       "<Figure size 1000x800 with 2 Axes>"
      ]
     },
     "metadata": {},
     "output_type": "display_data"
    }
   ],
   "source": [
    "train_heat(train[['quality', 'fixed_acidity', 'volatile_acidity', 'citric_acid', 'residual_sugar',\n",
    "       'chlorides', 'free_sulfur_dioxide', 'total_sulfur_dioxide', 'density',\n",
    "       'ph', 'sulphates', 'alcohol']])"
   ]
  },
  {
   "cell_type": "code",
   "execution_count": null,
   "id": "83b01548",
   "metadata": {},
   "outputs": [],
   "source": [
    "# correlation between train.total_sulfur_dioxide, train.chlorides\n",
    "corr2, p2 = stats.pearsonr(train.total_sulfur_dioxide, train.chlorides)"
   ]
  },
  {
   "cell_type": "code",
   "execution_count": 38,
   "id": "6067e913",
   "metadata": {},
   "outputs": [],
   "source": [
    "def tsd_chlorides_relplot(df):\n",
    "    '''\n",
    "    Creates a relplot for input variables within the given dataset\n",
    "    '''\n",
    "    sns.set(style=\"white\")\n",
    "    # Create scatter plot\n",
    "    sns.set_palette(\"pastel\")\n",
    "    ax = sns.relplot(x=\"chlorides\", y=\"total_sulfur_dioxide\", data=df, hue=\"quality_type\")\n",
    "\n",
    "    # Add regression line\n",
    "    sns.regplot(x=\"chlorides\", y=\"total_sulfur_dioxide\", data=df, scatter=False, color='DarkSlateBlue')\n",
    "    # ax.fig.suptitle(title, fontsize=10)\n",
    "    plt.xlabel(\"Chlorides\")\n",
    "    plt.title(\"Relationship Chlorides and Total Sulfur Dioxide\")\n",
    "    plt.ylabel(\"Total Sulfur Dioxide\")\n",
    "    plt.show()"
   ]
  },
  {
   "cell_type": "markdown",
   "id": "f9f92754",
   "metadata": {},
   "source": [
    "# citric acid in red win"
   ]
  },
  {
   "cell_type": "code",
   "execution_count": 39,
   "id": "f765dae4",
   "metadata": {},
   "outputs": [],
   "source": [
    "def citric_barplot(df):\n",
    "    '''\n",
    "    This function creates a custom bar chart for comparing homes with pools and homes without pools\n",
    "    '''\n",
    "    fig, ax =plt.subplots()\n",
    "    # creat average line\n",
    "  \n",
    "    \n",
    "    plt.title(\"Higher Quality Wine has More Citric Acid \")\n",
    "    sns.barplot(x=\"quality_type\", y=\"citric_acid\", data=df, hue=\"red_wine\")\n",
    "    plt.xlabel(\"Quality\")\n",
    "    plt.ylabel(\"Amount of Citric Acid\")\n",
    "    tick_label = [\"Low\", \"High\"]\n",
    "    ax.set_xticklabels(tick_label)\n",
    "    property_value_average = df.citric_acid.mean()\n",
    "    plt.axhline(property_value_average, label=\"citric_acid\", color='DarkSlateBlue')\n",
    "    plt.legend()\n",
    "    plt.show()"
   ]
  },
  {
   "cell_type": "code",
   "execution_count": 40,
   "id": "9902d0f2",
   "metadata": {},
   "outputs": [
    {
     "data": {
      "image/png": "[encoded data removed]",
      "text/plain": [
       "<Figure size 640x480 with 1 Axes>"
      ]
     },
     "metadata": {},
     "output_type": "display_data"
    }
   ],
   "source": [
    "citric_barplot(train)"
   ]
  },
  {
   "cell_type": "markdown",
   "id": "9017e720",
   "metadata": {},
   "source": [
    "observation:\n",
    "    * red wine with more citric acid is higher quality\n",
    "    * white wine doesn't differ much in quality and has more red wine \n",
    "    \n",
    "null h: That high quality red wine is less than or equal to citric acid  compared to low quality red wine\n",
    "     That high quality red wine has greater than to citric acid  compared to low quality red wine"
   ]
  },
  {
   "cell_type": "code",
   "execution_count": 42,
   "id": "dcfd3aae",
   "metadata": {},
   "outputs": [
    {
     "data": {
      "text/plain": [
       "LeveneResult(statistic=8.051403669742955, pvalue=0.004667153544702737)"
      ]
     },
     "execution_count": 42,
     "metadata": {},
     "output_type": "execute_result"
    }
   ],
   "source": [
    "# create subset for red wine with high vs low quality\n",
    "red_high_subset = train[train.red_wine == 1]\n",
    "red_low_subset = train[train.red_wine == 1]\n",
    "red_high_subset = red_high_subset[red_high_subset.quality_type == \"high\"].citric_acid\n",
    "red_low_subset = red_low_subset[red_low_subset.quality_type == \"low\"].citric_acid\n",
    "\n",
    "stats.levene(red_high_subset, red_low_subset)"
   ]
  },
  {
   "cell_type": "code",
   "execution_count": 43,
   "id": "d43b321c",
   "metadata": {},
   "outputs": [
    {
     "ename": "NameError",
     "evalue": "name 'e' is not defined",
     "output_type": "error",
     "traceback": [
      "\u001b[0;31m---------------------------------------------------------------------------\u001b[0m",
      "\u001b[0;31mNameError\u001b[0m                                 Traceback (most recent call last)",
      "\u001b[0;32m/var/folders/bf/lhpb5n_j1xj4msxy6nrm9h7h0000gn/T/ipykernel_3682/1779802378.py\u001b[0m in \u001b[0;36m<module>\u001b[0;34m\u001b[0m\n\u001b[0;32m----> 1\u001b[0;31m \u001b[0me\u001b[0m\u001b[0;34m.\u001b[0m\u001b[0mind_var_test\u001b[0m\u001b[0;34m(\u001b[0m\u001b[0mred_high_subset\u001b[0m\u001b[0;34m,\u001b[0m \u001b[0mred_low_subset\u001b[0m\u001b[0;34m)\u001b[0m\u001b[0;34m\u001b[0m\u001b[0;34m\u001b[0m\u001b[0m\n\u001b[0m",
      "\u001b[0;31mNameError\u001b[0m: name 'e' is not defined"
     ]
    }
   ],
   "source": [
    "e.ind_var_test(red_high_subset, red_low_subset)"
   ]
  },
  {
   "cell_type": "code",
   "execution_count": 57,
   "id": "2a84fddc",
   "metadata": {},
   "outputs": [],
   "source": [
    "# create column that lst red wine with high citric acid\n",
    "red_wine_mean_citric_acid = train[train.red_wine == 1].citric_acid.mean()\n",
    "train['high_citric'] = (train.red_wine == 1) & (train.citric_acid > red_wine_mean_citric_acid)\n",
    "train['high_citric'] = train['high_citric'].astype(int)"
   ]
  },
  {
   "cell_type": "code",
   "execution_count": 39,
   "id": "3e94a340",
   "metadata": {},
   "outputs": [],
   "source": [
    "def citric_barplot(df):\n",
    "    '''\n",
    "    This function creates a custom bar chart for comparing homes with pools and homes without pools\n",
    "    '''\n",
    "    fig, ax =plt.subplots()\n",
    "    # creat average line\n",
    "  \n",
    "    \n",
    "    plt.title(\"Higher Quality Wine has More Citric Acid \")\n",
    "    sns.barplot(x=\"quality_type\", y=\"citric_acid\", data=df, hue=\"red_wine\")\n",
    "    plt.xlabel(\"Quality\")\n",
    "    plt.ylabel(\"Amount of Citric Acid\")\n",
    "    tick_label = [\"Low\", \"High\"]\n",
    "    ax.set_xticklabels(tick_label)\n",
    "    property_value_average = df.citric_acid.mean()\n",
    "    plt.axhline(property_value_average, label=\"citric_acid\", color='DarkSlateBlue')\n",
    "    plt.legend()\n",
    "    plt.show()"
   ]
  },
  {
   "cell_type": "code",
   "execution_count": 40,
   "id": "76b9f16c",
   "metadata": {},
   "outputs": [
    {
     "data": {
      "image/png": "[encoded data removed]",
      "text/plain": [
       "<Figure size 640x480 with 1 Axes>"
      ]
     },
     "metadata": {},
     "output_type": "display_data"
    }
   ],
   "source": [
    "citric_barplot(train)"
   ]
  },
  {
   "cell_type": "markdown",
   "id": "ade5c493",
   "metadata": {},
   "source": [
    "observation:\n",
    "    * red wine with more citric acid is higher quality\n",
    "    * white wine doesn't differ much in quality and has more red wine \n",
    "    \n",
    "null h: That high quality red wine is less than or equal to citric acid  compared to low quality red wine\n",
    "     That high quality red wine has greater than to citric acid  compared to low quality red wine"
   ]
  },
  {
   "cell_type": "code",
   "execution_count": 42,
   "id": "49096bbf",
   "metadata": {},
   "outputs": [
    {
     "data": {
      "text/plain": [
       "LeveneResult(statistic=8.051403669742955, pvalue=0.004667153544702737)"
      ]
     },
     "execution_count": 42,
     "metadata": {},
     "output_type": "execute_result"
    }
   ],
   "source": [
    "# create subset for red wine with high vs low quality\n",
    "red_high_subset = train[train.red_wine == 1]\n",
    "red_low_subset = train[train.red_wine == 1]\n",
    "red_high_subset = red_high_subset[red_high_subset.quality_type == \"high\"].citric_acid\n",
    "red_low_subset = red_low_subset[red_low_subset.quality_type == \"low\"].citric_acid\n",
    "\n",
    "stats.levene(red_high_subset, red_low_subset)"
   ]
  },
  {
   "cell_type": "code",
   "execution_count": 43,
   "id": "1ee8802b",
   "metadata": {},
   "outputs": [
    {
     "ename": "NameError",
     "evalue": "name 'e' is not defined",
     "output_type": "error",
     "traceback": [
      "\u001b[0;31m---------------------------------------------------------------------------\u001b[0m",
      "\u001b[0;31mNameError\u001b[0m                                 Traceback (most recent call last)",
      "\u001b[0;32m/var/folders/bf/lhpb5n_j1xj4msxy6nrm9h7h0000gn/T/ipykernel_3682/1779802378.py\u001b[0m in \u001b[0;36m<module>\u001b[0;34m\u001b[0m\n\u001b[0;32m----> 1\u001b[0;31m \u001b[0me\u001b[0m\u001b[0;34m.\u001b[0m\u001b[0mind_var_test\u001b[0m\u001b[0;34m(\u001b[0m\u001b[0mred_high_subset\u001b[0m\u001b[0;34m,\u001b[0m \u001b[0mred_low_subset\u001b[0m\u001b[0;34m)\u001b[0m\u001b[0;34m\u001b[0m\u001b[0;34m\u001b[0m\u001b[0m\n\u001b[0m",
      "\u001b[0;31mNameError\u001b[0m: name 'e' is not defined"
     ]
    }
   ],
   "source": [
    "e.ind_var_test(red_high_subset, red_low_subset)"
   ]
  },
  {
   "cell_type": "code",
   "execution_count": 44,
   "id": "9999fafd",
   "metadata": {},
   "outputs": [],
   "source": [
    "# create column that lst red wine with high citric acid\n",
    "red_wine_mean_citric_acid = train[train.red_wine == 1].citric_acid.mean()\n",
    "train['high_citric'] = (train.red_wine == 1) & (train.citric_acid > red_wine_mean_citric_acid)\n",
    "train['high_citric'] = train['high_citric'].astype(int)"
   ]
  },
  {
   "cell_type": "code",
   "execution_count": null,
   "id": "b8f3d839",
   "metadata": {},
   "outputs": [],
   "source": []
  },
  {
   "cell_type": "code",
   "execution_count": null,
   "id": "ba9fc655",
   "metadata": {},
   "outputs": [],
   "source": []
  },
  {
   "cell_type": "markdown",
   "id": "b473505d",
   "metadata": {},
   "source": [
    "# Does low quality wine have more volatile acidity or less when compared to high quality wine?"
   ]
  },
  {
   "cell_type": "markdown",
   "id": "c17d5251",
   "metadata": {},
   "source": [
    "$H_o$: Mean of 'volatile_acidity' for low quality wines <= Mean of 'volatile_acidity' for high quality wines\n",
    "\n",
    "$H_a$: Mean of 'volatile_acidity' for low quality wines > Mean of 'volatile_acidity' for high quality wines"
   ]
  },
  {
   "cell_type": "code",
   "execution_count": 48,
   "id": "27b508e0",
   "metadata": {},
   "outputs": [],
   "source": [
    "def volatile_barplot(df):\n",
    "    '''\n",
    "    This function creates a custom bar chart for comparing homes with pools and homes without pools\n",
    "    '''\n",
    "    fig, ax =plt.subplots()\n",
    "    # creat average line\n",
    "  \n",
    "    \n",
    "    plt.title(\"Low Quality Wine has More volatile_acidity\")\n",
    "    sns.barplot(x=\"quality_type\", y=\"volatile_acidity\", data=df, hue='wine_type')\n",
    "    plt.xlabel(\"Quality\")\n",
    "    plt.ylabel(\"Amount of Volatile Acidity\")\n",
    "    tick_label = [\"Low\", \"High\"]\n",
    "    ax.set_xticklabels(tick_label)\n",
    "    property_value_average = df.volatile_acidity.mean()\n",
    "    plt.axhline(property_value_average, label=\"Volatile Acidity Average\", color='DarkSlateBlue')\n",
    "    plt.legend(loc='upper right')\n",
    "    plt.show()"
   ]
  },
  {
   "cell_type": "code",
   "execution_count": 51,
   "id": "615c9fea",
   "metadata": {},
   "outputs": [
    {
     "data": {
      "image/png": "[encoded data removed]",
      "text/plain": [
       "<Figure size 640x480 with 1 Axes>"
      ]
     },
     "metadata": {},
     "output_type": "display_data"
    }
   ],
   "source": [
    "volatile_barplot(train)"
   ]
  },
  {
   "cell_type": "markdown",
   "id": "ba6a9336",
   "metadata": {},
   "source": [
    "observation:\n",
    "    * high quality wine has less volatile acidity    "
   ]
  },
  {
   "cell_type": "code",
   "execution_count": null,
   "id": "f8837628",
   "metadata": {},
   "outputs": [],
   "source": [
    "volatile_low_quality = train[train.quality_type == 'low'].volatile_acidity\n",
    "\n",
    "volatile_high_quality = train[train.quality_type == 'high'].volatile_acidity"
   ]
  },
  {
   "cell_type": "code",
   "execution_count": 53,
   "id": "954892b6",
   "metadata": {},
   "outputs": [
    {
     "data": {
      "text/plain": [
       "LeveneResult(statistic=104.77562443473862, pvalue=2.9627101513233664e-24)"
      ]
     },
     "execution_count": 53,
     "metadata": {},
     "output_type": "execute_result"
    }
   ],
   "source": [
    "stats.levene(volatile_low_quality, volatile_high_quality)"
   ]
  },
  {
   "cell_type": "code",
   "execution_count": 56,
   "id": "9eaf02ee",
   "metadata": {},
   "outputs": [
    {
     "name": "stdout",
     "output_type": "stream",
     "text": [
      "Reject the null hypothesis: Sufficient\n",
      " p-value: 8.172040139271046e-61 , t: 16.77148917796174\n"
     ]
    }
   ],
   "source": [
    "import keila_explore as e\n",
    "e.ind_var_test(volatile_low_quality, volatile_high_quality)"
   ]
  },
  {
   "cell_type": "markdown",
   "id": "f3b9b215",
   "metadata": {},
   "source": [
    "**We rejected the null hypothesis, therfore, we have evidence to support that the average amount of volatile acidity in low quality wine is greater than the average amount of volatile acidity in high quality wine. Based on this, I believe that using the 'volatile_acidity' feature in modeling will have a small positive impact on the model's accuracy.**"
   ]
  },
  {
   "cell_type": "code",
   "execution_count": 58,
   "id": "2ba81af4",
   "metadata": {},
   "outputs": [],
   "source": [
    "def high_citric_col(train, validate, test):\n",
    "    red_wine_mean_citric_acid = train[train.red_wine == 1].citric_acid.mean()\n",
    "    # add to train\n",
    "    train['high_citric'] = (train.red_wine == 1) & (train.citric_acid > red_wine_mean_citric_acid)\n",
    "    train['high_citric'] = train['high_citric'].astype(int)\n",
    "    # add validate\n",
    "    validate['high_citric'] = (validate.red_wine == 1) & (validate.citric_acid > red_wine_mean_citric_acid)\n",
    "    validate['high_citric'] = validate['high_citric'].astype(int)\n",
    "    # add test\n",
    "    test['high_citric'] = (test.red_wine == 1) & (test.citric_acid > red_wine_mean_citric_acid)\n",
    "    test['high_citric'] = test['high_citric'].astype(int)"
   ]
  },
  {
   "cell_type": "code",
   "execution_count": 59,
   "id": "a1f86049",
   "metadata": {},
   "outputs": [],
   "source": [
    "high_citric_col(train, validate, test)"
   ]
  },
  {
   "cell_type": "code",
   "execution_count": 62,
   "id": "f880bdba",
   "metadata": {},
   "outputs": [
    {
     "data": {
      "text/html": [
       "<div>\n",
       "<style scoped>\n",
       "    .dataframe tbody tr th:only-of-type {\n",
       "        vertical-align: middle;\n",
       "    }\n",
       "\n",
       "    .dataframe tbody tr th {\n",
       "        vertical-align: top;\n",
       "    }\n",
       "\n",
       "    .dataframe thead th {\n",
       "        text-align: right;\n",
       "    }\n",
       "</style>\n",
       "<table border=\"1\" class=\"dataframe\">\n",
       "  <thead>\n",
       "    <tr style=\"text-align: right;\">\n",
       "      <th></th>\n",
       "      <th>fixed_acidity</th>\n",
       "      <th>volatile_acidity</th>\n",
       "      <th>citric_acid</th>\n",
       "      <th>residual_sugar</th>\n",
       "      <th>chlorides</th>\n",
       "      <th>free_sulfur_dioxide</th>\n",
       "      <th>total_sulfur_dioxide</th>\n",
       "      <th>density</th>\n",
       "      <th>ph</th>\n",
       "      <th>sulphates</th>\n",
       "      <th>alcohol</th>\n",
       "      <th>quality</th>\n",
       "      <th>red_wine</th>\n",
       "      <th>wine_type</th>\n",
       "      <th>quality_type</th>\n",
       "      <th>high_citric</th>\n",
       "    </tr>\n",
       "  </thead>\n",
       "  <tbody>\n",
       "    <tr>\n",
       "      <th>398</th>\n",
       "      <td>5.9</td>\n",
       "      <td>0.26</td>\n",
       "      <td>0.27</td>\n",
       "      <td>18.2</td>\n",
       "      <td>0.048</td>\n",
       "      <td>52.0</td>\n",
       "      <td>168.0</td>\n",
       "      <td>0.99930</td>\n",
       "      <td>3.35</td>\n",
       "      <td>0.44</td>\n",
       "      <td>9.4</td>\n",
       "      <td>5</td>\n",
       "      <td>0</td>\n",
       "      <td>white</td>\n",
       "      <td>low</td>\n",
       "      <td>0</td>\n",
       "    </tr>\n",
       "    <tr>\n",
       "      <th>4089</th>\n",
       "      <td>6.8</td>\n",
       "      <td>0.27</td>\n",
       "      <td>0.24</td>\n",
       "      <td>4.6</td>\n",
       "      <td>0.098</td>\n",
       "      <td>36.0</td>\n",
       "      <td>127.0</td>\n",
       "      <td>0.99412</td>\n",
       "      <td>3.15</td>\n",
       "      <td>0.49</td>\n",
       "      <td>9.6</td>\n",
       "      <td>6</td>\n",
       "      <td>0</td>\n",
       "      <td>white</td>\n",
       "      <td>high</td>\n",
       "      <td>0</td>\n",
       "    </tr>\n",
       "    <tr>\n",
       "      <th>3051</th>\n",
       "      <td>7.5</td>\n",
       "      <td>0.33</td>\n",
       "      <td>0.38</td>\n",
       "      <td>8.7</td>\n",
       "      <td>0.126</td>\n",
       "      <td>49.0</td>\n",
       "      <td>199.0</td>\n",
       "      <td>0.99711</td>\n",
       "      <td>2.98</td>\n",
       "      <td>0.57</td>\n",
       "      <td>9.4</td>\n",
       "      <td>5</td>\n",
       "      <td>0</td>\n",
       "      <td>white</td>\n",
       "      <td>low</td>\n",
       "      <td>0</td>\n",
       "    </tr>\n",
       "    <tr>\n",
       "      <th>4250</th>\n",
       "      <td>6.7</td>\n",
       "      <td>0.11</td>\n",
       "      <td>0.26</td>\n",
       "      <td>14.8</td>\n",
       "      <td>0.053</td>\n",
       "      <td>44.0</td>\n",
       "      <td>95.0</td>\n",
       "      <td>0.99676</td>\n",
       "      <td>3.20</td>\n",
       "      <td>0.35</td>\n",
       "      <td>9.8</td>\n",
       "      <td>6</td>\n",
       "      <td>0</td>\n",
       "      <td>white</td>\n",
       "      <td>high</td>\n",
       "      <td>0</td>\n",
       "    </tr>\n",
       "    <tr>\n",
       "      <th>309</th>\n",
       "      <td>7.4</td>\n",
       "      <td>0.29</td>\n",
       "      <td>0.38</td>\n",
       "      <td>1.7</td>\n",
       "      <td>0.062</td>\n",
       "      <td>9.0</td>\n",
       "      <td>30.0</td>\n",
       "      <td>0.99680</td>\n",
       "      <td>3.41</td>\n",
       "      <td>0.53</td>\n",
       "      <td>9.5</td>\n",
       "      <td>6</td>\n",
       "      <td>1</td>\n",
       "      <td>red</td>\n",
       "      <td>high</td>\n",
       "      <td>1</td>\n",
       "    </tr>\n",
       "    <tr>\n",
       "      <th>...</th>\n",
       "      <td>...</td>\n",
       "      <td>...</td>\n",
       "      <td>...</td>\n",
       "      <td>...</td>\n",
       "      <td>...</td>\n",
       "      <td>...</td>\n",
       "      <td>...</td>\n",
       "      <td>...</td>\n",
       "      <td>...</td>\n",
       "      <td>...</td>\n",
       "      <td>...</td>\n",
       "      <td>...</td>\n",
       "      <td>...</td>\n",
       "      <td>...</td>\n",
       "      <td>...</td>\n",
       "      <td>...</td>\n",
       "    </tr>\n",
       "    <tr>\n",
       "      <th>4090</th>\n",
       "      <td>6.7</td>\n",
       "      <td>0.24</td>\n",
       "      <td>0.30</td>\n",
       "      <td>10.2</td>\n",
       "      <td>0.070</td>\n",
       "      <td>44.0</td>\n",
       "      <td>179.0</td>\n",
       "      <td>0.99666</td>\n",
       "      <td>2.86</td>\n",
       "      <td>0.46</td>\n",
       "      <td>8.9</td>\n",
       "      <td>6</td>\n",
       "      <td>0</td>\n",
       "      <td>white</td>\n",
       "      <td>high</td>\n",
       "      <td>0</td>\n",
       "    </tr>\n",
       "    <tr>\n",
       "      <th>3352</th>\n",
       "      <td>6.7</td>\n",
       "      <td>0.36</td>\n",
       "      <td>0.28</td>\n",
       "      <td>8.3</td>\n",
       "      <td>0.034</td>\n",
       "      <td>29.0</td>\n",
       "      <td>81.0</td>\n",
       "      <td>0.99151</td>\n",
       "      <td>2.96</td>\n",
       "      <td>0.39</td>\n",
       "      <td>12.5</td>\n",
       "      <td>6</td>\n",
       "      <td>0</td>\n",
       "      <td>white</td>\n",
       "      <td>high</td>\n",
       "      <td>0</td>\n",
       "    </tr>\n",
       "    <tr>\n",
       "      <th>1190</th>\n",
       "      <td>7.6</td>\n",
       "      <td>0.21</td>\n",
       "      <td>0.44</td>\n",
       "      <td>1.9</td>\n",
       "      <td>0.036</td>\n",
       "      <td>10.0</td>\n",
       "      <td>119.0</td>\n",
       "      <td>0.99130</td>\n",
       "      <td>3.01</td>\n",
       "      <td>0.70</td>\n",
       "      <td>12.8</td>\n",
       "      <td>6</td>\n",
       "      <td>0</td>\n",
       "      <td>white</td>\n",
       "      <td>high</td>\n",
       "      <td>0</td>\n",
       "    </tr>\n",
       "    <tr>\n",
       "      <th>2701</th>\n",
       "      <td>6.5</td>\n",
       "      <td>0.23</td>\n",
       "      <td>0.36</td>\n",
       "      <td>16.3</td>\n",
       "      <td>0.038</td>\n",
       "      <td>43.0</td>\n",
       "      <td>133.0</td>\n",
       "      <td>0.99924</td>\n",
       "      <td>3.26</td>\n",
       "      <td>0.41</td>\n",
       "      <td>8.8</td>\n",
       "      <td>5</td>\n",
       "      <td>0</td>\n",
       "      <td>white</td>\n",
       "      <td>low</td>\n",
       "      <td>0</td>\n",
       "    </tr>\n",
       "    <tr>\n",
       "      <th>2032</th>\n",
       "      <td>6.5</td>\n",
       "      <td>0.25</td>\n",
       "      <td>0.20</td>\n",
       "      <td>1.4</td>\n",
       "      <td>0.024</td>\n",
       "      <td>29.0</td>\n",
       "      <td>101.0</td>\n",
       "      <td>0.99160</td>\n",
       "      <td>3.24</td>\n",
       "      <td>0.54</td>\n",
       "      <td>10.8</td>\n",
       "      <td>6</td>\n",
       "      <td>0</td>\n",
       "      <td>white</td>\n",
       "      <td>high</td>\n",
       "      <td>0</td>\n",
       "    </tr>\n",
       "  </tbody>\n",
       "</table>\n",
       "<p>1184 rows × 16 columns</p>\n",
       "</div>"
      ],
      "text/plain": [
       "      fixed_acidity  volatile_acidity  citric_acid  residual_sugar  chlorides  \\\n",
       "398             5.9              0.26         0.27            18.2      0.048   \n",
       "4089            6.8              0.27         0.24             4.6      0.098   \n",
       "3051            7.5              0.33         0.38             8.7      0.126   \n",
       "4250            6.7              0.11         0.26            14.8      0.053   \n",
       "309             7.4              0.29         0.38             1.7      0.062   \n",
       "...             ...               ...          ...             ...        ...   \n",
       "4090            6.7              0.24         0.30            10.2      0.070   \n",
       "3352            6.7              0.36         0.28             8.3      0.034   \n",
       "1190            7.6              0.21         0.44             1.9      0.036   \n",
       "2701            6.5              0.23         0.36            16.3      0.038   \n",
       "2032            6.5              0.25         0.20             1.4      0.024   \n",
       "\n",
       "      free_sulfur_dioxide  total_sulfur_dioxide  density    ph  sulphates  \\\n",
       "398                  52.0                 168.0  0.99930  3.35       0.44   \n",
       "4089                 36.0                 127.0  0.99412  3.15       0.49   \n",
       "3051                 49.0                 199.0  0.99711  2.98       0.57   \n",
       "4250                 44.0                  95.0  0.99676  3.20       0.35   \n",
       "309                   9.0                  30.0  0.99680  3.41       0.53   \n",
       "...                   ...                   ...      ...   ...        ...   \n",
       "4090                 44.0                 179.0  0.99666  2.86       0.46   \n",
       "3352                 29.0                  81.0  0.99151  2.96       0.39   \n",
       "1190                 10.0                 119.0  0.99130  3.01       0.70   \n",
       "2701                 43.0                 133.0  0.99924  3.26       0.41   \n",
       "2032                 29.0                 101.0  0.99160  3.24       0.54   \n",
       "\n",
       "      alcohol  quality  red_wine wine_type quality_type  high_citric  \n",
       "398       9.4        5         0     white          low            0  \n",
       "4089      9.6        6         0     white         high            0  \n",
       "3051      9.4        5         0     white          low            0  \n",
       "4250      9.8        6         0     white         high            0  \n",
       "309       9.5        6         1       red         high            1  \n",
       "...       ...      ...       ...       ...          ...          ...  \n",
       "4090      8.9        6         0     white         high            0  \n",
       "3352     12.5        6         0     white         high            0  \n",
       "1190     12.8        6         0     white         high            0  \n",
       "2701      8.8        5         0     white          low            0  \n",
       "2032     10.8        6         0     white         high            0  \n",
       "\n",
       "[1184 rows x 16 columns]"
      ]
     },
     "execution_count": 62,
     "metadata": {},
     "output_type": "execute_result"
    }
   ],
   "source": [
    "validate"
   ]
  },
  {
   "cell_type": "markdown",
   "id": "4d9087df",
   "metadata": {},
   "source": [
    "## Does Citric Acid Affect Wine Quality?\n",
    "\n",
    "$H_o$: The average citric acid in high quality wine is less than or equal to the average citric acid in low quality wine\n",
    "\n",
    "$H_a$: The average citric acid in high quality wine is greater than the average citric acid in low quality wine\n",
    "\n",
    "**I will use an Independent T-Test (1-tailed), to investigate whether low quality wines have more or less citric acid**\n",
    "\n",
    "* I will use a confidence interval of 95%\n",
    "* The alpha is .05"
   ]
  },
  {
   "cell_type": "code",
   "execution_count": 14,
   "id": "11974dde",
   "metadata": {},
   "outputs": [
    {
     "data": {
      "image/png": "[encoded data removed]",
      "text/plain": [
       "<Figure size 640x480 with 1 Axes>"
      ]
     },
     "metadata": {},
     "output_type": "display_data"
    }
   ],
   "source": [
    "e.citric_barplot(train)"
   ]
  },
  {
   "cell_type": "markdown",
   "id": "4e171259",
   "metadata": {},
   "source": [
    "observation:\n",
    "\n",
    "    * High quality red wine has more citric acid than low quality red wine\n",
    "    * White wine doesn't differ much in quality when comparing citric acid"
   ]
  },
  {
   "cell_type": "code",
   "execution_count": 21,
   "id": "a3f98136",
   "metadata": {},
   "outputs": [
    {
     "name": "stdout",
     "output_type": "stream",
     "text": [
      "Reject the null hypothesis: Sufficient\n",
      " p-value: 3.3759193973112407e-06 , t: 4.6539178683730915\n"
     ]
    }
   ],
   "source": [
    "# create samples\n",
    "citric_high_quality = train[train.quality_type == 'high'].citric_acid\n",
    "citric_low_quality = train[train.quality_type == 'low'].citric_acid\n",
    "# check variances -- equal\n",
    "stats.levene(citric_low_quality, citric_high_quality)\n",
    "# run T-Test\n",
    "e.ind_var_test(citric_high_quality, citric_low_quality)"
   ]
  },
  {
   "cell_type": "markdown",
   "id": "bd325e50",
   "metadata": {},
   "source": [
    "**We rejected the null hypothesis, therfore, we have evidence to support that the average amount of citric acid in high quality wine is greater than the average amount of low quality wine. Based on this, I believe that using 'high_citric_acid' feature in modeling will have a small positive impact on the model's accuracy.**"
   ]
  },
  {
   "cell_type": "code",
   "execution_count": null,
   "id": "6e31b56f",
   "metadata": {},
   "outputs": [],
   "source": [
    "# which wine type has "
   ]
  }
 ],
 "metadata": {
  "kernelspec": {
   "display_name": "Python 3 (ipykernel)",
   "language": "python",
   "name": "python3"
  },
  "language_info": {
   "codemirror_mode": {
    "name": "ipython",
    "version": 3
   },
   "file_extension": ".py",
   "mimetype": "text/x-python",
   "name": "python",
   "nbconvert_exporter": "python",
   "pygments_lexer": "ipython3",
   "version": "3.9.13"
  }
 },
 "nbformat": 4,
 "nbformat_minor": 5
}
