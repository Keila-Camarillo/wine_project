{
 "cells": [
  {
   "cell_type": "code",
   "execution_count": 1,
   "id": "227eb20a",
   "metadata": {},
   "outputs": [],
   "source": [
    "import warnings\n",
    "warnings.filterwarnings(\"ignore\")\n",
    "\n",
    "import pandas as pd\n",
    "import numpy as np\n",
    "\n",
    "import matplotlib.pyplot as plt\n",
    "import seaborn as sns\n",
    "\n",
    "from sklearn.cluster import KMeans\n",
    "from sklearn.model_selection import train_test_split\n",
    "from sklearn.preprocessing import MinMaxScaler\n",
    "\n",
    "import keila_wrangle as w"
   ]
  },
  {
   "cell_type": "markdown",
   "id": "ad151bb0",
   "metadata": {},
   "source": [
    "# Wrangle"
   ]
  },
  {
   "cell_type": "code",
   "execution_count": 2,
   "id": "41a7dc1e",
   "metadata": {},
   "outputs": [],
   "source": [
    "# get dataset\n",
    "df = w.read_wine()"
   ]
  },
  {
   "cell_type": "code",
   "execution_count": 3,
   "id": "f4d998d8",
   "metadata": {},
   "outputs": [
    {
     "data": {
      "text/html": [
       "<div>\n",
       "<style scoped>\n",
       "    .dataframe tbody tr th:only-of-type {\n",
       "        vertical-align: middle;\n",
       "    }\n",
       "\n",
       "    .dataframe tbody tr th {\n",
       "        vertical-align: top;\n",
       "    }\n",
       "\n",
       "    .dataframe thead th {\n",
       "        text-align: right;\n",
       "    }\n",
       "</style>\n",
       "<table border=\"1\" class=\"dataframe\">\n",
       "  <thead>\n",
       "    <tr style=\"text-align: right;\">\n",
       "      <th></th>\n",
       "      <th>fixed acidity</th>\n",
       "      <th>volatile acidity</th>\n",
       "      <th>citric acid</th>\n",
       "      <th>residual sugar</th>\n",
       "      <th>chlorides</th>\n",
       "      <th>free sulfur dioxide</th>\n",
       "      <th>total sulfur dioxide</th>\n",
       "      <th>density</th>\n",
       "      <th>pH</th>\n",
       "      <th>sulphates</th>\n",
       "      <th>alcohol</th>\n",
       "      <th>quality</th>\n",
       "      <th>red_wine</th>\n",
       "      <th>wine_type</th>\n",
       "      <th>quality_type</th>\n",
       "    </tr>\n",
       "  </thead>\n",
       "  <tbody>\n",
       "    <tr>\n",
       "      <th>0</th>\n",
       "      <td>7.4</td>\n",
       "      <td>0.70</td>\n",
       "      <td>0.00</td>\n",
       "      <td>1.9</td>\n",
       "      <td>0.076</td>\n",
       "      <td>11.0</td>\n",
       "      <td>34.0</td>\n",
       "      <td>0.9978</td>\n",
       "      <td>3.51</td>\n",
       "      <td>0.56</td>\n",
       "      <td>9.4</td>\n",
       "      <td>5</td>\n",
       "      <td>1</td>\n",
       "      <td>red</td>\n",
       "      <td>low</td>\n",
       "    </tr>\n",
       "    <tr>\n",
       "      <th>1</th>\n",
       "      <td>7.8</td>\n",
       "      <td>0.88</td>\n",
       "      <td>0.00</td>\n",
       "      <td>2.6</td>\n",
       "      <td>0.098</td>\n",
       "      <td>25.0</td>\n",
       "      <td>67.0</td>\n",
       "      <td>0.9968</td>\n",
       "      <td>3.20</td>\n",
       "      <td>0.68</td>\n",
       "      <td>9.8</td>\n",
       "      <td>5</td>\n",
       "      <td>1</td>\n",
       "      <td>red</td>\n",
       "      <td>low</td>\n",
       "    </tr>\n",
       "    <tr>\n",
       "      <th>2</th>\n",
       "      <td>7.8</td>\n",
       "      <td>0.76</td>\n",
       "      <td>0.04</td>\n",
       "      <td>2.3</td>\n",
       "      <td>0.092</td>\n",
       "      <td>15.0</td>\n",
       "      <td>54.0</td>\n",
       "      <td>0.9970</td>\n",
       "      <td>3.26</td>\n",
       "      <td>0.65</td>\n",
       "      <td>9.8</td>\n",
       "      <td>5</td>\n",
       "      <td>1</td>\n",
       "      <td>red</td>\n",
       "      <td>low</td>\n",
       "    </tr>\n",
       "    <tr>\n",
       "      <th>3</th>\n",
       "      <td>11.2</td>\n",
       "      <td>0.28</td>\n",
       "      <td>0.56</td>\n",
       "      <td>1.9</td>\n",
       "      <td>0.075</td>\n",
       "      <td>17.0</td>\n",
       "      <td>60.0</td>\n",
       "      <td>0.9980</td>\n",
       "      <td>3.16</td>\n",
       "      <td>0.58</td>\n",
       "      <td>9.8</td>\n",
       "      <td>6</td>\n",
       "      <td>1</td>\n",
       "      <td>red</td>\n",
       "      <td>high</td>\n",
       "    </tr>\n",
       "    <tr>\n",
       "      <th>4</th>\n",
       "      <td>7.4</td>\n",
       "      <td>0.70</td>\n",
       "      <td>0.00</td>\n",
       "      <td>1.9</td>\n",
       "      <td>0.076</td>\n",
       "      <td>11.0</td>\n",
       "      <td>34.0</td>\n",
       "      <td>0.9978</td>\n",
       "      <td>3.51</td>\n",
       "      <td>0.56</td>\n",
       "      <td>9.4</td>\n",
       "      <td>5</td>\n",
       "      <td>1</td>\n",
       "      <td>red</td>\n",
       "      <td>low</td>\n",
       "    </tr>\n",
       "  </tbody>\n",
       "</table>\n",
       "</div>"
      ],
      "text/plain": [
       "   fixed acidity  volatile acidity  citric acid  residual sugar  chlorides  \\\n",
       "0            7.4              0.70         0.00             1.9      0.076   \n",
       "1            7.8              0.88         0.00             2.6      0.098   \n",
       "2            7.8              0.76         0.04             2.3      0.092   \n",
       "3           11.2              0.28         0.56             1.9      0.075   \n",
       "4            7.4              0.70         0.00             1.9      0.076   \n",
       "\n",
       "   free sulfur dioxide  total sulfur dioxide  density    pH  sulphates  \\\n",
       "0                 11.0                  34.0   0.9978  3.51       0.56   \n",
       "1                 25.0                  67.0   0.9968  3.20       0.68   \n",
       "2                 15.0                  54.0   0.9970  3.26       0.65   \n",
       "3                 17.0                  60.0   0.9980  3.16       0.58   \n",
       "4                 11.0                  34.0   0.9978  3.51       0.56   \n",
       "\n",
       "   alcohol  quality  red_wine wine_type quality_type  \n",
       "0      9.4        5         1       red          low  \n",
       "1      9.8        5         1       red          low  \n",
       "2      9.8        5         1       red          low  \n",
       "3      9.8        6         1       red         high  \n",
       "4      9.4        5         1       red          low  "
      ]
     },
     "execution_count": 3,
     "metadata": {},
     "output_type": "execute_result"
    }
   ],
   "source": [
    "df.head()"
   ]
  },
  {
   "cell_type": "code",
   "execution_count": 4,
   "id": "9d6390ae",
   "metadata": {
    "scrolled": true
   },
   "outputs": [
    {
     "data": {
      "text/html": [
       "<div>\n",
       "<style scoped>\n",
       "    .dataframe tbody tr th:only-of-type {\n",
       "        vertical-align: middle;\n",
       "    }\n",
       "\n",
       "    .dataframe tbody tr th {\n",
       "        vertical-align: top;\n",
       "    }\n",
       "\n",
       "    .dataframe thead th {\n",
       "        text-align: right;\n",
       "    }\n",
       "</style>\n",
       "<table border=\"1\" class=\"dataframe\">\n",
       "  <thead>\n",
       "    <tr style=\"text-align: right;\">\n",
       "      <th></th>\n",
       "      <th>count</th>\n",
       "      <th>mean</th>\n",
       "      <th>std</th>\n",
       "      <th>min</th>\n",
       "      <th>25%</th>\n",
       "      <th>50%</th>\n",
       "      <th>75%</th>\n",
       "      <th>max</th>\n",
       "    </tr>\n",
       "  </thead>\n",
       "  <tbody>\n",
       "    <tr>\n",
       "      <th>fixed acidity</th>\n",
       "      <td>6497.0</td>\n",
       "      <td>7.215307</td>\n",
       "      <td>1.296434</td>\n",
       "      <td>3.80000</td>\n",
       "      <td>6.40000</td>\n",
       "      <td>7.00000</td>\n",
       "      <td>7.70000</td>\n",
       "      <td>15.90000</td>\n",
       "    </tr>\n",
       "    <tr>\n",
       "      <th>volatile acidity</th>\n",
       "      <td>6497.0</td>\n",
       "      <td>0.339666</td>\n",
       "      <td>0.164636</td>\n",
       "      <td>0.08000</td>\n",
       "      <td>0.23000</td>\n",
       "      <td>0.29000</td>\n",
       "      <td>0.40000</td>\n",
       "      <td>1.58000</td>\n",
       "    </tr>\n",
       "    <tr>\n",
       "      <th>citric acid</th>\n",
       "      <td>6497.0</td>\n",
       "      <td>0.318633</td>\n",
       "      <td>0.145318</td>\n",
       "      <td>0.00000</td>\n",
       "      <td>0.25000</td>\n",
       "      <td>0.31000</td>\n",
       "      <td>0.39000</td>\n",
       "      <td>1.66000</td>\n",
       "    </tr>\n",
       "    <tr>\n",
       "      <th>residual sugar</th>\n",
       "      <td>6497.0</td>\n",
       "      <td>5.443235</td>\n",
       "      <td>4.757804</td>\n",
       "      <td>0.60000</td>\n",
       "      <td>1.80000</td>\n",
       "      <td>3.00000</td>\n",
       "      <td>8.10000</td>\n",
       "      <td>65.80000</td>\n",
       "    </tr>\n",
       "    <tr>\n",
       "      <th>chlorides</th>\n",
       "      <td>6497.0</td>\n",
       "      <td>0.056034</td>\n",
       "      <td>0.035034</td>\n",
       "      <td>0.00900</td>\n",
       "      <td>0.03800</td>\n",
       "      <td>0.04700</td>\n",
       "      <td>0.06500</td>\n",
       "      <td>0.61100</td>\n",
       "    </tr>\n",
       "    <tr>\n",
       "      <th>free sulfur dioxide</th>\n",
       "      <td>6497.0</td>\n",
       "      <td>30.525319</td>\n",
       "      <td>17.749400</td>\n",
       "      <td>1.00000</td>\n",
       "      <td>17.00000</td>\n",
       "      <td>29.00000</td>\n",
       "      <td>41.00000</td>\n",
       "      <td>289.00000</td>\n",
       "    </tr>\n",
       "    <tr>\n",
       "      <th>total sulfur dioxide</th>\n",
       "      <td>6497.0</td>\n",
       "      <td>115.744574</td>\n",
       "      <td>56.521855</td>\n",
       "      <td>6.00000</td>\n",
       "      <td>77.00000</td>\n",
       "      <td>118.00000</td>\n",
       "      <td>156.00000</td>\n",
       "      <td>440.00000</td>\n",
       "    </tr>\n",
       "    <tr>\n",
       "      <th>density</th>\n",
       "      <td>6497.0</td>\n",
       "      <td>0.994697</td>\n",
       "      <td>0.002999</td>\n",
       "      <td>0.98711</td>\n",
       "      <td>0.99234</td>\n",
       "      <td>0.99489</td>\n",
       "      <td>0.99699</td>\n",
       "      <td>1.03898</td>\n",
       "    </tr>\n",
       "    <tr>\n",
       "      <th>pH</th>\n",
       "      <td>6497.0</td>\n",
       "      <td>3.218501</td>\n",
       "      <td>0.160787</td>\n",
       "      <td>2.72000</td>\n",
       "      <td>3.11000</td>\n",
       "      <td>3.21000</td>\n",
       "      <td>3.32000</td>\n",
       "      <td>4.01000</td>\n",
       "    </tr>\n",
       "    <tr>\n",
       "      <th>sulphates</th>\n",
       "      <td>6497.0</td>\n",
       "      <td>0.531268</td>\n",
       "      <td>0.148806</td>\n",
       "      <td>0.22000</td>\n",
       "      <td>0.43000</td>\n",
       "      <td>0.51000</td>\n",
       "      <td>0.60000</td>\n",
       "      <td>2.00000</td>\n",
       "    </tr>\n",
       "    <tr>\n",
       "      <th>alcohol</th>\n",
       "      <td>6497.0</td>\n",
       "      <td>10.491801</td>\n",
       "      <td>1.192712</td>\n",
       "      <td>8.00000</td>\n",
       "      <td>9.50000</td>\n",
       "      <td>10.30000</td>\n",
       "      <td>11.30000</td>\n",
       "      <td>14.90000</td>\n",
       "    </tr>\n",
       "    <tr>\n",
       "      <th>quality</th>\n",
       "      <td>6497.0</td>\n",
       "      <td>5.818378</td>\n",
       "      <td>0.873255</td>\n",
       "      <td>3.00000</td>\n",
       "      <td>5.00000</td>\n",
       "      <td>6.00000</td>\n",
       "      <td>6.00000</td>\n",
       "      <td>9.00000</td>\n",
       "    </tr>\n",
       "    <tr>\n",
       "      <th>red_wine</th>\n",
       "      <td>6497.0</td>\n",
       "      <td>0.246114</td>\n",
       "      <td>0.430779</td>\n",
       "      <td>0.00000</td>\n",
       "      <td>0.00000</td>\n",
       "      <td>0.00000</td>\n",
       "      <td>0.00000</td>\n",
       "      <td>1.00000</td>\n",
       "    </tr>\n",
       "  </tbody>\n",
       "</table>\n",
       "</div>"
      ],
      "text/plain": [
       "                       count        mean        std      min       25%  \\\n",
       "fixed acidity         6497.0    7.215307   1.296434  3.80000   6.40000   \n",
       "volatile acidity      6497.0    0.339666   0.164636  0.08000   0.23000   \n",
       "citric acid           6497.0    0.318633   0.145318  0.00000   0.25000   \n",
       "residual sugar        6497.0    5.443235   4.757804  0.60000   1.80000   \n",
       "chlorides             6497.0    0.056034   0.035034  0.00900   0.03800   \n",
       "free sulfur dioxide   6497.0   30.525319  17.749400  1.00000  17.00000   \n",
       "total sulfur dioxide  6497.0  115.744574  56.521855  6.00000  77.00000   \n",
       "density               6497.0    0.994697   0.002999  0.98711   0.99234   \n",
       "pH                    6497.0    3.218501   0.160787  2.72000   3.11000   \n",
       "sulphates             6497.0    0.531268   0.148806  0.22000   0.43000   \n",
       "alcohol               6497.0   10.491801   1.192712  8.00000   9.50000   \n",
       "quality               6497.0    5.818378   0.873255  3.00000   5.00000   \n",
       "red_wine              6497.0    0.246114   0.430779  0.00000   0.00000   \n",
       "\n",
       "                            50%        75%        max  \n",
       "fixed acidity           7.00000    7.70000   15.90000  \n",
       "volatile acidity        0.29000    0.40000    1.58000  \n",
       "citric acid             0.31000    0.39000    1.66000  \n",
       "residual sugar          3.00000    8.10000   65.80000  \n",
       "chlorides               0.04700    0.06500    0.61100  \n",
       "free sulfur dioxide    29.00000   41.00000  289.00000  \n",
       "total sulfur dioxide  118.00000  156.00000  440.00000  \n",
       "density                 0.99489    0.99699    1.03898  \n",
       "pH                      3.21000    3.32000    4.01000  \n",
       "sulphates               0.51000    0.60000    2.00000  \n",
       "alcohol                10.30000   11.30000   14.90000  \n",
       "quality                 6.00000    6.00000    9.00000  \n",
       "red_wine                0.00000    0.00000    1.00000  "
      ]
     },
     "execution_count": 4,
     "metadata": {},
     "output_type": "execute_result"
    }
   ],
   "source": [
    "df.describe().T"
   ]
  },
  {
   "cell_type": "code",
   "execution_count": 5,
   "id": "58aa0159",
   "metadata": {
    "scrolled": false
   },
   "outputs": [],
   "source": [
    "# cleaning data\n",
    "train, validate, test = w.clean_wine()"
   ]
  },
  {
   "cell_type": "code",
   "execution_count": 6,
   "id": "ba7b2694",
   "metadata": {},
   "outputs": [
    {
     "data": {
      "text/plain": [
       "fixed acidity           0.0\n",
       "volatile acidity        0.0\n",
       "citric acid             0.0\n",
       "residual sugar          0.0\n",
       "chlorides               0.0\n",
       "free sulfur dioxide     0.0\n",
       "total sulfur dioxide    0.0\n",
       "density                 0.0\n",
       "pH                      0.0\n",
       "sulphates               0.0\n",
       "alcohol                 0.0\n",
       "quality                 0.0\n",
       "red_wine                0.0\n",
       "wine_type                 0\n",
       "quality_type              0\n",
       "dtype: object"
      ]
     },
     "execution_count": 6,
     "metadata": {},
     "output_type": "execute_result"
    }
   ],
   "source": [
    "# found no nulls \n",
    "df[df.isnull()].sum()"
   ]
  },
  {
   "cell_type": "code",
   "execution_count": 7,
   "id": "d37cd3d1",
   "metadata": {
    "scrolled": false
   },
   "outputs": [
    {
     "name": "stdout",
     "output_type": "stream",
     "text": [
      "SUMMARY REPORT\n",
      "=====================================================\n",
      "          \n",
      "          \n",
      "Dataframe head: \n",
      "   fixed acidity  volatile acidity  citric acid  residual sugar  chlorides  \\\n",
      "0            7.4              0.70         0.00             1.9      0.076   \n",
      "1            7.8              0.88         0.00             2.6      0.098   \n",
      "2            7.8              0.76         0.04             2.3      0.092   \n",
      "\n",
      "   free sulfur dioxide  total sulfur dioxide  density    pH  sulphates  \\\n",
      "0                 11.0                  34.0   0.9978  3.51       0.56   \n",
      "1                 25.0                  67.0   0.9968  3.20       0.68   \n",
      "2                 15.0                  54.0   0.9970  3.26       0.65   \n",
      "\n",
      "   alcohol  quality  red_wine wine_type quality_type  \n",
      "0      9.4        5         1       red          low  \n",
      "1      9.8        5         1       red          low  \n",
      "2      9.8        5         1       red          low  \n",
      "          \n",
      "=====================================================\n",
      "          \n",
      "          \n",
      "Dataframe info: \n",
      "<class 'pandas.core.frame.DataFrame'>\n",
      "Int64Index: 6497 entries, 0 to 4897\n",
      "Data columns (total 15 columns):\n",
      " #   Column                Non-Null Count  Dtype  \n",
      "---  ------                --------------  -----  \n",
      " 0   fixed acidity         6497 non-null   float64\n",
      " 1   volatile acidity      6497 non-null   float64\n",
      " 2   citric acid           6497 non-null   float64\n",
      " 3   residual sugar        6497 non-null   float64\n",
      " 4   chlorides             6497 non-null   float64\n",
      " 5   free sulfur dioxide   6497 non-null   float64\n",
      " 6   total sulfur dioxide  6497 non-null   float64\n",
      " 7   density               6497 non-null   float64\n",
      " 8   pH                    6497 non-null   float64\n",
      " 9   sulphates             6497 non-null   float64\n",
      " 10  alcohol               6497 non-null   float64\n",
      " 11  quality               6497 non-null   int64  \n",
      " 12  red_wine              6497 non-null   int64  \n",
      " 13  wine_type             6497 non-null   object \n",
      " 14  quality_type          6497 non-null   object \n",
      "dtypes: float64(11), int64(2), object(2)\n",
      "memory usage: 812.1+ KB\n",
      "=====================================================\n",
      "          \n",
      "          \n",
      "Dataframe Description: \n",
      "                       count        mean        std      min       25%  \\\n",
      "fixed acidity         6497.0    7.215307   1.296434  3.80000   6.40000   \n",
      "volatile acidity      6497.0    0.339666   0.164636  0.08000   0.23000   \n",
      "citric acid           6497.0    0.318633   0.145318  0.00000   0.25000   \n",
      "residual sugar        6497.0    5.443235   4.757804  0.60000   1.80000   \n",
      "chlorides             6497.0    0.056034   0.035034  0.00900   0.03800   \n",
      "free sulfur dioxide   6497.0   30.525319  17.749400  1.00000  17.00000   \n",
      "total sulfur dioxide  6497.0  115.744574  56.521855  6.00000  77.00000   \n",
      "density               6497.0    0.994697   0.002999  0.98711   0.99234   \n",
      "pH                    6497.0    3.218501   0.160787  2.72000   3.11000   \n",
      "sulphates             6497.0    0.531268   0.148806  0.22000   0.43000   \n",
      "alcohol               6497.0   10.491801   1.192712  8.00000   9.50000   \n",
      "quality               6497.0    5.818378   0.873255  3.00000   5.00000   \n",
      "red_wine              6497.0    0.246114   0.430779  0.00000   0.00000   \n",
      "\n",
      "                            50%        75%        max  \n",
      "fixed acidity           7.00000    7.70000   15.90000  \n",
      "volatile acidity        0.29000    0.40000    1.58000  \n",
      "citric acid             0.31000    0.39000    1.66000  \n",
      "residual sugar          3.00000    8.10000   65.80000  \n",
      "chlorides               0.04700    0.06500    0.61100  \n",
      "free sulfur dioxide    29.00000   41.00000  289.00000  \n",
      "total sulfur dioxide  118.00000  156.00000  440.00000  \n",
      "density                 0.99489    0.99699    1.03898  \n",
      "pH                      3.21000    3.32000    4.01000  \n",
      "sulphates               0.51000    0.60000    2.00000  \n",
      "alcohol                10.30000   11.30000   14.90000  \n",
      "quality                 6.00000    6.00000    9.00000  \n",
      "red_wine                0.00000    0.00000    1.00000  \n",
      "          \n",
      "=====================================================\n",
      "\n",
      "    \n",
      "    \n",
      "DataFrame value counts: \n",
      " \n",
      "******** WINE_TYPE - Value Counts:\n",
      "white    4898\n",
      "red      1599\n",
      "Name: wine_type, dtype: int64\n",
      "    _______________________________________\n",
      "******** QUALITY_TYPE - Value Counts:\n",
      "high    4113\n",
      "low     2384\n",
      "Name: quality_type, dtype: int64\n",
      "    _______________________________________\n"
     ]
    },
    {
     "data": {
      "image/png": "[encoded data removed]",
      "text/plain": [
       "<Figure size 600x400 with 1 Axes>"
      ]
     },
     "metadata": {},
     "output_type": "display_data"
    },
    {
     "data": {
      "image/png": "[encoded data removed]",
      "text/plain": [
       "<Figure size 600x400 with 1 Axes>"
      ]
     },
     "metadata": {},
     "output_type": "display_data"
    },
    {
     "data": {
      "image/png": "[encoded data removed]",
      "text/plain": [
       "<Figure size 600x400 with 1 Axes>"
      ]
     },
     "metadata": {},
     "output_type": "display_data"
    },
    {
     "data": {
      "image/png": "[encoded data removed]",
      "text/plain": [
       "<Figure size 600x400 with 1 Axes>"
      ]
     },
     "metadata": {},
     "output_type": "display_data"
    },
    {
     "data": {
      "image/png": "[encoded data removed]",
      "text/plain": [
       "<Figure size 600x400 with 1 Axes>"
      ]
     },
     "metadata": {},
     "output_type": "display_data"
    },
    {
     "data": {
      "image/png": "[encoded data removed]",
      "text/plain": [
       "<Figure size 600x400 with 1 Axes>"
      ]
     },
     "metadata": {},
     "output_type": "display_data"
    },
    {
     "data": {
      "image/png": "[encoded data removed]",
      "text/plain": [
       "<Figure size 600x400 with 1 Axes>"
      ]
     },
     "metadata": {},
     "output_type": "display_data"
    },
    {
     "data": {
      "image/png": "[encoded data removed]",
      "text/plain": [
       "<Figure size 600x400 with 1 Axes>"
      ]
     },
     "metadata": {},
     "output_type": "display_data"
    },
    {
     "data": {
      "image/png": "[encoded data removed]",
      "text/plain": [
       "<Figure size 600x400 with 1 Axes>"
      ]
     },
     "metadata": {},
     "output_type": "display_data"
    },
    {
     "data": {
      "image/png": "[encoded data removed]",
      "text/plain": [
       "<Figure size 600x400 with 1 Axes>"
      ]
     },
     "metadata": {},
     "output_type": "display_data"
    },
    {
     "data": {
      "image/png": "[encoded data removed]",
      "text/plain": [
       "<Figure size 600x400 with 1 Axes>"
      ]
     },
     "metadata": {},
     "output_type": "display_data"
    },
    {
     "data": {
      "image/png": "[encoded data removed]",
      "text/plain": [
       "<Figure size 600x400 with 1 Axes>"
      ]
     },
     "metadata": {},
     "output_type": "display_data"
    },
    {
     "data": {
      "image/png": "[encoded data removed]",
      "text/plain": [
       "<Figure size 600x400 with 1 Axes>"
      ]
     },
     "metadata": {},
     "output_type": "display_data"
    },
    {
     "data": {
      "image/png": "[encoded data removed]",
      "text/plain": [
       "<Figure size 600x400 with 1 Axes>"
      ]
     },
     "metadata": {},
     "output_type": "display_data"
    },
    {
     "data": {
      "image/png": "[encoded data removed]",
      "text/plain": [
       "<Figure size 600x400 with 1 Axes>"
      ]
     },
     "metadata": {},
     "output_type": "display_data"
    }
   ],
   "source": [
    "w.summarize(df)"
   ]
  },
  {
   "cell_type": "code",
   "execution_count": 9,
   "id": "cfd606e4",
   "metadata": {},
   "outputs": [
    {
     "ename": "NameError",
     "evalue": "name 'w' is not defined",
     "output_type": "error",
     "traceback": [
      "\u001b[0;31m---------------------------------------------------------------------------\u001b[0m",
      "\u001b[0;31mNameError\u001b[0m                                 Traceback (most recent call last)",
      "\u001b[0;32m/var/folders/bf/lhpb5n_j1xj4msxy6nrm9h7h0000gn/T/ipykernel_8012/1797390926.py\u001b[0m in \u001b[0;36m<module>\u001b[0;34m\u001b[0m\n\u001b[1;32m      1\u001b[0m \u001b[0;31m# splitting into x and y\u001b[0m\u001b[0;34m\u001b[0m\u001b[0;34m\u001b[0m\u001b[0m\n\u001b[1;32m      2\u001b[0m \u001b[0mtarget\u001b[0m \u001b[0;34m=\u001b[0m \u001b[0;34m\"quality\"\u001b[0m\u001b[0;34m\u001b[0m\u001b[0;34m\u001b[0m\u001b[0m\n\u001b[0;32m----> 3\u001b[0;31m \u001b[0mtrain\u001b[0m\u001b[0;34m,\u001b[0m \u001b[0mvalidate\u001b[0m\u001b[0;34m,\u001b[0m \u001b[0mtest\u001b[0m\u001b[0;34m,\u001b[0m \u001b[0mx_train\u001b[0m\u001b[0;34m,\u001b[0m \u001b[0my_train\u001b[0m\u001b[0;34m,\u001b[0m \u001b[0mx_validate\u001b[0m\u001b[0;34m,\u001b[0m \u001b[0my_validate\u001b[0m\u001b[0;34m,\u001b[0m \u001b[0mx_test\u001b[0m\u001b[0;34m,\u001b[0m \u001b[0my_test\u001b[0m \u001b[0;34m=\u001b[0m \u001b[0mw\u001b[0m\u001b[0;34m.\u001b[0m\u001b[0msplit_data_xy\u001b[0m\u001b[0;34m(\u001b[0m\u001b[0mtrain\u001b[0m\u001b[0;34m,\u001b[0m \u001b[0mvalidate\u001b[0m\u001b[0;34m,\u001b[0m \u001b[0mtest\u001b[0m\u001b[0;34m,\u001b[0m \u001b[0mtarget\u001b[0m\u001b[0;34m)\u001b[0m\u001b[0;34m\u001b[0m\u001b[0;34m\u001b[0m\u001b[0m\n\u001b[0m",
      "\u001b[0;31mNameError\u001b[0m: name 'w' is not defined"
     ]
    }
   ],
   "source": [
    "# splitting into x and y\n",
    "target = \"quality\"\n",
    "train, validate, test, x_train, y_train, x_validate, y_validate, x_test, y_test = w.split_data_xy(train, validate, test, target)"
   ]
  },
  {
   "cell_type": "code",
   "execution_count": 9,
   "id": "76c8b6d8",
   "metadata": {},
   "outputs": [
    {
     "ename": "KeyError",
     "evalue": "\"['high_citric'] not in index\"",
     "output_type": "error",
     "traceback": [
      "\u001b[0;31m---------------------------------------------------------------------------\u001b[0m",
      "\u001b[0;31mKeyError\u001b[0m                                  Traceback (most recent call last)",
      "\u001b[0;32m/var/folders/wd/5_z1tvw94pv9x2ld8p_0dl2r0000gn/T/ipykernel_43748/4104744960.py\u001b[0m in \u001b[0;36m<module>\u001b[0;34m\u001b[0m\n\u001b[1;32m      1\u001b[0m \u001b[0;31m# scaling data\u001b[0m\u001b[0;34m\u001b[0m\u001b[0;34m\u001b[0m\u001b[0m\n\u001b[0;32m----> 2\u001b[0;31m \u001b[0mx_train_scaled\u001b[0m\u001b[0;34m,\u001b[0m \u001b[0mx_validate_scaled\u001b[0m\u001b[0;34m,\u001b[0m \u001b[0mx_test_scaled\u001b[0m \u001b[0;34m=\u001b[0m \u001b[0mw\u001b[0m\u001b[0;34m.\u001b[0m\u001b[0mmm_scale\u001b[0m\u001b[0;34m(\u001b[0m\u001b[0mx_train\u001b[0m\u001b[0;34m,\u001b[0m \u001b[0mx_validate\u001b[0m\u001b[0;34m,\u001b[0m \u001b[0mx_test\u001b[0m\u001b[0;34m)\u001b[0m\u001b[0;34m\u001b[0m\u001b[0;34m\u001b[0m\u001b[0m\n\u001b[0m",
      "\u001b[0;32m~/codeup-data-science/wine_project/keila_wrangle.py\u001b[0m in \u001b[0;36mmm_scale\u001b[0;34m(x_train, x_validate, x_test)\u001b[0m\n\u001b[1;32m    205\u001b[0m     \u001b[0;31m# remove string column wine_type\u001b[0m\u001b[0;34m\u001b[0m\u001b[0;34m\u001b[0m\u001b[0m\n\u001b[1;32m    206\u001b[0m     \u001b[0mkeep_col\u001b[0m \u001b[0;34m=\u001b[0m \u001b[0;34m[\u001b[0m\u001b[0;34m'fixed_acidity'\u001b[0m\u001b[0;34m,\u001b[0m \u001b[0;34m'volatile_acidity'\u001b[0m\u001b[0;34m,\u001b[0m \u001b[0;34m'citric_acid'\u001b[0m\u001b[0;34m,\u001b[0m \u001b[0;34m'residual_sugar'\u001b[0m\u001b[0;34m,\u001b[0m \u001b[0;34m'chlorides'\u001b[0m\u001b[0;34m,\u001b[0m \u001b[0;34m'free_sulfur_dioxide'\u001b[0m\u001b[0;34m,\u001b[0m \u001b[0;34m'total_sulfur_dioxide'\u001b[0m\u001b[0;34m,\u001b[0m \u001b[0;34m'density'\u001b[0m\u001b[0;34m,\u001b[0m \u001b[0;34m'ph'\u001b[0m\u001b[0;34m,\u001b[0m \u001b[0;34m'sulphates'\u001b[0m\u001b[0;34m,\u001b[0m \u001b[0;34m'alcohol'\u001b[0m\u001b[0;34m,\u001b[0m \u001b[0;34m'red_wine'\u001b[0m\u001b[0;34m,\u001b[0m\u001b[0;34m'high_citric'\u001b[0m\u001b[0;34m]\u001b[0m\u001b[0;34m\u001b[0m\u001b[0;34m\u001b[0m\u001b[0m\n\u001b[0;32m--> 207\u001b[0;31m     \u001b[0mx_train\u001b[0m\u001b[0;34m,\u001b[0m \u001b[0mx_validate\u001b[0m\u001b[0;34m,\u001b[0m \u001b[0mx_test\u001b[0m \u001b[0;34m=\u001b[0m \u001b[0mx_train\u001b[0m\u001b[0;34m[\u001b[0m\u001b[0mkeep_col\u001b[0m\u001b[0;34m]\u001b[0m\u001b[0;34m,\u001b[0m \u001b[0mx_validate\u001b[0m\u001b[0;34m[\u001b[0m\u001b[0mkeep_col\u001b[0m\u001b[0;34m]\u001b[0m\u001b[0;34m,\u001b[0m \u001b[0mx_test\u001b[0m\u001b[0;34m[\u001b[0m\u001b[0mkeep_col\u001b[0m\u001b[0;34m]\u001b[0m\u001b[0;34m\u001b[0m\u001b[0;34m\u001b[0m\u001b[0m\n\u001b[0m\u001b[1;32m    208\u001b[0m \u001b[0;34m\u001b[0m\u001b[0m\n\u001b[1;32m    209\u001b[0m \u001b[0;34m\u001b[0m\u001b[0m\n",
      "\u001b[0;32m/usr/local/anaconda3/lib/python3.9/site-packages/pandas/core/frame.py\u001b[0m in \u001b[0;36m__getitem__\u001b[0;34m(self, key)\u001b[0m\n\u001b[1;32m   3509\u001b[0m             \u001b[0;32mif\u001b[0m \u001b[0mis_iterator\u001b[0m\u001b[0;34m(\u001b[0m\u001b[0mkey\u001b[0m\u001b[0;34m)\u001b[0m\u001b[0;34m:\u001b[0m\u001b[0;34m\u001b[0m\u001b[0;34m\u001b[0m\u001b[0m\n\u001b[1;32m   3510\u001b[0m                 \u001b[0mkey\u001b[0m \u001b[0;34m=\u001b[0m \u001b[0mlist\u001b[0m\u001b[0;34m(\u001b[0m\u001b[0mkey\u001b[0m\u001b[0;34m)\u001b[0m\u001b[0;34m\u001b[0m\u001b[0;34m\u001b[0m\u001b[0m\n\u001b[0;32m-> 3511\u001b[0;31m             \u001b[0mindexer\u001b[0m \u001b[0;34m=\u001b[0m \u001b[0mself\u001b[0m\u001b[0;34m.\u001b[0m\u001b[0mcolumns\u001b[0m\u001b[0;34m.\u001b[0m\u001b[0m_get_indexer_strict\u001b[0m\u001b[0;34m(\u001b[0m\u001b[0mkey\u001b[0m\u001b[0;34m,\u001b[0m \u001b[0;34m\"columns\"\u001b[0m\u001b[0;34m)\u001b[0m\u001b[0;34m[\u001b[0m\u001b[0;36m1\u001b[0m\u001b[0;34m]\u001b[0m\u001b[0;34m\u001b[0m\u001b[0;34m\u001b[0m\u001b[0m\n\u001b[0m\u001b[1;32m   3512\u001b[0m \u001b[0;34m\u001b[0m\u001b[0m\n\u001b[1;32m   3513\u001b[0m         \u001b[0;31m# take() does not accept boolean indexers\u001b[0m\u001b[0;34m\u001b[0m\u001b[0;34m\u001b[0m\u001b[0m\n",
      "\u001b[0;32m/usr/local/anaconda3/lib/python3.9/site-packages/pandas/core/indexes/base.py\u001b[0m in \u001b[0;36m_get_indexer_strict\u001b[0;34m(self, key, axis_name)\u001b[0m\n\u001b[1;32m   5794\u001b[0m             \u001b[0mkeyarr\u001b[0m\u001b[0;34m,\u001b[0m \u001b[0mindexer\u001b[0m\u001b[0;34m,\u001b[0m \u001b[0mnew_indexer\u001b[0m \u001b[0;34m=\u001b[0m \u001b[0mself\u001b[0m\u001b[0;34m.\u001b[0m\u001b[0m_reindex_non_unique\u001b[0m\u001b[0;34m(\u001b[0m\u001b[0mkeyarr\u001b[0m\u001b[0;34m)\u001b[0m\u001b[0;34m\u001b[0m\u001b[0;34m\u001b[0m\u001b[0m\n\u001b[1;32m   5795\u001b[0m \u001b[0;34m\u001b[0m\u001b[0m\n\u001b[0;32m-> 5796\u001b[0;31m         \u001b[0mself\u001b[0m\u001b[0;34m.\u001b[0m\u001b[0m_raise_if_missing\u001b[0m\u001b[0;34m(\u001b[0m\u001b[0mkeyarr\u001b[0m\u001b[0;34m,\u001b[0m \u001b[0mindexer\u001b[0m\u001b[0;34m,\u001b[0m \u001b[0maxis_name\u001b[0m\u001b[0;34m)\u001b[0m\u001b[0;34m\u001b[0m\u001b[0;34m\u001b[0m\u001b[0m\n\u001b[0m\u001b[1;32m   5797\u001b[0m \u001b[0;34m\u001b[0m\u001b[0m\n\u001b[1;32m   5798\u001b[0m         \u001b[0mkeyarr\u001b[0m \u001b[0;34m=\u001b[0m \u001b[0mself\u001b[0m\u001b[0;34m.\u001b[0m\u001b[0mtake\u001b[0m\u001b[0;34m(\u001b[0m\u001b[0mindexer\u001b[0m\u001b[0;34m)\u001b[0m\u001b[0;34m\u001b[0m\u001b[0;34m\u001b[0m\u001b[0m\n",
      "\u001b[0;32m/usr/local/anaconda3/lib/python3.9/site-packages/pandas/core/indexes/base.py\u001b[0m in \u001b[0;36m_raise_if_missing\u001b[0;34m(self, key, indexer, axis_name)\u001b[0m\n\u001b[1;32m   5857\u001b[0m \u001b[0;34m\u001b[0m\u001b[0m\n\u001b[1;32m   5858\u001b[0m             \u001b[0mnot_found\u001b[0m \u001b[0;34m=\u001b[0m \u001b[0mlist\u001b[0m\u001b[0;34m(\u001b[0m\u001b[0mensure_index\u001b[0m\u001b[0;34m(\u001b[0m\u001b[0mkey\u001b[0m\u001b[0;34m)\u001b[0m\u001b[0;34m[\u001b[0m\u001b[0mmissing_mask\u001b[0m\u001b[0;34m.\u001b[0m\u001b[0mnonzero\u001b[0m\u001b[0;34m(\u001b[0m\u001b[0;34m)\u001b[0m\u001b[0;34m[\u001b[0m\u001b[0;36m0\u001b[0m\u001b[0;34m]\u001b[0m\u001b[0;34m]\u001b[0m\u001b[0;34m.\u001b[0m\u001b[0munique\u001b[0m\u001b[0;34m(\u001b[0m\u001b[0;34m)\u001b[0m\u001b[0;34m)\u001b[0m\u001b[0;34m\u001b[0m\u001b[0;34m\u001b[0m\u001b[0m\n\u001b[0;32m-> 5859\u001b[0;31m             \u001b[0;32mraise\u001b[0m \u001b[0mKeyError\u001b[0m\u001b[0;34m(\u001b[0m\u001b[0;34mf\"{not_found} not in index\"\u001b[0m\u001b[0;34m)\u001b[0m\u001b[0;34m\u001b[0m\u001b[0;34m\u001b[0m\u001b[0m\n\u001b[0m\u001b[1;32m   5860\u001b[0m \u001b[0;34m\u001b[0m\u001b[0m\n\u001b[1;32m   5861\u001b[0m     \u001b[0;34m@\u001b[0m\u001b[0moverload\u001b[0m\u001b[0;34m\u001b[0m\u001b[0;34m\u001b[0m\u001b[0m\n",
      "\u001b[0;31mKeyError\u001b[0m: \"['high_citric'] not in index\""
     ]
    }
   ],
   "source": [
    "# scaling data\n",
    "x_train_scaled, x_validate_scaled, x_test_scaled = w.mm_scale(x_train, x_validate, x_test)"
   ]
  },
  {
   "cell_type": "code",
   "execution_count": 6,
   "id": "2cf1fcba",
   "metadata": {},
   "outputs": [
    {
     "ename": "NameError",
     "evalue": "name 'x_train_scaled' is not defined",
     "output_type": "error",
     "traceback": [
      "\u001b[0;31m---------------------------------------------------------------------------\u001b[0m",
      "\u001b[0;31mNameError\u001b[0m                                 Traceback (most recent call last)",
      "\u001b[0;32m/var/folders/bf/lhpb5n_j1xj4msxy6nrm9h7h0000gn/T/ipykernel_8012/890073707.py\u001b[0m in \u001b[0;36m<module>\u001b[0;34m\u001b[0m\n\u001b[0;32m----> 1\u001b[0;31m \u001b[0mx_train_scaled\u001b[0m\u001b[0;34m\u001b[0m\u001b[0;34m\u001b[0m\u001b[0m\n\u001b[0m",
      "\u001b[0;31mNameError\u001b[0m: name 'x_train_scaled' is not defined"
     ]
    }
   ],
   "source": [
    "x_train_scaled"
   ]
  },
  {
   "cell_type": "markdown",
   "id": "6f16a5dc",
   "metadata": {},
   "source": [
    "* sulphates, density, total sulfur dioxide, free sulfur dioxide, chlorides, residual sugar, citric acid, volatile acidity   has outliers"
   ]
  },
  {
   "cell_type": "code",
   "execution_count": 7,
   "id": "0e3dcf32",
   "metadata": {},
   "outputs": [
    {
     "ename": "NameError",
     "evalue": "name 'w' is not defined",
     "output_type": "error",
     "traceback": [
      "\u001b[0;31m---------------------------------------------------------------------------\u001b[0m",
      "\u001b[0;31mNameError\u001b[0m                                 Traceback (most recent call last)",
      "\u001b[0;32m/var/folders/bf/lhpb5n_j1xj4msxy6nrm9h7h0000gn/T/ipykernel_8012/1267470353.py\u001b[0m in \u001b[0;36m<module>\u001b[0;34m\u001b[0m\n\u001b[0;32m----> 1\u001b[0;31m \u001b[0mtrain\u001b[0m\u001b[0;34m,\u001b[0m \u001b[0mvalidate\u001b[0m\u001b[0;34m,\u001b[0m \u001b[0mtest\u001b[0m \u001b[0;34m=\u001b[0m \u001b[0mw\u001b[0m\u001b[0;34m.\u001b[0m\u001b[0mclean_wine\u001b[0m\u001b[0;34m(\u001b[0m\u001b[0;34m)\u001b[0m\u001b[0;34m\u001b[0m\u001b[0;34m\u001b[0m\u001b[0m\n\u001b[0m",
      "\u001b[0;31mNameError\u001b[0m: name 'w' is not defined"
     ]
    }
   ],
   "source": [
    "train, validate, test = w.clean_wine()"
   ]
  },
  {
   "cell_type": "code",
   "execution_count": 10,
   "id": "0422a3d8",
   "metadata": {},
   "outputs": [
    {
     "ename": "NameError",
     "evalue": "name 'w' is not defined",
     "output_type": "error",
     "traceback": [
      "\u001b[0;31m---------------------------------------------------------------------------\u001b[0m",
      "\u001b[0;31mNameError\u001b[0m                                 Traceback (most recent call last)",
      "\u001b[0;32m/var/folders/bf/lhpb5n_j1xj4msxy6nrm9h7h0000gn/T/ipykernel_8012/3018116540.py\u001b[0m in \u001b[0;36m<module>\u001b[0;34m\u001b[0m\n\u001b[1;32m      1\u001b[0m \u001b[0mtarget\u001b[0m \u001b[0;34m=\u001b[0m \u001b[0;34m\"quality_type\"\u001b[0m\u001b[0;34m\u001b[0m\u001b[0;34m\u001b[0m\u001b[0m\n\u001b[0;32m----> 2\u001b[0;31m \u001b[0mtrain\u001b[0m\u001b[0;34m,\u001b[0m \u001b[0mvalidate\u001b[0m\u001b[0;34m,\u001b[0m \u001b[0mtest\u001b[0m\u001b[0;34m,\u001b[0m \u001b[0mx_train\u001b[0m\u001b[0;34m,\u001b[0m \u001b[0my_train\u001b[0m\u001b[0;34m,\u001b[0m \u001b[0mx_validate\u001b[0m\u001b[0;34m,\u001b[0m \u001b[0my_validate\u001b[0m\u001b[0;34m,\u001b[0m \u001b[0mx_test\u001b[0m\u001b[0;34m,\u001b[0m \u001b[0my_test\u001b[0m \u001b[0;34m=\u001b[0m \u001b[0mw\u001b[0m\u001b[0;34m.\u001b[0m\u001b[0msplit_data_xy\u001b[0m\u001b[0;34m(\u001b[0m\u001b[0mtrain\u001b[0m\u001b[0;34m,\u001b[0m \u001b[0mvalidate\u001b[0m\u001b[0;34m,\u001b[0m \u001b[0mtest\u001b[0m\u001b[0;34m,\u001b[0m \u001b[0mtarget\u001b[0m\u001b[0;34m)\u001b[0m\u001b[0;34m\u001b[0m\u001b[0;34m\u001b[0m\u001b[0m\n\u001b[0m",
      "\u001b[0;31mNameError\u001b[0m: name 'w' is not defined"
     ]
    }
   ],
   "source": [
    "target = \"quality_type\"\n",
    "train, validate, test, x_train, y_train, x_validate, y_validate, x_test, y_test = w.split_data_xy(train, validate, test, target)"
   ]
  },
  {
   "cell_type": "code",
   "execution_count": null,
   "id": "3210b5bf",
   "metadata": {},
   "outputs": [],
   "source": [
    "x_train_scaled, x_validate_scaled, x_test_scaled = w.mm_scale(x_train, x_validate, x_test)\n"
   ]
  },
  {
   "cell_type": "code",
   "execution_count": null,
   "id": "f6057708",
   "metadata": {
    "scrolled": true
   },
   "outputs": [],
   "source": [
    "x_train_scaled"
   ]
  },
  {
   "cell_type": "markdown",
   "id": "80410b1b",
   "metadata": {},
   "source": [
    "# Exploration"
   ]
  },
  {
   "cell_type": "code",
   "execution_count": 11,
   "id": "c2b5ad06",
   "metadata": {},
   "outputs": [],
   "source": [
    "target_var = 'quality'\n",
    "feat_vars = ['fixed_acidity', 'volatile_acidity', 'citric_acid','residual_sugar','chlorides','free_sulfur_dioxide','total_sulfur_dioxide',\n",
    "            'density','ph','alcohol','red_wine']\n",
    "def plot_correlations(df, target_var, feat_vars):\n",
    "    # Calculate correlations between feature variables and target variable\n",
    "    correlations = df[feat_vars].corrwith(df[target_var]).sort_values()\n",
    "   # Create a bar chart to visualize correlations\n",
    "    plt.figure(figsize=(10,6))\n",
    "    plt.barh(correlations.index, correlations.values)\n",
    "    plt.xlabel('Target Variable')\n",
    "    plt.title('Feature Variable Correlations with Target Variable')\n",
    "    plt.show()"
   ]
  },
  {
   "cell_type": "code",
   "execution_count": 12,
   "id": "9fec1d62",
   "metadata": {},
   "outputs": [
    {
     "ename": "NameError",
     "evalue": "name 'train' is not defined",
     "output_type": "error",
     "traceback": [
      "\u001b[0;31m---------------------------------------------------------------------------\u001b[0m",
      "\u001b[0;31mNameError\u001b[0m                                 Traceback (most recent call last)",
      "\u001b[0;32m/var/folders/bf/lhpb5n_j1xj4msxy6nrm9h7h0000gn/T/ipykernel_8012/2022545660.py\u001b[0m in \u001b[0;36m<module>\u001b[0;34m\u001b[0m\n\u001b[0;32m----> 1\u001b[0;31m \u001b[0mplot_correlations\u001b[0m\u001b[0;34m(\u001b[0m\u001b[0mtrain\u001b[0m\u001b[0;34m,\u001b[0m\u001b[0mtarget_var\u001b[0m\u001b[0;34m,\u001b[0m\u001b[0mfeat_vars\u001b[0m\u001b[0;34m)\u001b[0m\u001b[0;34m\u001b[0m\u001b[0;34m\u001b[0m\u001b[0m\n\u001b[0m",
      "\u001b[0;31mNameError\u001b[0m: name 'train' is not defined"
     ]
    }
   ],
   "source": [
    "plot_correlations(train,target_var,feat_vars)"
   ]
  },
  {
   "cell_type": "code",
   "execution_count": 3,
   "id": "d27a9e48",
   "metadata": {},
   "outputs": [],
   "source": [
    "def plot_continuous_target(y):\n",
    "    \"Function to plot target variable\"\n",
    "   \n",
    "    # Plot the continuous target variable\n",
    "    plt.figure(figsize=(8, 6))\n",
    "    plt.hist(y, bins=5,histtype='bar')\n",
    "    plt.xlabel('Target Variable')\n",
    "    plt.ylabel('Frequency')\n",
    "    plt.title('Distribution of Continuous Target Variable')\n",
    "    plt.show()"
   ]
  },
  {
   "cell_type": "code",
   "execution_count": null,
   "id": "35b757a7",
   "metadata": {},
   "outputs": [],
   "source": [
    "plot_continuous_target(train.quality)"
   ]
  },
  {
   "cell_type": "code",
   "execution_count": null,
   "id": "528ae93f",
   "metadata": {},
   "outputs": [],
   "source": [
    "cat_var = 'quality_type'\n",
    "cont_var = ['fixed_acidity', 'volatile_acidity', 'citric_acid','residual_sugar','chlorides','free_sulfur_dioxide','total_sulfur_dioxide',\n",
    "            'density','ph','alcohol']\n",
    "hue='red_wine'\n",
    "def plot_categorical_and_continuous_vars(df, cat_var, cont_var,hue):\n",
    "    for var in cont_var:\n",
    "        # Create a box plot\n",
    "        plt.figure(figsize=(12, 6))\n",
    "        sns.barplot(x=cat_var, y=var, data=df, hue=hue)\n",
    "        plt.axhline(y=df[var].mean(), color='r', linestyle='--')\n",
    "        plt.xlabel(cat_var)\n",
    "        plt.ylabel(var)\n",
    "        plt.title(f'{cat_var} vs. {var}')\n",
    "        plt.show()"
   ]
  },
  {
   "cell_type": "code",
   "execution_count": null,
   "id": "f66deeaa",
   "metadata": {},
   "outputs": [],
   "source": [
    "plot_categorical_and_continuous_vars(train, cat_var, cont_var,hue)"
   ]
  },
  {
   "cell_type": "code",
   "execution_count": null,
   "id": "0cf8b1b9",
   "metadata": {},
   "outputs": [],
   "source": []
  },
  {
   "cell_type": "code",
   "execution_count": null,
   "id": "7f1c6263",
   "metadata": {},
   "outputs": [],
   "source": [
    "train_white_wine=train[train.red_wine==0]"
   ]
  },
  {
   "cell_type": "code",
   "execution_count": null,
   "id": "b023beeb",
   "metadata": {},
   "outputs": [],
   "source": [
    "train_red_wine=train[train.red_wine==1]"
   ]
  },
  {
   "cell_type": "code",
   "execution_count": null,
   "id": "b35b3b03",
   "metadata": {
    "scrolled": true
   },
   "outputs": [],
   "source": []
  },
  {
   "cell_type": "code",
   "execution_count": null,
   "id": "02913577",
   "metadata": {},
   "outputs": [],
   "source": [
    "from sklearn.linear_model import LinearRegression, LassoLarsCV\n",
    "import scipy.stats as stats\n",
    "def statistical_tests_cont_cat(variable_continuous, variable_categorical, alpha=0.05):\n",
    "    # Perform t-test or Mann-Whitney U test based on the number of categories in the categorical variable\n",
    "    unique_categories = variable_categorical.unique()\n",
    "    num_categories = len(unique_categories)\n",
    "\n",
    "    if num_categories == 2:\n",
    "        category1 = variable_continuous[variable_categorical == unique_categories[0]]\n",
    "        category2 = variable_continuous[variable_categorical == unique_categories[1]]\n",
    "\n",
    "        t_statistic, p_value = stats.ttest_ind(category1, category2)\n",
    "        test_type = \"T-Test\"\n",
    "    else:\n",
    "        categories = [variable_continuous[variable_categorical == category] for category in unique_categories]\n",
    "        statistic, p_value = stats.kruskal(*categories)\n",
    "        t_statistic = statistic\n",
    "        test_type = \"Kruskal-Wallis Test\"\n",
    "\n",
    "    print(f\"{test_type} Results:\")\n",
    "    print(f\"Test Statistic: {t_statistic}\")\n",
    "    print(f\"P-Value: {p_value}\")\n",
    "\n",
    "    if p_value < alpha:\n",
    "        print(\"We reject the null hypothesis.\")\n",
    "    else:\n",
    "        print(\"We fail to reject the null hypothesis.\")\n",
    "\n",
    "    # Perform ANOVA or Kruskal-Wallis test based on the number of categories in the categorical variable\n",
    "    if num_categories > 2:\n",
    "        if num_categories <= 10:  # Perform ANOVA test\n",
    "            groups = [variable_continuous[variable_categorical == category] for category in unique_categories]\n",
    "            f_statistic, p_value = stats.f_oneway(*groups)\n",
    "            test_type = \"ANOVA\"\n",
    "        else:  # Perform Kruskal-Wallis test\n",
    "            groups = [variable_continuous[variable_categorical == category] for category in unique_categories]\n",
    "            statistic, p_value = stats.kruskal(*groups)\n",
    "            f_statistic = statistic\n",
    "            test_type = \"Kruskal-Wallis Test\"\n",
    "\n",
    "        print(f\"\\n{test_type} Results:\")\n",
    "        print(f\"Test Statistic: {f_statistic}\")\n",
    "        print(f\"P-Value: {p_value}\")\n",
    "\n",
    "        if p_value < alpha:\n",
    "            print(\"We reject the null hypothesis.\")\n",
    "        else:\n",
    "            print(\"We fail to reject the null hypothesis.\")"
   ]
  },
  {
   "cell_type": "code",
   "execution_count": null,
   "id": "7b3d31a0",
   "metadata": {},
   "outputs": [],
   "source": [
    "def chi_square_test(variable1, variable2, alpha=0.05):\n",
    "    \"This function calculates the chi-square test for two categorical variables and prints out the results.\"\n",
    "    observed = pd.crosstab(variable1, variable2)\n",
    "    chi2, p, dof, expected = stats.chi2_contingency(observed)\n",
    "    \n",
    "    print(\"Observed Contingency Table:\")\n",
    "    print(observed)\n",
    "    print(\"Expected Contingency Table:\")\n",
    "    print(expected)\n",
    "    print(\"Chi-Square Test Statistic:\")\n",
    "    print(chi2)\n",
    "    print(\"p-value:\")\n",
    "    print(p)\n",
    "    \n",
    "    if p < alpha:\n",
    "        print('We reject the null hypothesis.')\n",
    "    else:\n",
    "        print('We fail to reject the null hypothesis.')\n"
   ]
  },
  {
   "cell_type": "markdown",
   "id": "3ba554b8",
   "metadata": {},
   "source": [
    "# Hypotheses:"
   ]
  },
  {
   "cell_type": "markdown",
   "id": "50b41e6c",
   "metadata": {},
   "source": [
    "## 1. Does alcohol affects the quality of the Wine?\n",
    "\n",
    "H_$0$ : Alcohol has no correlation with the quality of the wine.\n",
    "  \n",
    "H_$A$: Alcohol has a correlation with the quality of the wine."
   ]
  },
  {
   "cell_type": "code",
   "execution_count": null,
   "id": "df88922d",
   "metadata": {},
   "outputs": [],
   "source": [
    "cat_var = 'quality_type'\n",
    "cont_var = ['alcohol']\n",
    "hue='red_wine'\n",
    "plot_categorical_and_continuous_vars(train,cat_var,cont_var,hue)"
   ]
  },
  {
   "cell_type": "code",
   "execution_count": null,
   "id": "28333922",
   "metadata": {},
   "outputs": [],
   "source": [
    "statistical_tests_cont_cat(train.alcohol,train.quality_type)"
   ]
  },
  {
   "cell_type": "markdown",
   "id": "44451f11",
   "metadata": {},
   "source": [
    "## 2. Does ph affects the quality of the wine?\n",
    "\n",
    "H_$0$ : Ph has no correlation with the quality of the wine.\n",
    "  \n",
    "H_$A$: Ph has a correlation with the quality of the wine.\n"
   ]
  },
  {
   "cell_type": "code",
   "execution_count": null,
   "id": "d82865f4",
   "metadata": {
    "scrolled": true
   },
   "outputs": [],
   "source": [
    "cat_var = 'quality_type'\n",
    "cont_var = ['ph']\n",
    "hue='red_wine'\n",
    "plot_categorical_and_continuous_vars(train,cat_var,cont_var,hue)"
   ]
  },
  {
   "cell_type": "code",
   "execution_count": null,
   "id": "54a3ef9f",
   "metadata": {
    "scrolled": true
   },
   "outputs": [],
   "source": [
    "statistical_tests_cont_cat(train.ph,train.quality_type)"
   ]
  },
  {
   "cell_type": "code",
   "execution_count": null,
   "id": "3fc0145b",
   "metadata": {},
   "outputs": [],
   "source": [
    "statistical_tests_cont_cat(train.ph,train.quality)"
   ]
  },
  {
   "cell_type": "markdown",
   "id": "fd5fbab6",
   "metadata": {},
   "source": [
    "## 3. Does chloride content affects the quality of the wine?\n",
    "\n",
    "H_$0$ : Chloride has no correlation with the quality of the wine.\n",
    "  \n",
    "H_$A$: Chloride has a correlation with the quality of the wine."
   ]
  },
  {
   "cell_type": "code",
   "execution_count": null,
   "id": "b0fd06ed",
   "metadata": {},
   "outputs": [],
   "source": [
    "cat_var = 'quality_type'\n",
    "cont_var = ['chlorides']\n",
    "hue='wine_type'\n",
    "plot_categorical_and_continuous_vars(train,cat_var,cont_var,hue)"
   ]
  },
  {
   "cell_type": "code",
   "execution_count": null,
   "id": "1c9f44b2",
   "metadata": {
    "scrolled": true
   },
   "outputs": [],
   "source": [
    "statistical_tests_cont_cat(train.chlorides,train.quality_type)"
   ]
  },
  {
   "cell_type": "markdown",
   "id": "fcf28183",
   "metadata": {},
   "source": [
    "# Clustering"
   ]
  },
  {
   "cell_type": "markdown",
   "id": "f8c78e09",
   "metadata": {},
   "source": [
    "- Features to be use: alcohol, chlorides, residual sugar and density."
   ]
  },
  {
   "cell_type": "code",
   "execution_count": null,
   "id": "d341c0b5",
   "metadata": {},
   "outputs": [],
   "source": [
    "X=x_train_scaled[['alcohol','red_wine','residual_sugar']]\n"
   ]
  },
  {
   "cell_type": "code",
   "execution_count": null,
   "id": "f8426cf6",
   "metadata": {},
   "outputs": [],
   "source": [
    "y_train.value_counts()"
   ]
  },
  {
   "cell_type": "code",
   "execution_count": null,
   "id": "1f69449c",
   "metadata": {},
   "outputs": [],
   "source": [
    "from sklearn.cluster import KMeans\n",
    "\n",
    "def elbow_method(data, max_k):\n",
    "    wcss = []\n",
    "    for k in range(1, max_k+1):\n",
    "        kmeans = KMeans(n_clusters=k, random_state=42)\n",
    "        kmeans.fit(data)\n",
    "        wcss.append(kmeans.inertia_)\n",
    "    \n",
    "    # Plot the WCSS values\n",
    "    plt.plot(range(1, max_k+1), wcss)\n",
    "    plt.xlabel('Number of Clusters (k)')\n",
    "    plt.ylabel('WCSS')\n",
    "    plt.title('Elbow Method')\n",
    "    plt.show()\n"
   ]
  },
  {
   "cell_type": "code",
   "execution_count": null,
   "id": "3645ea26",
   "metadata": {},
   "outputs": [],
   "source": [
    "elbow_method(X,4)"
   ]
  },
  {
   "cell_type": "code",
   "execution_count": null,
   "id": "2431203b",
   "metadata": {},
   "outputs": [],
   "source": [
    "def calculate_kmeans(data, n_clusters):\n",
    "    kmeans = KMeans(n_clusters=n_clusters, random_state=42)\n",
    "    kmeans.fit(data)\n",
    "    \n",
    "    # Create a new DataFrame with the cluster labels\n",
    "    df = pd.DataFrame(data)\n",
    "    df['cluster'] = kmeans.labels_\n",
    "    \n",
    "    return df"
   ]
  },
  {
   "cell_type": "code",
   "execution_count": null,
   "id": "9eb517ff",
   "metadata": {
    "scrolled": true
   },
   "outputs": [],
   "source": [
    "clusters=calculate_kmeans(X,3)\n",
    "clusters"
   ]
  },
  {
   "cell_type": "code",
   "execution_count": null,
   "id": "572f517e",
   "metadata": {},
   "outputs": [],
   "source": [
    "sns.relplot(data=clusters,\n",
    "           x='residual_sugar',\n",
    "           y='alcohol',\n",
    "           hue='red_wine',\n",
    "           col='cluster',\n",
    "           col_wrap=2)\n",
    "plt.show()"
   ]
  },
  {
   "cell_type": "code",
   "execution_count": null,
   "id": "d44a6711",
   "metadata": {
    "scrolled": true
   },
   "outputs": [],
   "source": [
    "X.cluster.value_counts().plot.barh();"
   ]
  },
  {
   "cell_type": "code",
   "execution_count": null,
   "id": "3d5aaf55",
   "metadata": {},
   "outputs": [],
   "source": [
    "X=x_train_scaled[['alcohol','chlorides','residual_sugar']]"
   ]
  },
  {
   "cell_type": "code",
   "execution_count": null,
   "id": "66ebbaa2",
   "metadata": {},
   "outputs": [],
   "source": [
    "elbow_method(X,3)"
   ]
  },
  {
   "cell_type": "code",
   "execution_count": null,
   "id": "603f7906",
   "metadata": {},
   "outputs": [],
   "source": [
    "clusters=calculate_kmeans(X,3)\n",
    "clusters"
   ]
  },
  {
   "cell_type": "code",
   "execution_count": null,
   "id": "f832e2d0",
   "metadata": {},
   "outputs": [],
   "source": [
    "sns.relplot(data=clusters,\n",
    "           x='residual_sugar',\n",
    "           y='alcohol',\n",
    "           col='cluster',\n",
    "           col_wrap=2)\n",
    "plt.show()"
   ]
  },
  {
   "cell_type": "code",
   "execution_count": null,
   "id": "9c46107b",
   "metadata": {},
   "outputs": [],
   "source": [
    "import plotly.graph_objects as go\n",
    "from plotly.subplots import make_subplots\n",
    "\n",
    "def visualize_clusters(data, x, y, cluster_labels, hue):\n",
    "    \"This function creates a scatter plot to visualize different clusters using Plotly.\"\n",
    "    \n",
    "    # Create subplots with one subplot per cluster\n",
    "    fig = make_subplots(rows=2, cols=2, subplot_titles=['Cluster 0', 'Cluster 1', 'Cluster 2', 'Cluster 3'])\n",
    "    \n",
    "    # Iterate over each unique cluster label\n",
    "    for cluster in cluster_labels.unique():\n",
    "        # Filter data for the current cluster\n",
    "        cluster_data = data[cluster_labels == cluster]\n",
    "        \n",
    "        # Add scatter trace for the current cluster\n",
    "        fig.add_trace(\n",
    "            go.Scatter(\n",
    "                x=cluster_data[x],\n",
    "                y=cluster_data[y],\n",
    "                mode='markers',\n",
    "                marker=dict(color=cluster_data[hue], colorscale='Viridis'),\n",
    "                showlegend=True,\n",
    "                name='Cluster ' + str(cluster)\n",
    "            ),\n",
    "            row=(cluster // 2) + 1,\n",
    "            col=(cluster % 2) + 1\n",
    "        )\n",
    "    \n",
    "    # Update layout\n",
    "    fig.update_layout(height=600, width=800, title='Cluster Visualization')\n",
    "    fig.update_xaxes(title_text=x, row=2, col=1)\n",
    "    fig.update_yaxes(title_text=y, row=1, col=1)\n",
    "    \n",
    "    # Show the plot\n",
    "    fig.show()\n",
    "\n",
    "\n",
    "\n"
   ]
  },
  {
   "cell_type": "code",
   "execution_count": null,
   "id": "e99b5ba9",
   "metadata": {
    "scrolled": true
   },
   "outputs": [],
   "source": [
    "visualize_clusters(clusters,'alcohol','residual_sugar',clusters.cluster,'chlorides')"
   ]
  },
  {
   "cell_type": "code",
   "execution_count": null,
   "id": "ee1cf70e",
   "metadata": {},
   "outputs": [],
   "source": [
    "sns.relplot(data=clusters,\n",
    "           x='residual_sugar',\n",
    "           y='alcohol',\n",
    "           hue='chlorides',\n",
    "           col='cluster',\n",
    "           col_wrap=2)\n",
    "plt.show()"
   ]
  },
  {
   "cell_type": "markdown",
   "id": "15b59a19",
   "metadata": {},
   "source": [
    "## Clusterting adding the target variable "
   ]
  },
  {
   "cell_type": "code",
   "execution_count": null,
   "id": "ba8f2683",
   "metadata": {
    "scrolled": false
   },
   "outputs": [],
   "source": [
    "train.head()"
   ]
  },
  {
   "cell_type": "code",
   "execution_count": null,
   "id": "f741eed4",
   "metadata": {},
   "outputs": [],
   "source": [
    "x_train= train[['quality','residual_sugar','alcohol']]"
   ]
  },
  {
   "cell_type": "code",
   "execution_count": null,
   "id": "fa1f1dce",
   "metadata": {},
   "outputs": [],
   "source": [
    "def minmax_scale_data(X_train):\n",
    "    # Initialize MinMaxScaler object\n",
    "    scaler = MinMaxScaler()\n",
    "    \n",
    "    # Fit scaler object to training data\n",
    "    scaler.fit(X_train)\n",
    "    \n",
    "    # Transform training data\n",
    "    X_train_scaled = scaler.transform(X_train)\n",
    "    \n",
    "    # Convert scaled data to DataFrame\n",
    "    X_train_scaled_df = pd.DataFrame(X_train_scaled, columns=X_train.columns)\n",
    "    \n",
    "    # Return scaled data as a DataFrame\n",
    "    return X_train_scaled_df"
   ]
  },
  {
   "cell_type": "code",
   "execution_count": null,
   "id": "f55de250",
   "metadata": {},
   "outputs": [],
   "source": [
    "x_train_s=minmax_scale_data(x_train)\n",
    "x_train_s"
   ]
  },
  {
   "cell_type": "code",
   "execution_count": null,
   "id": "743640b1",
   "metadata": {},
   "outputs": [],
   "source": [
    "t_clusters=calculate_kmeans(x_train_s,4)\n",
    "t_clusters"
   ]
  },
  {
   "cell_type": "code",
   "execution_count": null,
   "id": "810015f9",
   "metadata": {
    "scrolled": true
   },
   "outputs": [],
   "source": [
    "visualize_clusters(t_clusters,'alcohol','residual_sugar',t_clusters.cluster,'quality')"
   ]
  },
  {
   "cell_type": "code",
   "execution_count": null,
   "id": "f959407c",
   "metadata": {},
   "outputs": [],
   "source": [
    "sns.relplot(data=t_clusters,\n",
    "           x='residual_sugar',\n",
    "           y='alcohol',\n",
    "           hue='quality',\n",
    "           col='cluster',\n",
    "           col_wrap=2)\n",
    "plt.show()"
   ]
  },
  {
   "cell_type": "markdown",
   "id": "d471fb99",
   "metadata": {},
   "source": [
    "## Clustering with just red wine information"
   ]
  },
  {
   "cell_type": "code",
   "execution_count": null,
   "id": "50203666",
   "metadata": {
    "scrolled": true
   },
   "outputs": [],
   "source": [
    "train_red_wine.head(2)"
   ]
  },
  {
   "cell_type": "code",
   "execution_count": null,
   "id": "c8058606",
   "metadata": {},
   "outputs": [],
   "source": [
    "x_red_train= train_red_wine[['quality','residual_sugar','alcohol']]"
   ]
  },
  {
   "cell_type": "code",
   "execution_count": null,
   "id": "97cf4965",
   "metadata": {
    "scrolled": true
   },
   "outputs": [],
   "source": [
    "x_red_train_s=minmax_scale_data(x_red_train)"
   ]
  },
  {
   "cell_type": "code",
   "execution_count": null,
   "id": "abfe1bf0",
   "metadata": {
    "scrolled": true
   },
   "outputs": [],
   "source": [
    "red_cluster=calculate_kmeans(x_red_train_s,2)\n",
    "red_cluster.head(2)"
   ]
  },
  {
   "cell_type": "code",
   "execution_count": null,
   "id": "afe7074f",
   "metadata": {
    "scrolled": true
   },
   "outputs": [],
   "source": [
    "visualize_clusters(red_cluster,'alcohol','residual_sugar',red_cluster.cluster)"
   ]
  },
  {
   "cell_type": "code",
   "execution_count": null,
   "id": "844b2a7a",
   "metadata": {},
   "outputs": [],
   "source": [
    "sns.relplot(data=red_cluster,\n",
    "           x='residual_sugar',\n",
    "           y='alcohol',\n",
    "           hue='quality',\n",
    "           col='cluster',\n",
    "           col_wrap=2)\n",
    "plt.show()"
   ]
  },
  {
   "cell_type": "markdown",
   "id": "a276891f",
   "metadata": {},
   "source": [
    "## DBSCAN Clustering "
   ]
  },
  {
   "cell_type": "code",
   "execution_count": null,
   "id": "c9380f6d",
   "metadata": {},
   "outputs": [],
   "source": [
    "import pandas as pd\n",
    "from sklearn.cluster import DBSCAN\n",
    "\n",
    "def dbscan_clustering(data, epsilon, min_samples):\n",
    "    \"This function performs DBSCAN clustering and adds the cluster labels as a new column in the DataFrame.\"\n",
    "    \n",
    "    # Perform DBSCAN clustering\n",
    "    dbscan = DBSCAN(eps=epsilon, min_samples=min_samples)\n",
    "    cluster_labels = dbscan.fit_predict(data)\n",
    "    \n",
    "    # Add cluster labels as a new column\n",
    "    data['cluster'] = cluster_labels\n",
    "    \n",
    "    return data\n"
   ]
  },
  {
   "cell_type": "code",
   "execution_count": null,
   "id": "928ac9ef",
   "metadata": {},
   "outputs": [],
   "source": [
    "db_clusters=dbscan_clustering(X,10,10)"
   ]
  },
  {
   "cell_type": "code",
   "execution_count": null,
   "id": "5cbfea90",
   "metadata": {},
   "outputs": [],
   "source": [
    "db_clusters"
   ]
  },
  {
   "cell_type": "code",
   "execution_count": null,
   "id": "e36b1bfc",
   "metadata": {
    "scrolled": false
   },
   "outputs": [],
   "source": [
    "visualize_clusters(db_clusters,'alcohol','residual_sugar',db_clusters.cluster)"
   ]
  },
  {
   "cell_type": "markdown",
   "id": "2b73732a",
   "metadata": {},
   "source": [
    "## Clustering with target variable and total sulfur dioxide"
   ]
  },
  {
   "cell_type": "code",
   "execution_count": null,
   "id": "e6704052",
   "metadata": {},
   "outputs": [],
   "source": [
    "x_train_scaled"
   ]
  },
  {
   "cell_type": "code",
   "execution_count": null,
   "id": "775b7951",
   "metadata": {},
   "outputs": [],
   "source": [
    "x_train= train[['quality','residual_sugar','alcohol']]"
   ]
  },
  {
   "cell_type": "code",
   "execution_count": null,
   "id": "92425074",
   "metadata": {},
   "outputs": [],
   "source": [
    "x_scaled_s=minmax_scale_data(x_train)"
   ]
  },
  {
   "cell_type": "code",
   "execution_count": null,
   "id": "2b236092",
   "metadata": {
    "scrolled": true
   },
   "outputs": [],
   "source": [
    "elbow_method(x_scaled_s,8)"
   ]
  },
  {
   "cell_type": "code",
   "execution_count": null,
   "id": "29ae5645",
   "metadata": {
    "scrolled": true
   },
   "outputs": [],
   "source": [
    "s_clusters=calculate_kmeans(x_scaled_s,3)"
   ]
  },
  {
   "cell_type": "code",
   "execution_count": null,
   "id": "64e79fc6",
   "metadata": {
    "scrolled": true
   },
   "outputs": [],
   "source": [
    "sns.relplot(data=s_clusters,\n",
    "           x='total_sulfur_dioxide',\n",
    "           y='alcohol',\n",
    "           hue='quality',\n",
    "           col='cluster',\n",
    "           col_wrap=2)\n",
    "plt.show()"
   ]
  },
  {
   "cell_type": "markdown",
   "id": "1a49df68",
   "metadata": {},
   "source": [
    "## Clustering with total sulfur dioxide, chloride and target variable"
   ]
  },
  {
   "cell_type": "code",
   "execution_count": null,
   "id": "e4d275c5",
   "metadata": {},
   "outputs": [],
   "source": [
    "x_train= train[['quality','total_sulfur_dioxide','chlorides']]"
   ]
  },
  {
   "cell_type": "code",
   "execution_count": null,
   "id": "fef97748",
   "metadata": {},
   "outputs": [],
   "source": [
    "x_scaled_c=minmax_scale_data(x_train)"
   ]
  },
  {
   "cell_type": "code",
   "execution_count": null,
   "id": "a10edf94",
   "metadata": {},
   "outputs": [],
   "source": [
    "c_cluster=calculate_kmeans(x_scaled_c,3)"
   ]
  },
  {
   "cell_type": "code",
   "execution_count": null,
   "id": "e8829b05",
   "metadata": {
    "scrolled": true
   },
   "outputs": [],
   "source": [
    "elbow_method(x_scaled_c,8)"
   ]
  },
  {
   "cell_type": "code",
   "execution_count": null,
   "id": "adccd669",
   "metadata": {
    "scrolled": true
   },
   "outputs": [],
   "source": [
    "sns.relplot(data=c_cluster,\n",
    "           x='total_sulfur_dioxide',\n",
    "           y='chlorides',\n",
    "           hue='quality',\n",
    "           col='cluster',\n",
    "           col_wrap=2)\n",
    "plt.show()"
   ]
  },
  {
   "cell_type": "markdown",
   "id": "29e4ee9c",
   "metadata": {},
   "source": [
    "## Creating a clustering utilizing residual sugar, alcohol and total sulfur dioxide as a new \"feaure\" column. and comparing it against chlorides"
   ]
  },
  {
   "cell_type": "code",
   "execution_count": null,
   "id": "9ed0730d",
   "metadata": {
    "scrolled": true
   },
   "outputs": [],
   "source": [
    "train.head()"
   ]
  },
  {
   "cell_type": "code",
   "execution_count": null,
   "id": "9a683f7a",
   "metadata": {},
   "outputs": [],
   "source": [
    "X_train=train[['chlorides','density','quality']]"
   ]
  },
  {
   "cell_type": "code",
   "execution_count": null,
   "id": "5e2f7886",
   "metadata": {},
   "outputs": [],
   "source": [
    "X_Train_Scaled=minmax_scale_data(X_train)"
   ]
  },
  {
   "cell_type": "code",
   "execution_count": null,
   "id": "b4aed843",
   "metadata": {},
   "outputs": [],
   "source": [
    "X_Train_Scaled['cluster'] = s_clusters.cluster.map({\n",
    "    0:'high',\n",
    "    1:'medium',\n",
    "    2:'low'\n",
    "})"
   ]
  },
  {
   "cell_type": "code",
   "execution_count": null,
   "id": "e8253cf7",
   "metadata": {
    "scrolled": true
   },
   "outputs": [],
   "source": [
    "X_Train_Scaled"
   ]
  },
  {
   "cell_type": "code",
   "execution_count": null,
   "id": "287ac62a",
   "metadata": {},
   "outputs": [],
   "source": [
    "sns.relplot(data=X_Train_Scaled,\n",
    "           x='density',\n",
    "           y='chlorides',\n",
    "            hue='quality',\n",
    "           col='cluster',\n",
    "           col_wrap=2)\n",
    "plt.show()"
   ]
  },
  {
   "cell_type": "markdown",
   "id": "ba4ace51",
   "metadata": {},
   "source": [
    "# MODELING:"
   ]
  },
  {
   "cell_type": "code",
   "execution_count": null,
   "id": "c76a87e8",
   "metadata": {},
   "outputs": [],
   "source": [
    "red_wine_mean_citric_acid = train[train.red_wine == 1].citric_acid.mean()\n",
    "train['high_citric'] = (train.red_wine == 1) & (train.citric_acid > red_wine_mean_citric_acid)\n",
    "train['high_citric'] = train['high_citric'].astype(int)\n",
    "\n",
    "\n",
    "red_wine_mean_citric_acid = validate[validate.red_wine == 1].citric_acid.mean()\n",
    "validate['high_citric'] = (validate.red_wine == 1) & (validate.citric_acid > red_wine_mean_citric_acid)\n",
    "validate['high_citric'] = validate['high_citric'].astype(int)\n",
    "\n",
    "\n",
    "red_wine_mean_citric_acid = test[test.red_wine == 1].citric_acid.mean()\n",
    "test['high_citric'] = (test.red_wine == 1) & (test.citric_acid > red_wine_mean_citric_acid)\n",
    "test['high_citric'] = test['high_citric'].astype(int)\n"
   ]
  },
  {
   "cell_type": "code",
   "execution_count": null,
   "id": "d32c33e3",
   "metadata": {},
   "outputs": [],
   "source": []
  },
  {
   "cell_type": "code",
   "execution_count": null,
   "id": "66846d46",
   "metadata": {},
   "outputs": [],
   "source": [
    "x_train=train[['alcohol','residual_sugar','total_sulfur_dioxide','chlorides','high_citric']]\n",
    "y_train=train.quality_type\n",
    "x_validate=validate[['alcohol','residual_sugar','total_sulfur_dioxide','chlorides','high_citric']]\n",
    "y_validate=validate.quality_type\n",
    "x_test=test[['alcohol','residual_sugar','total_sulfur_dioxide','chlorides','high_citric']]\n",
    "y_test=test.quality_type"
   ]
  },
  {
   "cell_type": "code",
   "execution_count": null,
   "id": "2001b1de",
   "metadata": {},
   "outputs": [],
   "source": [
    "x_train.head()"
   ]
  },
  {
   "cell_type": "code",
   "execution_count": null,
   "id": "809d3b8f",
   "metadata": {},
   "outputs": [],
   "source": []
  },
  {
   "cell_type": "code",
   "execution_count": null,
   "id": "db132004",
   "metadata": {},
   "outputs": [],
   "source": [
    "def minmax_scale_data(X_train, X_validate, X_test):\n",
    "    # Initialize MinMaxScaler object\n",
    "    scaler = MinMaxScaler()\n",
    "\n",
    "    # Fit scaler object to training data\n",
    "    scaler.fit(X_train)\n",
    "\n",
    "    # Transform training and validation data\n",
    "    X_train_scaled = pd.DataFrame(scaler.transform(X_train), columns=X_train.columns)\n",
    "    X_validate_scaled = pd.DataFrame(scaler.transform(X_validate), columns=X_validate.columns)\n",
    "    X_test_scaled = pd.DataFrame(scaler.transform(X_test), columns=X_test.columns)\n",
    "\n",
    "    # Return scaled data as DataFrames\n",
    "    return X_train_scaled, X_validate_scaled, X_test_scaled"
   ]
  },
  {
   "cell_type": "code",
   "execution_count": null,
   "id": "33d96707",
   "metadata": {},
   "outputs": [],
   "source": [
    "x_train_scaled,x_validate_scaled,x_test_scaled=minmax_scale_data(x_train,x_validate,x_test)"
   ]
  },
  {
   "cell_type": "code",
   "execution_count": null,
   "id": "b7c84bc2",
   "metadata": {},
   "outputs": [],
   "source": [
    "from sklearn.linear_model import LogisticRegression\n",
    "from sklearn.tree import DecisionTreeClassifier\n",
    "from sklearn.neighbors import KNeighborsClassifier\n",
    "from sklearn.ensemble import RandomForestClassifier"
   ]
  },
  {
   "cell_type": "code",
   "execution_count": null,
   "id": "009e6263",
   "metadata": {
    "scrolled": true
   },
   "outputs": [],
   "source": [
    "y_train.value_counts()"
   ]
  },
  {
   "cell_type": "code",
   "execution_count": null,
   "id": "39ed0383",
   "metadata": {},
   "outputs": [],
   "source": [
    "def create_pie_chart(df, column_name,title):\n",
    "    values = df[column_name].value_counts()\n",
    "    labels = values.index.tolist()\n",
    "    sizes = values.tolist()\n",
    "    plt.pie(sizes, labels=labels, autopct='%1.1f%%', startangle=90)\n",
    "    plt.axis('equal')\n",
    "    plt.title(title)\n",
    "    plt.show()"
   ]
  },
  {
   "cell_type": "code",
   "execution_count": null,
   "id": "d8b24779",
   "metadata": {},
   "outputs": [],
   "source": [
    "create_pie_chart(train,'quality_type','Quality Type Visualization')"
   ]
  },
  {
   "cell_type": "code",
   "execution_count": null,
   "id": "41f0b471",
   "metadata": {},
   "outputs": [],
   "source": [
    "# DECISION TREE\n",
    "import pandas as pd\n",
    "\n",
    "def fit_DT_random_features(X_scaled, y, n_random_features=0):\n",
    "    \"\"\"\n",
    "    Fits a decision tree model to the input pre-scaled data `X_scaled` and `y`,\n",
    "    with an additional `n_random_features` randomly selected features from `X_scaled`.\n",
    "    Returns the best model that achieves a score of 70% or higher on the `y` variable,\n",
    "    along with the results of the top five best models.\n",
    "    \"\"\"\n",
    "    results = []\n",
    "    best_models = []\n",
    "    for depth in range(1, 21):\n",
    "        selected_cols = np.random.choice(X_scaled.columns, size=n_random_features, replace=False)\n",
    "        X_with_random = X_scaled.copy()\n",
    "        for col in selected_cols:\n",
    "            X_with_random[col] = np.random.permutation(X_with_random[col].values)\n",
    "        model = DecisionTreeClassifier(max_depth=depth)\n",
    "        model.fit(X_with_random, y)\n",
    "        score = model.score(X_with_random, y)\n",
    "        if 0.68 < score < 0.80:\n",
    "            results.append((model, score))\n",
    "    \n",
    "    results.sort(key=lambda x: x[1], reverse=True)\n",
    "    best_models = [result[0] for result in results[:5]]\n",
    "    best_scores = [result[1] for result in results[:5]]\n",
    "    top_models_df = pd.DataFrame({'Model': best_models, 'Score': best_scores})\n",
    "    \n",
    "    return best_models[0], top_models_df\n",
    "\n"
   ]
  },
  {
   "cell_type": "code",
   "execution_count": null,
   "id": "9ce844e5",
   "metadata": {},
   "outputs": [],
   "source": [
    "fit_DT_random_features(X,y_train,4)"
   ]
  },
  {
   "cell_type": "code",
   "execution_count": null,
   "id": "dcb063e9",
   "metadata": {},
   "outputs": [],
   "source": [
    "\n",
    "\n",
    "def fit_KNN_random_features(X_scaled, y, n_random_features=0):\n",
    "    \"\"\"\n",
    "    Fits a K-Nearest Neighbors model to the input pre-scaled data `X_scaled` and `y`,\n",
    "    with an additional `n_random_features` randomly selected features from `X_scaled`.\n",
    "    Returns the best model that achieves a score of 70% or higher on the `y` variable,\n",
    "    along with the results of the top five best models.\n",
    "    \"\"\"\n",
    "    results = []\n",
    "    best_models = []\n",
    "    for n_neighbors in range(1, 21):\n",
    "        selected_cols = np.random.choice(X_scaled.columns, size=n_random_features, replace=False)\n",
    "        X_with_random = X_scaled.copy()\n",
    "        for col in selected_cols:\n",
    "            X_with_random[col] = np.random.permutation(X_with_random[col].values)\n",
    "        model = KNeighborsClassifier(n_neighbors=n_neighbors)\n",
    "        model.fit(X_with_random, y)\n",
    "        score = model.score(X_with_random, y)\n",
    "        if 0.68 < score < 0.80:\n",
    "            results.append((model, score))\n",
    "    \n",
    "    results.sort(key=lambda x: x[1], reverse=True)\n",
    "    best_models = [result[0] for result in results[:5]]\n",
    "    best_scores = [result[1] for result in results[:5]]\n",
    "    top_models_df = pd.DataFrame({'Model': best_models, 'Score': best_scores})\n",
    "    \n",
    "    return best_models[0], top_models_df\n",
    "\n",
    "\n",
    "def fit_RF_random_features(X_scaled, y, n_random_features=0):\n",
    "    \"\"\"\n",
    "    Fits a Random Forest model to the input pre-scaled data `X_scaled` and `y`,\n",
    "    with an additional `n_random_features` randomly selected features from `X_scaled`.\n",
    "    Returns the best model that achieves a score between 0.68 and 0.95 on the `y` variable,\n",
    "    along with the results of the top five best models.\n",
    "    \"\"\"\n",
    "    results = []\n",
    "    best_models = []\n",
    "    for n_estimators in range(10, 201, 10):\n",
    "        selected_cols = np.random.choice(X_scaled.columns, size=n_random_features, replace=False)\n",
    "        X_with_random = X_scaled.copy()\n",
    "        for col in selected_cols:\n",
    "            X_with_random[col] = np.random.permutation(X_with_random[col].values)\n",
    "        model = RandomForestClassifier(n_estimators=n_estimators)\n",
    "        model.fit(X_with_random, y)\n",
    "        score = model.score(X_with_random, y)\n",
    "        if 0.68 < score < 0.99:\n",
    "            results.append((model, score))\n",
    "\n",
    "    results.sort(key=lambda x: x[1], reverse=True)\n",
    "    if results:\n",
    "        best_models = [result[0] for result in results[:5]]\n",
    "        best_scores = [result[1] for result in results[:5]]\n",
    "        top_models_df = pd.DataFrame({'Model': best_models, 'Score': best_scores})\n",
    "        return best_models[0], top_models_df\n",
    "    else:\n",
    "        return None, None\n",
    "\n",
    "\n"
   ]
  },
  {
   "cell_type": "code",
   "execution_count": null,
   "id": "6911ec57",
   "metadata": {},
   "outputs": [],
   "source": [
    "fit_KNN_random_features(X,y_train,3)"
   ]
  },
  {
   "cell_type": "code",
   "execution_count": null,
   "id": "c74e64ba",
   "metadata": {},
   "outputs": [],
   "source": [
    "fit_KNN_random_features(X,y_train,4)"
   ]
  },
  {
   "cell_type": "code",
   "execution_count": null,
   "id": "bc834e19",
   "metadata": {},
   "outputs": [],
   "source": [
    "fit_RF_random_features(X,y_train,3)"
   ]
  },
  {
   "cell_type": "code",
   "execution_count": null,
   "id": "4d734b1b",
   "metadata": {},
   "outputs": [],
   "source": [
    "fit_RF_random_features(X,y_train,2)"
   ]
  },
  {
   "cell_type": "code",
   "execution_count": null,
   "id": "4386d043",
   "metadata": {},
   "outputs": [],
   "source": [
    "def fit_LR_random_features(X_scaled, y, n_random_features=0):\n",
    "    \"\"\"\n",
    "    Fits a Logistic Regression model to the input pre-scaled data `X_scaled` and `y`,\n",
    "    with an additional `n_random_features` randomly selected features from `X_scaled`.\n",
    "    Returns the best model that achieves a score between 0.68 and 0.80 on the `y` variable,\n",
    "    along with the results of the top five best models.\n",
    "    \"\"\"\n",
    "    results = []\n",
    "    best_models = []\n",
    "    for C in [0.001, 0.01, 0.1, 1.0, 10.0]:\n",
    "        selected_cols = np.random.choice(X_scaled.columns, size=n_random_features, replace=False)\n",
    "        X_with_random = X_scaled.copy()\n",
    "        for col in selected_cols:\n",
    "            X_with_random[col] = np.random.permutation(X_with_random[col].values)\n",
    "        model = LogisticRegression(C=C)\n",
    "        model.fit(X_with_random, y)\n",
    "        score = model.score(X_with_random, y)\n",
    "        if 0.68 < score < 0.80:\n",
    "            results.append((model, score))\n",
    "    \n",
    "    results.sort(key=lambda x: x[1], reverse=True)\n",
    "    best_models = [result[0] for result in results[:5]]\n",
    "    best_scores = [result[1] for result in results[:5]]\n",
    "    top_models_df = pd.DataFrame({'Model': best_models, 'Score': best_scores})\n",
    "    \n",
    "    return best_models[0], top_models_df\n",
    "\n",
    "\n"
   ]
  },
  {
   "cell_type": "code",
   "execution_count": null,
   "id": "f646f447",
   "metadata": {},
   "outputs": [],
   "source": [
    "fit_LR_random_features(X,y_train,3)"
   ]
  },
  {
   "cell_type": "markdown",
   "id": "97d94ee4",
   "metadata": {},
   "source": [
    "# Testing on Validate and Test:\n",
    "\n",
    "- Decision Tree Classifier: 13 and 15 max_depth\n",
    "- KN Neighbors: 2 and 3 neighbors"
   ]
  },
  {
   "cell_type": "code",
   "execution_count": null,
   "id": "89f43e6d",
   "metadata": {},
   "outputs": [],
   "source": [
    "from sklearn.metrics import accuracy_score\n",
    "def run_decision_tree(X_train, X_test, y_train, y_test, max_depth):\n",
    "    # Create a Decision Tree classifier\n",
    "    dt = DecisionTreeClassifier(max_depth=max_depth)\n",
    "    \n",
    "    # Train the classifier on the training data\n",
    "    dt.fit(X_train, y_train)\n",
    "    \n",
    "    # Predict the target variable for the test data\n",
    "    y_pred = dt.predict(X_test)\n",
    "    \n",
    "    # Calculate and return the accuracy score\n",
    "    accuracy = accuracy_score(y_test, y_pred)\n",
    "    return accuracy"
   ]
  },
  {
   "cell_type": "markdown",
   "id": "8098df16",
   "metadata": {},
   "source": [
    "### Decision Tree max depth 16\n",
    "- Results with train data : .7981"
   ]
  },
  {
   "cell_type": "code",
   "execution_count": null,
   "id": "d0fdd7d3",
   "metadata": {},
   "outputs": [],
   "source": [
    "run_decision_tree(x_train, x_validate, y_train, y_validate, 16)"
   ]
  },
  {
   "cell_type": "code",
   "execution_count": null,
   "id": "f3924d1b",
   "metadata": {},
   "outputs": [],
   "source": [
    "run_decision_tree(x_train, x_test, y_train, y_test, 16)"
   ]
  },
  {
   "cell_type": "markdown",
   "id": "b2ceb473",
   "metadata": {},
   "source": [
    "### Decision Tree max depth 13\n",
    "- Results with train data: .7930"
   ]
  },
  {
   "cell_type": "code",
   "execution_count": null,
   "id": "c1f59649",
   "metadata": {},
   "outputs": [],
   "source": [
    "run_decision_tree(x_train, x_validate, y_train, y_validate, 13)"
   ]
  },
  {
   "cell_type": "code",
   "execution_count": null,
   "id": "6e986eb0",
   "metadata": {},
   "outputs": [],
   "source": [
    "run_decision_tree(x_train, x_test, y_train, y_test, 13)"
   ]
  },
  {
   "cell_type": "markdown",
   "id": "49f84847",
   "metadata": {},
   "source": [
    "### KNN 3 n_neighbors\n",
    "- Results with train data: .7761"
   ]
  },
  {
   "cell_type": "code",
   "execution_count": null,
   "id": "7a56bd5d",
   "metadata": {},
   "outputs": [],
   "source": [
    "def run_knn(X_train, X_test, y_train, y_test, n_neighbors):\n",
    "    # Create a K-Nearest Neighbors classifier\n",
    "    knn = KNeighborsClassifier(n_neighbors=n_neighbors)\n",
    "    \n",
    "    # Train the classifier on the training data\n",
    "    knn.fit(X_train, y_train)\n",
    "    \n",
    "    # Predict the target variable for the test data\n",
    "    y_pred = knn.predict(X_test)\n",
    "    \n",
    "    # Calculate and return the accuracy score\n",
    "    accuracy = accuracy_score(y_test, y_pred)\n",
    "    return accuracy"
   ]
  },
  {
   "cell_type": "code",
   "execution_count": null,
   "id": "c710272a",
   "metadata": {},
   "outputs": [],
   "source": [
    "run_knn(x_train,x_validate,y_train,y_validate,3)"
   ]
  },
  {
   "cell_type": "code",
   "execution_count": null,
   "id": "cc56ab0c",
   "metadata": {},
   "outputs": [],
   "source": [
    "run_knn(x_train,x_test,y_train,y_test,3)"
   ]
  },
  {
   "cell_type": "markdown",
   "id": "2720135b",
   "metadata": {},
   "source": [
    "### KNN 2 n_neighbors\n",
    "- Results with train data: .7702"
   ]
  },
  {
   "cell_type": "code",
   "execution_count": null,
   "id": "b533acc8",
   "metadata": {},
   "outputs": [],
   "source": [
    "run_knn(x_train,x_validate,y_train,y_validate,2)"
   ]
  },
  {
   "cell_type": "code",
   "execution_count": null,
   "id": "cf5e423c",
   "metadata": {},
   "outputs": [],
   "source": [
    "run_knn(x_train,x_test,y_train,y_test,3)"
   ]
  },
  {
   "cell_type": "markdown",
   "id": "56598ecb",
   "metadata": {},
   "source": [
    "# Modeling using x_train adding the high citric column"
   ]
  },
  {
   "cell_type": "code",
   "execution_count": null,
   "id": "1de300dd",
   "metadata": {},
   "outputs": [],
   "source": [
    "fit_DT_random_features(x_train_scaled,y_train)"
   ]
  },
  {
   "cell_type": "code",
   "execution_count": null,
   "id": "83f1a963",
   "metadata": {
    "scrolled": true
   },
   "outputs": [],
   "source": [
    "fit_KNN_random_features(x_train_scaled,y_train)"
   ]
  },
  {
   "cell_type": "markdown",
   "id": "d479f1ad",
   "metadata": {},
   "source": [
    "## Running best models on new dataframe including high citric acid"
   ]
  },
  {
   "cell_type": "markdown",
   "id": "8f3d661e",
   "metadata": {},
   "source": [
    "### Decision Tree Max Depth 7\n",
    "- Results with train data: .7885"
   ]
  },
  {
   "cell_type": "code",
   "execution_count": null,
   "id": "39398741",
   "metadata": {},
   "outputs": [],
   "source": [
    "run_decision_tree(x_train_scaled,x_validate_scaled,y_train,y_validate,7)"
   ]
  },
  {
   "cell_type": "code",
   "execution_count": null,
   "id": "a7853cd2",
   "metadata": {},
   "outputs": [],
   "source": [
    "run_decision_tree(x_train_scaled,x_test_scaled,y_train,y_test,7)"
   ]
  },
  {
   "cell_type": "markdown",
   "id": "50f60f9b",
   "metadata": {},
   "source": [
    "### Decision Tree Max Depth 6\n",
    "- Results with train data: .7719"
   ]
  },
  {
   "cell_type": "code",
   "execution_count": null,
   "id": "e3799d66",
   "metadata": {},
   "outputs": [],
   "source": [
    "run_decision_tree(x_train_scaled,x_validate_scaled,y_train,y_validate,6)"
   ]
  },
  {
   "cell_type": "code",
   "execution_count": null,
   "id": "8517afee",
   "metadata": {},
   "outputs": [],
   "source": [
    "run_decision_tree(x_train_scaled,x_test_scaled,y_train,y_test,6)"
   ]
  },
  {
   "cell_type": "markdown",
   "id": "52ac32b2",
   "metadata": {},
   "source": [
    "### KNN n_neighbors 6\n",
    "- Results with train data: .7939"
   ]
  },
  {
   "cell_type": "code",
   "execution_count": null,
   "id": "ee35c2fe",
   "metadata": {},
   "outputs": [],
   "source": [
    "run_knn(x_train_scaled,x_validate_scaled,y_train,y_validate,6)"
   ]
  },
  {
   "cell_type": "code",
   "execution_count": null,
   "id": "77147e45",
   "metadata": {},
   "outputs": [],
   "source": [
    "run_knn(x_train_scaled,x_test_scaled,y_train,y_test,6)"
   ]
  },
  {
   "cell_type": "markdown",
   "id": "5517f014",
   "metadata": {},
   "source": [
    "### KNN n_neighbors 7\n",
    "- Results with train data: .7930"
   ]
  },
  {
   "cell_type": "code",
   "execution_count": null,
   "id": "794e8968",
   "metadata": {},
   "outputs": [],
   "source": [
    "run_knn(x_train_scaled,x_validate_scaled,y_train,y_validate,7)"
   ]
  },
  {
   "cell_type": "code",
   "execution_count": null,
   "id": "3ee2d6c9",
   "metadata": {},
   "outputs": [],
   "source": [
    "run_knn(x_train_scaled,x_test_scaled,y_train,y_test,7)"
   ]
  },
  {
   "cell_type": "markdown",
   "id": "cf3dd0d0",
   "metadata": {},
   "source": [
    "## Modeling adding the volatile acidity column"
   ]
  },
  {
   "cell_type": "code",
   "execution_count": null,
   "id": "c51877ac",
   "metadata": {},
   "outputs": [],
   "source": [
    "train.head()"
   ]
  },
  {
   "cell_type": "code",
   "execution_count": null,
   "id": "26ae9ec9",
   "metadata": {},
   "outputs": [],
   "source": [
    "x_train=train[['alcohol','residual_sugar','total_sulfur_dioxide','chlorides','high_citric','volatile_acidity']]\n",
    "y_train=train.quality_type\n",
    "x_validate=validate[['alcohol','residual_sugar','total_sulfur_dioxide','chlorides','high_citric','volatile_acidity']]\n",
    "y_validate=validate.quality_type\n",
    "x_test=test[['alcohol','residual_sugar','total_sulfur_dioxide','chlorides','high_citric','volatile_acidity']]\n",
    "y_test=test.quality_type"
   ]
  },
  {
   "cell_type": "code",
   "execution_count": null,
   "id": "1ef58bdc",
   "metadata": {},
   "outputs": [],
   "source": [
    "x_train_scaled,x_validate_scaled,x_test_scaled=minmax_scale_data(x_train,x_validate,x_test)"
   ]
  },
  {
   "cell_type": "code",
   "execution_count": null,
   "id": "4252167a",
   "metadata": {},
   "outputs": [],
   "source": [
    "fit_DT_random_features(x_train_scaled,y_train)"
   ]
  },
  {
   "cell_type": "code",
   "execution_count": null,
   "id": "e06a2790",
   "metadata": {},
   "outputs": [],
   "source": [
    "fit_KNN_random_features(x_train_scaled,y_train)"
   ]
  },
  {
   "cell_type": "markdown",
   "id": "b4a88334",
   "metadata": {},
   "source": [
    "## Modeling on validate and test data"
   ]
  },
  {
   "cell_type": "markdown",
   "id": "931ace30",
   "metadata": {},
   "source": [
    "### Decision Tree max depth 6\n",
    "- Results on trian data: .7994\n"
   ]
  },
  {
   "cell_type": "code",
   "execution_count": null,
   "id": "4ce97f01",
   "metadata": {},
   "outputs": [],
   "source": [
    "run_decision_tree(x_train_scaled,x_validate_scaled,y_train,y_validate,6)"
   ]
  },
  {
   "cell_type": "code",
   "execution_count": null,
   "id": "d6f367a9",
   "metadata": {},
   "outputs": [],
   "source": [
    "run_decision_tree(x_train_scaled,x_test_scaled,y_train,y_test,6)"
   ]
  },
  {
   "cell_type": "markdown",
   "id": "141d3b50",
   "metadata": {},
   "source": [
    "### Decision Tree max depth 5\n",
    "- Results with train data: .7769"
   ]
  },
  {
   "cell_type": "code",
   "execution_count": null,
   "id": "50cd9809",
   "metadata": {},
   "outputs": [],
   "source": [
    "run_decision_tree(x_train_scaled,x_validate_scaled,y_train,y_validate,5)"
   ]
  },
  {
   "cell_type": "code",
   "execution_count": null,
   "id": "62219697",
   "metadata": {},
   "outputs": [],
   "source": [
    "run_decision_tree(x_train_scaled,x_validate_scaled,y_train,y_validate,5)"
   ]
  },
  {
   "cell_type": "markdown",
   "id": "6767625e",
   "metadata": {},
   "source": [
    "### KNN n_neigbors 7\n",
    "- Results on train data: .7970"
   ]
  },
  {
   "cell_type": "code",
   "execution_count": null,
   "id": "e5f9f435",
   "metadata": {},
   "outputs": [],
   "source": [
    "run_knn(x_train_scaled,x_validate_scaled,y_train,y_validate,7)"
   ]
  },
  {
   "cell_type": "code",
   "execution_count": null,
   "id": "a6dd3dfd",
   "metadata": {},
   "outputs": [],
   "source": [
    "run_knn(x_train_scaled,x_test_scaled,y_train,y_test,7)"
   ]
  },
  {
   "cell_type": "markdown",
   "id": "4cd04885",
   "metadata": {},
   "source": [
    "### KNN n_neighbors 8\n",
    "- Results on train data: .7947"
   ]
  },
  {
   "cell_type": "code",
   "execution_count": null,
   "id": "77860b71",
   "metadata": {},
   "outputs": [],
   "source": [
    "run_knn(x_train_scaled,x_validate_scaled,y_train,y_validate,8)"
   ]
  },
  {
   "cell_type": "code",
   "execution_count": null,
   "id": "2eafe770",
   "metadata": {},
   "outputs": [],
   "source": [
    "run_knn(x_train_scaled,x_test_scaled,y_train,y_test,8)"
   ]
  },
  {
   "cell_type": "code",
   "execution_count": null,
   "id": "4efa2f47",
   "metadata": {},
   "outputs": [],
   "source": []
  }
 ],
 "metadata": {
  "kernelspec": {
   "display_name": "Python 3 (ipykernel)",
   "language": "python",
   "name": "python3"
  },
  "language_info": {
   "codemirror_mode": {
    "name": "ipython",
    "version": 3
   },
   "file_extension": ".py",
   "mimetype": "text/x-python",
   "name": "python",
   "nbconvert_exporter": "python",
   "pygments_lexer": "ipython3",
   "version": "3.9.13"
  }
 },
 "nbformat": 4,
 "nbformat_minor": 5
}
