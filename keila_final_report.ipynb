{
 "cells": [
  {
   "cell_type": "code",
   "execution_count": 1,
   "id": "d99e5c46",
   "metadata": {},
   "outputs": [],
   "source": [
    "import warnings\n",
    "warnings.filterwarnings(\"ignore\")\n",
    "\n",
    "import pandas as pd\n",
    "import numpy as np\n",
    "\n",
    "import matplotlib.pyplot as plt\n",
    "import seaborn as sns\n",
    "\n",
    "from sklearn.cluster import KMeans\n",
    "from sklearn.model_selection import train_test_split\n",
    "from sklearn.preprocessing import MinMaxScaler\n",
    "from scipy.stats import pearsonr, spearmanr\n",
    "from scipy import stats\n",
    "\n",
    "import keila_wrangle as w\n",
    "import keila_explore as e"
   ]
  },
  {
   "cell_type": "markdown",
   "id": "c258c292",
   "metadata": {},
   "source": [
    "# Project Description\n",
    "We will be analyzing, factors that affect wine quality. Our objective is to build a predictive model that can estimate the quality of a given wine. The focus here is to gain insights and understanding about the factors influencing wine quality rather than generating practical predictions.\n",
    "\n",
    "# Project Goal\n",
    "\n",
    "* We will be analyzing, exploring the different attributes affecting red and white wine quality. \n",
    "* We will be creating a model based on to predict the quality of the wine.\n",
    "* This data would not be used on future properties or for real life prediction.\n",
    "\n",
    "# Initial Thoughts\n",
    "\n",
    "The initial hypothesis for this project is that certain factors such as 'alcohol', 'chlorides', 'ph', 'residual sugar', 'density' may be significant drivers of wine quality.\n",
    "\n",
    "\n",
    "# Acquire\n",
    "* Aquire dataset from [Data.World: Wine Quality](https://data.world/food/wine-quality)\n",
    "* It contains two datasets: winequality-red.csv (1599 rows × 12 columns) & winequality-white.csv (4898 rows × 12 columns) \n",
    "* Each row represents a unique wine\n",
    "* Each column represents a feature of those wines.\n",
    "\n",
    "# Prepare\n",
    "- Prepare Actions:\n",
    "    * Fixed columns names to promote readability\n",
    "    * Checked for nulls in the data. No nulls were found.\n",
    "    * Checked that column data types were appropriate\n",
    "    * Added wine_type column, which identifies if the wine is red or white\n",
    "    * Added quality_type column, which identifies if the wine is low <= 5 quality or high > 5 quality\n",
    "    * Encoded categorical variables\n",
    "    * Split data into train, validate and test (approx. 60/20/20)\n",
    "    * 578 outliers have been removed for the iteration of the project, based on if they fell outside the 4 standard deviation"
   ]
  },
  {
   "cell_type": "code",
   "execution_count": 2,
   "id": "2351b45d",
   "metadata": {},
   "outputs": [],
   "source": [
    "# acquire, prep, and clean data\n",
    "train, validate, test = w.clean_wine()\n",
    "# categorize quality into high low \n",
    "train['quality_type'] = train['quality'].replace({3: 'low', 4: 'low', 5: 'low', 6: 'high', 7: 'high', 8: 'high', 9: 'high'})\n",
    "# categorize quality into high low "
   ]
  },
  {
   "cell_type": "markdown",
   "id": "4c3a4582",
   "metadata": {},
   "source": [
    "# Summarize df"
   ]
  },
  {
   "cell_type": "code",
   "execution_count": 3,
   "id": "db3921fb",
   "metadata": {},
   "outputs": [
    {
     "data": {
      "text/html": [
       "<div>\n",
       "<style scoped>\n",
       "    .dataframe tbody tr th:only-of-type {\n",
       "        vertical-align: middle;\n",
       "    }\n",
       "\n",
       "    .dataframe tbody tr th {\n",
       "        vertical-align: top;\n",
       "    }\n",
       "\n",
       "    .dataframe thead th {\n",
       "        text-align: right;\n",
       "    }\n",
       "</style>\n",
       "<table border=\"1\" class=\"dataframe\">\n",
       "  <thead>\n",
       "    <tr style=\"text-align: right;\">\n",
       "      <th></th>\n",
       "      <th>fixed_acidity</th>\n",
       "      <th>volatile_acidity</th>\n",
       "      <th>citric_acid</th>\n",
       "      <th>residual_sugar</th>\n",
       "      <th>chlorides</th>\n",
       "      <th>free_sulfur_dioxide</th>\n",
       "      <th>total_sulfur_dioxide</th>\n",
       "      <th>density</th>\n",
       "      <th>ph</th>\n",
       "      <th>sulphates</th>\n",
       "      <th>alcohol</th>\n",
       "      <th>quality</th>\n",
       "      <th>red_wine</th>\n",
       "      <th>wine_type</th>\n",
       "      <th>quality_type</th>\n",
       "    </tr>\n",
       "  </thead>\n",
       "  <tbody>\n",
       "    <tr>\n",
       "      <th>1961</th>\n",
       "      <td>9.5</td>\n",
       "      <td>0.21</td>\n",
       "      <td>0.47</td>\n",
       "      <td>1.3</td>\n",
       "      <td>0.039</td>\n",
       "      <td>21.0</td>\n",
       "      <td>123.0</td>\n",
       "      <td>0.99590</td>\n",
       "      <td>2.90</td>\n",
       "      <td>0.64</td>\n",
       "      <td>9.5</td>\n",
       "      <td>5</td>\n",
       "      <td>0</td>\n",
       "      <td>white</td>\n",
       "      <td>low</td>\n",
       "    </tr>\n",
       "    <tr>\n",
       "      <th>3624</th>\n",
       "      <td>6.6</td>\n",
       "      <td>0.36</td>\n",
       "      <td>0.28</td>\n",
       "      <td>6.1</td>\n",
       "      <td>0.029</td>\n",
       "      <td>12.0</td>\n",
       "      <td>93.0</td>\n",
       "      <td>0.99054</td>\n",
       "      <td>3.19</td>\n",
       "      <td>0.27</td>\n",
       "      <td>12.8</td>\n",
       "      <td>7</td>\n",
       "      <td>0</td>\n",
       "      <td>white</td>\n",
       "      <td>high</td>\n",
       "    </tr>\n",
       "    <tr>\n",
       "      <th>216</th>\n",
       "      <td>7.5</td>\n",
       "      <td>0.27</td>\n",
       "      <td>0.36</td>\n",
       "      <td>7.0</td>\n",
       "      <td>0.036</td>\n",
       "      <td>45.0</td>\n",
       "      <td>164.0</td>\n",
       "      <td>0.99390</td>\n",
       "      <td>3.03</td>\n",
       "      <td>0.33</td>\n",
       "      <td>11.0</td>\n",
       "      <td>5</td>\n",
       "      <td>0</td>\n",
       "      <td>white</td>\n",
       "      <td>low</td>\n",
       "    </tr>\n",
       "    <tr>\n",
       "      <th>657</th>\n",
       "      <td>7.3</td>\n",
       "      <td>0.34</td>\n",
       "      <td>0.21</td>\n",
       "      <td>3.2</td>\n",
       "      <td>0.050</td>\n",
       "      <td>14.0</td>\n",
       "      <td>136.0</td>\n",
       "      <td>0.99360</td>\n",
       "      <td>3.25</td>\n",
       "      <td>0.44</td>\n",
       "      <td>10.2</td>\n",
       "      <td>5</td>\n",
       "      <td>0</td>\n",
       "      <td>white</td>\n",
       "      <td>low</td>\n",
       "    </tr>\n",
       "    <tr>\n",
       "      <th>1571</th>\n",
       "      <td>7.4</td>\n",
       "      <td>0.30</td>\n",
       "      <td>0.49</td>\n",
       "      <td>8.2</td>\n",
       "      <td>0.055</td>\n",
       "      <td>49.0</td>\n",
       "      <td>188.0</td>\n",
       "      <td>0.99740</td>\n",
       "      <td>3.52</td>\n",
       "      <td>0.58</td>\n",
       "      <td>9.7</td>\n",
       "      <td>6</td>\n",
       "      <td>0</td>\n",
       "      <td>white</td>\n",
       "      <td>high</td>\n",
       "    </tr>\n",
       "  </tbody>\n",
       "</table>\n",
       "</div>"
      ],
      "text/plain": [
       "      fixed_acidity  volatile_acidity  citric_acid  residual_sugar  chlorides  \\\n",
       "1961            9.5              0.21         0.47             1.3      0.039   \n",
       "3624            6.6              0.36         0.28             6.1      0.029   \n",
       "216             7.5              0.27         0.36             7.0      0.036   \n",
       "657             7.3              0.34         0.21             3.2      0.050   \n",
       "1571            7.4              0.30         0.49             8.2      0.055   \n",
       "\n",
       "      free_sulfur_dioxide  total_sulfur_dioxide  density    ph  sulphates  \\\n",
       "1961                 21.0                 123.0  0.99590  2.90       0.64   \n",
       "3624                 12.0                  93.0  0.99054  3.19       0.27   \n",
       "216                  45.0                 164.0  0.99390  3.03       0.33   \n",
       "657                  14.0                 136.0  0.99360  3.25       0.44   \n",
       "1571                 49.0                 188.0  0.99740  3.52       0.58   \n",
       "\n",
       "      alcohol  quality  red_wine wine_type quality_type  \n",
       "1961      9.5        5         0     white          low  \n",
       "3624     12.8        7         0     white         high  \n",
       "216      11.0        5         0     white          low  \n",
       "657      10.2        5         0     white          low  \n",
       "1571      9.7        6         0     white         high  "
      ]
     },
     "execution_count": 3,
     "metadata": {},
     "output_type": "execute_result"
    }
   ],
   "source": [
    "train.head()"
   ]
  },
  {
   "cell_type": "markdown",
   "id": "0f8fa1d8",
   "metadata": {},
   "source": [
    "# Explore\n",
    "\n",
    "## Does Low Quality Wine Contain More Alcohol? "
   ]
  },
  {
   "cell_type": "markdown",
   "id": "4d3cf6a9",
   "metadata": {},
   "source": [
    "$H_o$: The average alcohol amount for high quality wine is less than or equal to the average alcohol amount for low quality wines\n",
    "    \n",
    "$H_a$: The average alcohol amount for high quality wine is greater than or equal to the average alcohol amount for low quality wines\n",
    "\n",
    "**I will use an Independent T-Test (1-tailed), to investigate whether low quality wines have more or less alcohol**\n",
    "\n",
    "* I will use a confidence interval of 95%\n",
    "* The alpha is .05"
   ]
  },
  {
   "cell_type": "code",
   "execution_count": 4,
   "id": "9eb5f1f3",
   "metadata": {},
   "outputs": [
    {
     "data": {
      "image/png": "[encoded data removed]",
      "text/plain": [
       "<Figure size 640x480 with 1 Axes>"
      ]
     },
     "metadata": {},
     "output_type": "display_data"
    }
   ],
   "source": [
    "e.alcohol_barplot(train)"
   ]
  },
  {
   "cell_type": "markdown",
   "id": "6746906e",
   "metadata": {},
   "source": [
    "Observations: \n",
    "* High quality white and red wines have slightly more alcohol content than low quality wine.\n",
    "* The higher quality white wine has less sugar then the low quality white wine"
   ]
  },
  {
   "cell_type": "code",
   "execution_count": 5,
   "id": "c6ad03fd",
   "metadata": {},
   "outputs": [
    {
     "name": "stdout",
     "output_type": "stream",
     "text": [
      "Reject the null hypothesis: Sufficient\n",
      " p-value: 2.18355881069506e-145 , t: 26.91755322776039\n"
     ]
    }
   ],
   "source": [
    "# create samples\n",
    "low_quality_alcohol = train[train.quality_type == 'low'].alcohol\n",
    "high_quality_alcohol = train[train.quality_type == 'high'].alcohol\n",
    "# check variances -- equal\n",
    "stats.levene(low_quality_alcohol, high_quality_alcohol)\n",
    "# run T-Test\n",
    "e.ind_var_test(high_quality_alcohol, low_quality_alcohol)"
   ]
  },
  {
   "cell_type": "markdown",
   "id": "74164f33",
   "metadata": {},
   "source": [
    "**We reject the null hypothesis, therfore, we have evidence to support that the average amount of alcohol in high quality wine is more than the average amount of alcohol in low quality wine. Based on this, I believe that using the 'alcohol' feature in modeling will have a small positive impact on the model's accuracy.**"
   ]
  },
  {
   "cell_type": "markdown",
   "id": "7b70b257",
   "metadata": {},
   "source": [
    "## Does Residual Sugar Affect Wine Quality?\n",
    "$H_o$: The average residual sugar for low quality wine is less than or equal to the average residual sugar for high quality wines\n",
    "\n",
    "$H_a$: The average residual sugar for low quality wine is greater than the average residual sugar for high quality wines\n",
    "\n",
    "**I will use an Independent T-Test (1-tailed), to investigate whether low quality wines have more or less residual suger**\n",
    "\n",
    "* I will use a confidence interval of 95%\n",
    "* The alpha is .05"
   ]
  },
  {
   "cell_type": "code",
   "execution_count": 6,
   "id": "5bae55f5",
   "metadata": {},
   "outputs": [
    {
     "data": {
      "image/png": "[encoded data removed]",
      "text/plain": [
       "<Figure size 640x480 with 1 Axes>"
      ]
     },
     "metadata": {},
     "output_type": "display_data"
    }
   ],
   "source": [
    "e.sugar_barplot(train)"
   ]
  },
  {
   "cell_type": "markdown",
   "id": "8ad78dd8",
   "metadata": {},
   "source": [
    "Observations: \n",
    "* On average white wines have more sugar than red wines.\n",
    "* The higher quality white wine has less sugar then the low quality white wine\n",
    "* The red wines appear to have the same residual sugar content regardless of quality"
   ]
  },
  {
   "cell_type": "code",
   "execution_count": 9,
   "id": "37f2cfcf",
   "metadata": {},
   "outputs": [
    {
     "name": "stdout",
     "output_type": "stream",
     "text": [
      "Reject the null hypothesis: Sufficient\n",
      " p-value: 0.012954002416366427 , t: 2.4862880181249474\n"
     ]
    }
   ],
   "source": [
    "# create samples\n",
    "low_quality_sugar = train[train.quality_type == 'low'].residual_sugar \n",
    "high_quality_sugar = train[train.quality_type == 'high'].residual_sugar\n",
    "# check variances -- equal\n",
    "stats.levene(low_quality_sugar,high_quality_sugar)\n",
    "# run T-Test\n",
    "e.ind_var_test(low_quality_sugar,high_quality_sugar)"
   ]
  },
  {
   "cell_type": "markdown",
   "id": "cff3bc22",
   "metadata": {},
   "source": [
    "**We rejected the null hypothesis, therfore, we have evidence to support that the average amount of residual sugar in low quality wine is greater than the average amount of residual sugar in high quality wine. Based on this, I believe that using the 'residual_sugar' feature in modeling will have a small positive impact on the model's accuracy.**"
   ]
  },
  {
   "cell_type": "markdown",
   "id": "b993b6aa",
   "metadata": {},
   "source": [
    "## Does Chlorides Affect Wine Quality?\n",
    "$H_o$: The average chlorides for low quality wine is less than or equal to the average chorides for high quality wines\n",
    "\n",
    "$H_a$: The average chlorides for low quality wine is greater than the average chlorides for high quality wines\n",
    "\n",
    "**I will use an Independent T-Test (1-tailed), to investigate whether low quality wines have more or less chlorides**\n",
    "\n",
    "* I will use a confidence interval of 95%\n",
    "* The alpha is .05"
   ]
  },
  {
   "cell_type": "code",
   "execution_count": 10,
   "id": "63e7dceb",
   "metadata": {},
   "outputs": [
    {
     "data": {
      "image/png": "[encoded data removed]",
      "text/plain": [
       "<Figure size 640x480 with 1 Axes>"
      ]
     },
     "metadata": {},
     "output_type": "display_data"
    }
   ],
   "source": [
    "e.chlorides_barplot(train)"
   ]
  },
  {
   "cell_type": "markdown",
   "id": "8cc39e67",
   "metadata": {},
   "source": [
    "Observations: \n",
    "* The low quality wines have more chlorides when visually compared to the high quality wines with less chlorides.\n",
    "* The red wines have mores chlorides when compared to white wine regardless of quality."
   ]
  },
  {
   "cell_type": "code",
   "execution_count": 11,
   "id": "01056800",
   "metadata": {},
   "outputs": [
    {
     "name": "stdout",
     "output_type": "stream",
     "text": [
      "Reject the null hypothesis: Sufficient\n",
      " p-value: 1.0880925145274611e-46 , t: 14.560216648188234\n"
     ]
    }
   ],
   "source": [
    "# create samples\n",
    "low_quality_chlorides = train[train.quality_type == 'low'].chlorides \n",
    "high_quality_chlorides= train[train.quality_type == 'high'].chlorides\n",
    "# check variances -- equal\n",
    "stats.levene(low_quality_chlorides,high_quality_chlorides)\n",
    "# run T-Test\n",
    "e.ind_var_test(low_quality_chlorides,high_quality_chlorides)"
   ]
  },
  {
   "cell_type": "markdown",
   "id": "80528651",
   "metadata": {},
   "source": [
    "**We rejected the null hypothesis, therfore, we have evidence to support that the average amount of chlorides in low quality wine is greater than the average amount of chlorides in high quality wine. Based on this, I believe that using the 'chlorides' feature in modeling will have a small positive impact on the model's accuracy.**"
   ]
  },
  {
   "cell_type": "markdown",
   "id": "06d01c16",
   "metadata": {},
   "source": [
    "## Does Total Sulfur Dioxide Affect Wine Quality?\n",
    "\n",
    "$H_o$: The average total sulfur dioxide for low quality wine is less than or equal to the average total sulfur dioxide for high quality wines\n",
    "\n",
    "$H_a$: The average total sulfur dioxide for low quality wine is greater than the average total sulfur dioxide for high quality wines\n",
    "\n",
    "**I will use an Independent T-Test (1-tailed), to investigate whether low quality wines have more or less total sulfur dioxide**\n",
    "\n",
    "* I will use a confidence interval of 95%\n",
    "* The alpha is .05"
   ]
  },
  {
   "cell_type": "code",
   "execution_count": 13,
   "id": "300fb1bf",
   "metadata": {},
   "outputs": [
    {
     "data": {
      "image/png": "[encoded data removed]",
      "text/plain": [
       "<Figure size 640x480 with 1 Axes>"
      ]
     },
     "metadata": {},
     "output_type": "display_data"
    }
   ],
   "source": [
    "e.tsd_barplot(train)"
   ]
  },
  {
   "cell_type": "code",
   "execution_count": 12,
   "id": "178e8204",
   "metadata": {},
   "outputs": [
    {
     "name": "stdout",
     "output_type": "stream",
     "text": [
      "Reject the null hypothesis: Sufficient\n",
      " p-value: 0.000961107346877886 , t: 3.304441008706457\n"
     ]
    }
   ],
   "source": [
    "# create samples\n",
    "low_quality_tsd = train[train.quality_type == 'low'].total_sulfur_dioxide \n",
    "high_quality_tsd = train[train.quality_type == 'high'].total_sulfur_dioxide\n",
    "# check variances -- equal\n",
    "stats.levene(low_quality_tsd,high_quality_tsd)\n",
    "# run T-Test\n",
    "e.ind_var_test(low_quality_tsd,high_quality_tsd)"
   ]
  },
  {
   "cell_type": "markdown",
   "id": "e0fc0acc",
   "metadata": {},
   "source": [
    "**We rejected the null hypothesis, therfore, we have evidence to support that the average amount of total sulfur dioxide in low quality wine is less than the average amount of total sulfur dioxide in high quality wine. Based on this, I believe that using the 'total_sulfur_dioxide' feature in modeling will have a small positive impact on the model's accuracy.**"
   ]
  },
  {
   "cell_type": "markdown",
   "id": "1c3db416",
   "metadata": {},
   "source": [
    "# Does Volatile Acidity Affect Wine Quality?\n",
    "\n",
    "$H_o$: The average volatile acidity for low quality wine is less than or equal to the average volatile acidity for high quality wines\n",
    "\n",
    "$H_a$: The average volatile acidity for low quality wine is greater than the average residual sugar for volatile acidity wines\n",
    "\n",
    "**I will use an Independent T-Test (1-tailed), to investigate whether low quality wines have more or less volatile acidity**\n",
    "\n",
    "* I will use a confidence interval of 95%\n",
    "* The alpha is .05"
   ]
  },
  {
   "cell_type": "code",
   "execution_count": null,
   "id": "7c847df9",
   "metadata": {},
   "outputs": [],
   "source": [
    "def volatile_barplot(df):\n",
    "    '''\n",
    "    This function creates a custom bar chart for comparing homes with pools and homes without pools\n",
    "    '''\n",
    "    fig, ax =plt.subplots()\n",
    "    # creat average line\n",
    "  \n",
    "    \n",
    "    plt.title(\"Low Quality Wine has More volatile_acidity\")\n",
    "    sns.barplot(x=\"quality_type\", y=\"volatile_acidity\", data=df, hue='wine_type')\n",
    "    plt.xlabel(\"Quality\")\n",
    "    plt.ylabel(\"Amount of Volatile Acidity\")\n",
    "    tick_label = [\"Low\", \"High\"]\n",
    "    ax.set_xticklabels(tick_label)\n",
    "    property_value_average = df.volatile_acidity.mean()\n",
    "    plt.axhline(property_value_average, label=\"Volatile Acidity Average\", color='DarkSlateBlue')\n",
    "    plt.legend(loc='upper right')\n",
    "    plt.show()"
   ]
  },
  {
   "cell_type": "code",
   "execution_count": null,
   "id": "eac7d0b5",
   "metadata": {},
   "outputs": [],
   "source": [
    "e.volatile_barplot(train)"
   ]
  },
  {
   "cell_type": "markdown",
   "id": "1f2906b8",
   "metadata": {},
   "source": [
    "Observation:\n",
    "\n",
    "    * high quality wine has less volatile acidity    "
   ]
  },
  {
   "cell_type": "code",
   "execution_count": null,
   "id": "b934d43d",
   "metadata": {},
   "outputs": [],
   "source": [
    "# create samples\n",
    "volatile_low_quality = train[train.quality_type == 'low'].volatile_acidity\n",
    "volatile_high_quality = train[train.quality_type == 'high'].volatile_acidity\n",
    "# check variances -- equal\n",
    "stats.levene(volatile_low_quality, volatile_high_quality)\n",
    "# run T-Test\n",
    "e.ind_var_test(volatile_low_quality, volatile_high_quality)"
   ]
  },
  {
   "cell_type": "markdown",
   "id": "aeb63fcf",
   "metadata": {},
   "source": [
    "**We rejected the null hypothesis, therfore, we have evidence to support that the average amount of volatile acidity in low quality wine is greater than the average amount of volatile acidity in high quality wine. Based on this, I believe that using the 'volatile_acidity' feature in modeling will have a small positive impact on the model's accuracy.**"
   ]
  },
  {
   "cell_type": "markdown",
   "id": "de9489d5",
   "metadata": {},
   "source": [
    "## The Quality of Red Wine with Citric Acid\n",
    "\n",
    "$H_o$: The average citric acid in red wine for high quality wine is less than or equal to the average citric acid in red wine for low quality wines\n",
    "\n",
    "$H_a$: The average citric acid in red wine for high quality wine is greater than the average citric acid in red wine for low quality wines\n",
    "\n",
    "**I will use an Independent T-Test (1-tailed), to investigate whether red low quality wines have more or less citric acid**\n",
    "\n",
    "* I will use a confidence interval of 95%\n",
    "* The alpha is .05"
   ]
  },
  {
   "cell_type": "code",
   "execution_count": null,
   "id": "b04be48c",
   "metadata": {},
   "outputs": [],
   "source": [
    "e.citric_barplot(train)"
   ]
  },
  {
   "cell_type": "markdown",
   "id": "c11cfd19",
   "metadata": {},
   "source": [
    "observation:\n",
    "\n",
    "    * High quality red wine has more citric acid than low quality red wine\n",
    "    * White wine doesn't differ much in quality when comparing citric acid"
   ]
  },
  {
   "cell_type": "code",
   "execution_count": null,
   "id": "e34514d0",
   "metadata": {},
   "outputs": [],
   "source": [
    "# create subset for red wine with high vs low quality\n",
    "red_high_subset = train[train.red_wine == 1]\n",
    "red_low_subset = train[train.red_wine == 1]\n",
    "red_high_subset = red_high_subset[red_high_subset.quality_type == \"high\"].citric_acid\n",
    "red_low_subset = red_low_subset[red_low_subset.quality_type == \"low\"].citric_acid\n",
    "# check variances -- equal\n",
    "stats.levene(red_high_subset, red_low_subset)\n",
    "# stats test\n",
    "e.ind_var_test(red_high_subset, red_low_subset)"
   ]
  },
  {
   "cell_type": "markdown",
   "id": "12b2c9be",
   "metadata": {},
   "source": [
    "**We rejected the null hypothesis, therfore, we have evidence to support that the average amount of citric acid in high quality red wine is greater than the average amount of low quality red wine. Based on this, I believe that using the 'high_citric_acid' feature in modeling will have a small positive impact on the model's accuracy.**"
   ]
  },
  {
   "cell_type": "markdown",
   "id": "a75e2c9d",
   "metadata": {},
   "source": [
    "# Exploration Summary\n",
    "\n",
    "* 'Alcohol' was found to be a driver of 'Quality Type', wine with more alcohol was rated higher than wine with less alcohol.\n",
    "* 'Residual Sugar' was found to be a driver of 'Quality Type', wine with more residual suger was rated lower than wine with less  residual suger.\n",
    "* 'Chlorides' was found to be a driver of 'Quality Type', wine with more chorides was rated lower than wine with less chorides.\n",
    "* 'Total Sulfur Dioxide' was found to be a driver of 'Quality Type', wine with more total sulfur dioxide was rated lower than wine with less total sulfur dioxide.\n",
    "* 'Citric Acid' was found to be a driver of 'Quality Type' for wine, wine with more citric acid was rated higher than wine with less citric acid.\n",
    "* 'High Citric\" was found to be a driver of 'Quality Type' for red wine, red wine with more citric acid was rated higher than red wine with less citric acid.\n",
    "\n",
    "# Features continuing to modeling\n",
    "\n",
    "* Alcohol\n",
    "* Residual Sugar\n",
    "* Chlorides\n",
    "* Total Sulfur Dioxide\n",
    "* Volatile Acidity\n",
    "* High Citric\n",
    "\n",
    "# Features not continuing to modeling\n",
    "* 'ph' was not found to be a driver of 'Quality Type' (There is no evidence that 'ph' is a driver of quality type)"
   ]
  },
  {
   "cell_type": "markdown",
   "id": "1214c178",
   "metadata": {},
   "source": [
    "# Modeling"
   ]
  },
  {
   "cell_type": "code",
   "execution_count": null,
   "id": "15212ba9",
   "metadata": {},
   "outputs": [],
   "source": []
  }
 ],
 "metadata": {
  "kernelspec": {
   "display_name": "Python 3 (ipykernel)",
   "language": "python",
   "name": "python3"
  },
  "language_info": {
   "codemirror_mode": {
    "name": "ipython",
    "version": 3
   },
   "file_extension": ".py",
   "mimetype": "text/x-python",
   "name": "python",
   "nbconvert_exporter": "python",
   "pygments_lexer": "ipython3",
   "version": "3.9.13"
  }
 },
 "nbformat": 4,
 "nbformat_minor": 5
}
