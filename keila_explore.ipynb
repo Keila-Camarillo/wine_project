{
 "cells": [
  {
   "cell_type": "code",
   "execution_count": 1,
   "id": "60b50d6f",
   "metadata": {},
   "outputs": [],
   "source": [
    "import warnings\n",
    "warnings.filterwarnings(\"ignore\")\n",
    "\n",
    "import pandas as pd\n",
    "import numpy as np\n",
    "\n",
    "import matplotlib.pyplot as plt\n",
    "import seaborn as sns\n",
    "\n",
    "from scipy import stats\n",
    "from math import sqrt\n",
    "\n",
    "import keila_wrangle as w"
   ]
  },
  {
   "cell_type": "code",
   "execution_count": 2,
   "id": "cb9639e9",
   "metadata": {},
   "outputs": [
    {
     "data": {
      "text/html": [
       "<div>\n",
       "<style scoped>\n",
       "    .dataframe tbody tr th:only-of-type {\n",
       "        vertical-align: middle;\n",
       "    }\n",
       "\n",
       "    .dataframe tbody tr th {\n",
       "        vertical-align: top;\n",
       "    }\n",
       "\n",
       "    .dataframe thead th {\n",
       "        text-align: right;\n",
       "    }\n",
       "</style>\n",
       "<table border=\"1\" class=\"dataframe\">\n",
       "  <thead>\n",
       "    <tr style=\"text-align: right;\">\n",
       "      <th></th>\n",
       "      <th>fixed acidity</th>\n",
       "      <th>volatile acidity</th>\n",
       "      <th>citric acid</th>\n",
       "      <th>residual sugar</th>\n",
       "      <th>chlorides</th>\n",
       "      <th>free sulfur dioxide</th>\n",
       "      <th>total sulfur dioxide</th>\n",
       "      <th>density</th>\n",
       "      <th>pH</th>\n",
       "      <th>sulphates</th>\n",
       "      <th>alcohol</th>\n",
       "      <th>quality</th>\n",
       "      <th>red_wine</th>\n",
       "      <th>wine_type</th>\n",
       "      <th>quality_type</th>\n",
       "    </tr>\n",
       "  </thead>\n",
       "  <tbody>\n",
       "    <tr>\n",
       "      <th>0</th>\n",
       "      <td>7.4</td>\n",
       "      <td>0.70</td>\n",
       "      <td>0.00</td>\n",
       "      <td>1.9</td>\n",
       "      <td>0.076</td>\n",
       "      <td>11.0</td>\n",
       "      <td>34.0</td>\n",
       "      <td>0.9978</td>\n",
       "      <td>3.51</td>\n",
       "      <td>0.56</td>\n",
       "      <td>9.4</td>\n",
       "      <td>5</td>\n",
       "      <td>1</td>\n",
       "      <td>red</td>\n",
       "      <td>low</td>\n",
       "    </tr>\n",
       "    <tr>\n",
       "      <th>1</th>\n",
       "      <td>7.8</td>\n",
       "      <td>0.88</td>\n",
       "      <td>0.00</td>\n",
       "      <td>2.6</td>\n",
       "      <td>0.098</td>\n",
       "      <td>25.0</td>\n",
       "      <td>67.0</td>\n",
       "      <td>0.9968</td>\n",
       "      <td>3.20</td>\n",
       "      <td>0.68</td>\n",
       "      <td>9.8</td>\n",
       "      <td>5</td>\n",
       "      <td>1</td>\n",
       "      <td>red</td>\n",
       "      <td>low</td>\n",
       "    </tr>\n",
       "    <tr>\n",
       "      <th>2</th>\n",
       "      <td>7.8</td>\n",
       "      <td>0.76</td>\n",
       "      <td>0.04</td>\n",
       "      <td>2.3</td>\n",
       "      <td>0.092</td>\n",
       "      <td>15.0</td>\n",
       "      <td>54.0</td>\n",
       "      <td>0.9970</td>\n",
       "      <td>3.26</td>\n",
       "      <td>0.65</td>\n",
       "      <td>9.8</td>\n",
       "      <td>5</td>\n",
       "      <td>1</td>\n",
       "      <td>red</td>\n",
       "      <td>low</td>\n",
       "    </tr>\n",
       "    <tr>\n",
       "      <th>3</th>\n",
       "      <td>11.2</td>\n",
       "      <td>0.28</td>\n",
       "      <td>0.56</td>\n",
       "      <td>1.9</td>\n",
       "      <td>0.075</td>\n",
       "      <td>17.0</td>\n",
       "      <td>60.0</td>\n",
       "      <td>0.9980</td>\n",
       "      <td>3.16</td>\n",
       "      <td>0.58</td>\n",
       "      <td>9.8</td>\n",
       "      <td>6</td>\n",
       "      <td>1</td>\n",
       "      <td>red</td>\n",
       "      <td>high</td>\n",
       "    </tr>\n",
       "    <tr>\n",
       "      <th>4</th>\n",
       "      <td>7.4</td>\n",
       "      <td>0.70</td>\n",
       "      <td>0.00</td>\n",
       "      <td>1.9</td>\n",
       "      <td>0.076</td>\n",
       "      <td>11.0</td>\n",
       "      <td>34.0</td>\n",
       "      <td>0.9978</td>\n",
       "      <td>3.51</td>\n",
       "      <td>0.56</td>\n",
       "      <td>9.4</td>\n",
       "      <td>5</td>\n",
       "      <td>1</td>\n",
       "      <td>red</td>\n",
       "      <td>low</td>\n",
       "    </tr>\n",
       "  </tbody>\n",
       "</table>\n",
       "</div>"
      ],
      "text/plain": [
       "   fixed acidity  volatile acidity  citric acid  residual sugar  chlorides  \\\n",
       "0            7.4              0.70         0.00             1.9      0.076   \n",
       "1            7.8              0.88         0.00             2.6      0.098   \n",
       "2            7.8              0.76         0.04             2.3      0.092   \n",
       "3           11.2              0.28         0.56             1.9      0.075   \n",
       "4            7.4              0.70         0.00             1.9      0.076   \n",
       "\n",
       "   free sulfur dioxide  total sulfur dioxide  density    pH  sulphates  \\\n",
       "0                 11.0                  34.0   0.9978  3.51       0.56   \n",
       "1                 25.0                  67.0   0.9968  3.20       0.68   \n",
       "2                 15.0                  54.0   0.9970  3.26       0.65   \n",
       "3                 17.0                  60.0   0.9980  3.16       0.58   \n",
       "4                 11.0                  34.0   0.9978  3.51       0.56   \n",
       "\n",
       "   alcohol  quality  red_wine wine_type quality_type  \n",
       "0      9.4        5         1       red          low  \n",
       "1      9.8        5         1       red          low  \n",
       "2      9.8        5         1       red          low  \n",
       "3      9.8        6         1       red         high  \n",
       "4      9.4        5         1       red          low  "
      ]
     },
     "execution_count": 2,
     "metadata": {},
     "output_type": "execute_result"
    }
   ],
   "source": [
    "df = w.read_wine()\n",
    "df.head()"
   ]
  },
  {
   "cell_type": "code",
   "execution_count": 3,
   "id": "0a837963",
   "metadata": {},
   "outputs": [
    {
     "data": {
      "text/html": [
       "<div>\n",
       "<style scoped>\n",
       "    .dataframe tbody tr th:only-of-type {\n",
       "        vertical-align: middle;\n",
       "    }\n",
       "\n",
       "    .dataframe tbody tr th {\n",
       "        vertical-align: top;\n",
       "    }\n",
       "\n",
       "    .dataframe thead th {\n",
       "        text-align: right;\n",
       "    }\n",
       "</style>\n",
       "<table border=\"1\" class=\"dataframe\">\n",
       "  <thead>\n",
       "    <tr style=\"text-align: right;\">\n",
       "      <th></th>\n",
       "      <th>fixed acidity</th>\n",
       "      <th>volatile acidity</th>\n",
       "      <th>citric acid</th>\n",
       "      <th>residual sugar</th>\n",
       "      <th>chlorides</th>\n",
       "      <th>free sulfur dioxide</th>\n",
       "      <th>total sulfur dioxide</th>\n",
       "      <th>density</th>\n",
       "      <th>pH</th>\n",
       "      <th>sulphates</th>\n",
       "      <th>alcohol</th>\n",
       "      <th>quality</th>\n",
       "      <th>red_wine</th>\n",
       "      <th>wine_type</th>\n",
       "      <th>quality_type</th>\n",
       "    </tr>\n",
       "  </thead>\n",
       "  <tbody>\n",
       "    <tr>\n",
       "      <th>0</th>\n",
       "      <td>7.4</td>\n",
       "      <td>0.70</td>\n",
       "      <td>0.00</td>\n",
       "      <td>1.9</td>\n",
       "      <td>0.076</td>\n",
       "      <td>11.0</td>\n",
       "      <td>34.0</td>\n",
       "      <td>0.9978</td>\n",
       "      <td>3.51</td>\n",
       "      <td>0.56</td>\n",
       "      <td>9.4</td>\n",
       "      <td>5</td>\n",
       "      <td>1</td>\n",
       "      <td>red</td>\n",
       "      <td>low</td>\n",
       "    </tr>\n",
       "    <tr>\n",
       "      <th>1</th>\n",
       "      <td>7.8</td>\n",
       "      <td>0.88</td>\n",
       "      <td>0.00</td>\n",
       "      <td>2.6</td>\n",
       "      <td>0.098</td>\n",
       "      <td>25.0</td>\n",
       "      <td>67.0</td>\n",
       "      <td>0.9968</td>\n",
       "      <td>3.20</td>\n",
       "      <td>0.68</td>\n",
       "      <td>9.8</td>\n",
       "      <td>5</td>\n",
       "      <td>1</td>\n",
       "      <td>red</td>\n",
       "      <td>low</td>\n",
       "    </tr>\n",
       "    <tr>\n",
       "      <th>2</th>\n",
       "      <td>7.8</td>\n",
       "      <td>0.76</td>\n",
       "      <td>0.04</td>\n",
       "      <td>2.3</td>\n",
       "      <td>0.092</td>\n",
       "      <td>15.0</td>\n",
       "      <td>54.0</td>\n",
       "      <td>0.9970</td>\n",
       "      <td>3.26</td>\n",
       "      <td>0.65</td>\n",
       "      <td>9.8</td>\n",
       "      <td>5</td>\n",
       "      <td>1</td>\n",
       "      <td>red</td>\n",
       "      <td>low</td>\n",
       "    </tr>\n",
       "    <tr>\n",
       "      <th>3</th>\n",
       "      <td>11.2</td>\n",
       "      <td>0.28</td>\n",
       "      <td>0.56</td>\n",
       "      <td>1.9</td>\n",
       "      <td>0.075</td>\n",
       "      <td>17.0</td>\n",
       "      <td>60.0</td>\n",
       "      <td>0.9980</td>\n",
       "      <td>3.16</td>\n",
       "      <td>0.58</td>\n",
       "      <td>9.8</td>\n",
       "      <td>6</td>\n",
       "      <td>1</td>\n",
       "      <td>red</td>\n",
       "      <td>high</td>\n",
       "    </tr>\n",
       "    <tr>\n",
       "      <th>4</th>\n",
       "      <td>7.4</td>\n",
       "      <td>0.70</td>\n",
       "      <td>0.00</td>\n",
       "      <td>1.9</td>\n",
       "      <td>0.076</td>\n",
       "      <td>11.0</td>\n",
       "      <td>34.0</td>\n",
       "      <td>0.9978</td>\n",
       "      <td>3.51</td>\n",
       "      <td>0.56</td>\n",
       "      <td>9.4</td>\n",
       "      <td>5</td>\n",
       "      <td>1</td>\n",
       "      <td>red</td>\n",
       "      <td>low</td>\n",
       "    </tr>\n",
       "  </tbody>\n",
       "</table>\n",
       "</div>"
      ],
      "text/plain": [
       "   fixed acidity  volatile acidity  citric acid  residual sugar  chlorides  \\\n",
       "0            7.4              0.70         0.00             1.9      0.076   \n",
       "1            7.8              0.88         0.00             2.6      0.098   \n",
       "2            7.8              0.76         0.04             2.3      0.092   \n",
       "3           11.2              0.28         0.56             1.9      0.075   \n",
       "4            7.4              0.70         0.00             1.9      0.076   \n",
       "\n",
       "   free sulfur dioxide  total sulfur dioxide  density    pH  sulphates  \\\n",
       "0                 11.0                  34.0   0.9978  3.51       0.56   \n",
       "1                 25.0                  67.0   0.9968  3.20       0.68   \n",
       "2                 15.0                  54.0   0.9970  3.26       0.65   \n",
       "3                 17.0                  60.0   0.9980  3.16       0.58   \n",
       "4                 11.0                  34.0   0.9978  3.51       0.56   \n",
       "\n",
       "   alcohol  quality  red_wine wine_type quality_type  \n",
       "0      9.4        5         1       red          low  \n",
       "1      9.8        5         1       red          low  \n",
       "2      9.8        5         1       red          low  \n",
       "3      9.8        6         1       red         high  \n",
       "4      9.4        5         1       red          low  "
      ]
     },
     "execution_count": 3,
     "metadata": {},
     "output_type": "execute_result"
    }
   ],
   "source": [
    "\n",
    "df.head()"
   ]
  },
  {
   "cell_type": "code",
   "execution_count": 4,
   "id": "481b4089",
   "metadata": {},
   "outputs": [
    {
     "name": "stdout",
     "output_type": "stream",
     "text": [
      "46 outliers removed from fixed acidity.\n",
      "26 outliers removed from volatile acidity.\n",
      "11 outliers removed from citric acid.\n",
      "5 outliers removed from residual sugar.\n",
      "63 outliers removed from chlorides.\n",
      "15 outliers removed from free sulfur dioxide.\n",
      "2 outliers removed from total sulfur dioxide.\n",
      "0 outliers removed from density.\n",
      "4 outliers removed from pH.\n",
      "21 outliers removed from sulphates.\n",
      "0 outliers removed from alcohol.\n",
      "0 outliers removed from quality.\n",
      "0 outliers removed from red_wine.\n",
      "\n",
      "Total of 193 outliers removed.\n"
     ]
    }
   ],
   "source": [
    "train, validate, test = w.clean_wine()"
   ]
  },
  {
   "cell_type": "code",
   "execution_count": 5,
   "id": "cf202b1b",
   "metadata": {},
   "outputs": [
    {
     "name": "stdout",
     "output_type": "stream",
     "text": [
      "train -> (3782, 15)\n",
      "validate -> (1261, 15)\n",
      "test -> (1261, 15)\n"
     ]
    }
   ],
   "source": [
    "# splitting into x and y\n",
    "target = \"quality\"\n",
    "train, validate, test, x_train, y_train, x_validate, y_validate, x_test, y_test = w.split_data_xy(train, validate, test, target)"
   ]
  },
  {
   "cell_type": "code",
   "execution_count": 6,
   "id": "a677e005",
   "metadata": {},
   "outputs": [],
   "source": [
    "# scaling data\n",
    "x_train_scaled, x_validate_scaled, x_test_scaled = w.mm_scale(x_train, x_validate, x_test)"
   ]
  },
  {
   "cell_type": "markdown",
   "id": "17fddcda",
   "metadata": {},
   "source": [
    "1. What is the distribution of each of the variables?"
   ]
  },
  {
   "cell_type": "code",
   "execution_count": 7,
   "id": "86872c88",
   "metadata": {},
   "outputs": [
    {
     "data": {
      "image/png": "[encoded data removed]",
      "text/plain": [
       "<Figure size 400x200 with 1 Axes>"
      ]
     },
     "metadata": {},
     "output_type": "display_data"
    },
    {
     "data": {
      "image/png": "[encoded data removed]",
      "text/plain": [
       "<Figure size 400x200 with 1 Axes>"
      ]
     },
     "metadata": {},
     "output_type": "display_data"
    },
    {
     "data": {
      "image/png": "[encoded data removed]",
      "text/plain": [
       "<Figure size 400x200 with 1 Axes>"
      ]
     },
     "metadata": {},
     "output_type": "display_data"
    },
    {
     "data": {
      "image/png": "[encoded data removed]",
      "text/plain": [
       "<Figure size 400x200 with 1 Axes>"
      ]
     },
     "metadata": {},
     "output_type": "display_data"
    },
    {
     "data": {
      "image/png": "[encoded data removed]",
      "text/plain": [
       "<Figure size 400x200 with 1 Axes>"
      ]
     },
     "metadata": {},
     "output_type": "display_data"
    },
    {
     "data": {
      "image/png": "[encoded data removed]",
      "text/plain": [
       "<Figure size 400x200 with 1 Axes>"
      ]
     },
     "metadata": {},
     "output_type": "display_data"
    },
    {
     "data": {
      "image/png": "[encoded data removed]",
      "text/plain": [
       "<Figure size 400x200 with 1 Axes>"
      ]
     },
     "metadata": {},
     "output_type": "display_data"
    },
    {
     "data": {
      "image/png": "[encoded data removed]",
      "text/plain": [
       "<Figure size 400x200 with 1 Axes>"
      ]
     },
     "metadata": {},
     "output_type": "display_data"
    },
    {
     "data": {
      "image/png": "[encoded data removed]",
      "text/plain": [
       "<Figure size 400x200 with 1 Axes>"
      ]
     },
     "metadata": {},
     "output_type": "display_data"
    },
    {
     "data": {
      "image/png": "[encoded data removed]",
      "text/plain": [
       "<Figure size 400x200 with 1 Axes>"
      ]
     },
     "metadata": {},
     "output_type": "display_data"
    },
    {
     "data": {
      "image/png": "[encoded data removed]",
      "text/plain": [
       "<Figure size 400x200 with 1 Axes>"
      ]
     },
     "metadata": {},
     "output_type": "display_data"
    },
    {
     "data": {
      "image/png": "[encoded data removed]",
      "text/plain": [
       "<Figure size 400x200 with 1 Axes>"
      ]
     },
     "metadata": {},
     "output_type": "display_data"
    },
    {
     "data": {
      "image/png": "[encoded data removed]",
      "text/plain": [
       "<Figure size 400x200 with 1 Axes>"
      ]
     },
     "metadata": {},
     "output_type": "display_data"
    },
    {
     "data": {
      "image/png": "[encoded data removed]",
      "text/plain": [
       "<Figure size 400x200 with 1 Axes>"
      ]
     },
     "metadata": {},
     "output_type": "display_data"
    }
   ],
   "source": [
    "for col in train.drop(columns='wine_type').columns:\n",
    "    plt.figure(figsize=(4,2))\n",
    "    plt.hist(train[col])\n",
    "    plt.title(col)\n",
    "    plt.show()"
   ]
  },
  {
   "cell_type": "markdown",
   "id": "cf7ece0f",
   "metadata": {},
   "source": [
    "conclusion:\n",
    "\n",
    "    * normal dist -- citrc_acid, density, ph, quality\n",
    "    \n",
    "    * skews to the right -- red_wine, alcohol, sulphates, total_sulfur_dioxide,  free_sulfur_dioxide, cholrides, residual_sugar, volatile_acidity, fixed_acidity\n",
    "    \n",
    "    * The sample has more white wine than red"
   ]
  },
  {
   "cell_type": "markdown",
   "id": "34108981",
   "metadata": {},
   "source": [
    "exploratory Questions:\n",
    "    \n",
    "    - Is there a relationship between citric acid and quality?\n",
    "    - Is there a relationship between density and quality?\n",
    "    - Is there a relationship between ph and quality?\n",
    "    \n",
    "    - residual suger and density \n",
    "    "
   ]
  },
  {
   "cell_type": "markdown",
   "id": "71f5cfbb",
   "metadata": {},
   "source": [
    " # Statistical testing "
   ]
  },
  {
   "cell_type": "code",
   "execution_count": 8,
   "id": "7a7e9b54",
   "metadata": {},
   "outputs": [],
   "source": [
    "def corr_test(train, x_col, y_col):\n",
    "    corr, p = stats.pearsonr(train[x_col], train[y_col])\n",
    "    if p < alpha:\n",
    "        print(\"We reject the null hypothesis\")\n",
    "    else:\n",
    "        print(\"We fail to reject null hypothesis\")\n",
    "    return corr, p\n"
   ]
  },
  {
   "cell_type": "code",
   "execution_count": 9,
   "id": "7926e3a2",
   "metadata": {},
   "outputs": [],
   "source": [
    "# confidence level = 95% \n",
    "alpha = 0.05"
   ]
  },
  {
   "cell_type": "markdown",
   "id": "ac5164aa",
   "metadata": {},
   "source": [
    "$H_o$: There is no linear correlation between 'fixed_acidity' and the 'quality' on the wine.\n",
    "\n",
    "$H_a$: There is a linear relationship between 'fixed_acidity' and the 'quality' on the wine."
   ]
  },
  {
   "cell_type": "code",
   "execution_count": 10,
   "id": "68062793",
   "metadata": {},
   "outputs": [
    {
     "name": "stdout",
     "output_type": "stream",
     "text": [
      "We reject the null hypothesis\n"
     ]
    },
    {
     "data": {
      "text/plain": [
       "(-0.07827511127209155, 1.4387175286092745e-06)"
      ]
     },
     "execution_count": 10,
     "metadata": {},
     "output_type": "execute_result"
    }
   ],
   "source": [
    "corr_test(train, \"fixed_acidity\", \"quality\")"
   ]
  },
  {
   "cell_type": "code",
   "execution_count": 11,
   "id": "aca6443e",
   "metadata": {},
   "outputs": [
    {
     "data": {
      "text/plain": [
       "3782"
      ]
     },
     "execution_count": 11,
     "metadata": {},
     "output_type": "execute_result"
    }
   ],
   "source": [
    "train.fixed_acidity.count() # assume normal"
   ]
  },
  {
   "cell_type": "markdown",
   "id": "c58e7b33",
   "metadata": {},
   "source": [
    "$H_o$: There is no linear correlation between 'volatile_acidity' and the 'quality' on the wine.\n",
    "\n",
    "$H_a$: There is a linear relationship between 'volatile_acidity' and the 'quality' on the wine."
   ]
  },
  {
   "cell_type": "code",
   "execution_count": 12,
   "id": "b804926d",
   "metadata": {},
   "outputs": [
    {
     "name": "stdout",
     "output_type": "stream",
     "text": [
      "We reject the null hypothesis\n"
     ]
    },
    {
     "data": {
      "text/plain": [
       "(-0.25265237698603427, 3.6861081532008405e-56)"
      ]
     },
     "execution_count": 12,
     "metadata": {},
     "output_type": "execute_result"
    }
   ],
   "source": [
    "corr_test(train, \"quality\", \"volatile_acidity\")"
   ]
  },
  {
   "cell_type": "markdown",
   "id": "6412fa65",
   "metadata": {},
   "source": [
    "$H_o$: There is no linear correlation between 'citric_acid' and the 'quality' on the wine.\n",
    "\n",
    "$H_a$: There is a linear relationship between 'citric_acid' and the 'quality' on the wine."
   ]
  },
  {
   "cell_type": "code",
   "execution_count": 13,
   "id": "bda81713",
   "metadata": {},
   "outputs": [
    {
     "name": "stdout",
     "output_type": "stream",
     "text": [
      "We reject the null hypothesis\n"
     ]
    },
    {
     "data": {
      "text/plain": [
       "(0.09185134519020383, 1.5246273425609698e-08)"
      ]
     },
     "execution_count": 13,
     "metadata": {},
     "output_type": "execute_result"
    }
   ],
   "source": [
    "corr_test(train, \"quality\", \"citric_acid\")"
   ]
  },
  {
   "cell_type": "markdown",
   "id": "2ef07b2c",
   "metadata": {},
   "source": [
    "$H_o$: There is no linear correlation between 'residual_sugar' and the 'quality' on the wine.\n",
    "\n",
    "$H_a$: There is a linear relationship between 'residual_sugar' and the 'quality' on the wine."
   ]
  },
  {
   "cell_type": "code",
   "execution_count": 14,
   "id": "050b0c66",
   "metadata": {},
   "outputs": [
    {
     "name": "stdout",
     "output_type": "stream",
     "text": [
      "We reject the null hypothesis\n"
     ]
    },
    {
     "data": {
      "text/plain": [
       "(-0.04557102612604648, 0.005062099302586473)"
      ]
     },
     "execution_count": 14,
     "metadata": {},
     "output_type": "execute_result"
    }
   ],
   "source": [
    "corr_test(train, \"quality\", \"residual_sugar\")"
   ]
  },
  {
   "cell_type": "markdown",
   "id": "94408b13",
   "metadata": {},
   "source": [
    "$H_o$: There is no linear correlation between 'chlorides' and the 'quality' on the wine.\n",
    "\n",
    "$H_a$: There is a linear relationship between 'chlorides' and the 'quality' on the wine."
   ]
  },
  {
   "cell_type": "code",
   "execution_count": 15,
   "id": "7f895bd8",
   "metadata": {},
   "outputs": [
    {
     "name": "stdout",
     "output_type": "stream",
     "text": [
      "We reject the null hypothesis\n"
     ]
    },
    {
     "data": {
      "text/plain": [
       "(-0.22955837695216097, 2.0617450801145316e-46)"
      ]
     },
     "execution_count": 15,
     "metadata": {},
     "output_type": "execute_result"
    }
   ],
   "source": [
    "corr_test(train, \"quality\", \"chlorides\")"
   ]
  },
  {
   "cell_type": "markdown",
   "id": "4810f791",
   "metadata": {},
   "source": [
    "$H_o$: There is no linear correlation between 'free_sulfur_dioxide' and the 'quality' on the wine.\n",
    "\n",
    "$H_a$: There is a linear relationship between 'free_sulfur_dioxide' and the 'quality' on the wine."
   ]
  },
  {
   "cell_type": "code",
   "execution_count": 16,
   "id": "afcca291",
   "metadata": {},
   "outputs": [
    {
     "name": "stdout",
     "output_type": "stream",
     "text": [
      "We reject the null hypothesis\n"
     ]
    },
    {
     "data": {
      "text/plain": [
       "(0.06847518237771702, 2.5017709828608667e-05)"
      ]
     },
     "execution_count": 16,
     "metadata": {},
     "output_type": "execute_result"
    }
   ],
   "source": [
    "corr_test(train, \"quality\", \"free_sulfur_dioxide\")"
   ]
  },
  {
   "cell_type": "markdown",
   "id": "4e013592",
   "metadata": {},
   "source": [
    "$H_o$: There is no linear correlation between 'total_sulfur_dioxide' and the 'quality' on the wine.\n",
    "\n",
    "$H_a$: There is a linear relationship between 'total_sulfur_dioxide' and the 'quality' on the wine."
   ]
  },
  {
   "cell_type": "code",
   "execution_count": 17,
   "id": "4cc72d95",
   "metadata": {},
   "outputs": [
    {
     "name": "stdout",
     "output_type": "stream",
     "text": [
      "We reject the null hypothesis\n"
     ]
    },
    {
     "data": {
      "text/plain": [
       "(-0.04342487206718959, 0.007564402019911827)"
      ]
     },
     "execution_count": 17,
     "metadata": {},
     "output_type": "execute_result"
    }
   ],
   "source": [
    "corr_test(train, \"quality\", \"total_sulfur_dioxide\")"
   ]
  },
  {
   "cell_type": "markdown",
   "id": "fa5d91db",
   "metadata": {},
   "source": [
    "$H_o$: There is no linear correlation between 'density' and the 'quality' on the wine.\n",
    "\n",
    "$H_a$: There is a linear relationship between 'density' and the 'quality' on the wine."
   ]
  },
  {
   "cell_type": "code",
   "execution_count": 18,
   "id": "b5383a26",
   "metadata": {},
   "outputs": [
    {
     "name": "stdout",
     "output_type": "stream",
     "text": [
      "We reject the null hypothesis\n"
     ]
    },
    {
     "data": {
      "text/plain": [
       "(-0.32055700121430664, 4.0411344714683615e-91)"
      ]
     },
     "execution_count": 18,
     "metadata": {},
     "output_type": "execute_result"
    }
   ],
   "source": [
    "corr_test(train, \"quality\", \"density\")"
   ]
  },
  {
   "cell_type": "markdown",
   "id": "9681c01c",
   "metadata": {},
   "source": [
    "$H_o$: There is no linear correlation between 'ph' and the 'quality' on the wine.\n",
    "\n",
    "$H_a$: There is a linear relationship between 'ph' and the 'quality' on the wine."
   ]
  },
  {
   "cell_type": "code",
   "execution_count": 19,
   "id": "7b095281",
   "metadata": {},
   "outputs": [
    {
     "name": "stdout",
     "output_type": "stream",
     "text": [
      "We fail to reject null hypothesis\n"
     ]
    },
    {
     "data": {
      "text/plain": [
       "(0.022160677839622077, 0.1730232866214007)"
      ]
     },
     "execution_count": 19,
     "metadata": {},
     "output_type": "execute_result"
    }
   ],
   "source": [
    "corr_test(train, \"quality\", \"ph\")"
   ]
  },
  {
   "cell_type": "markdown",
   "id": "ee94f084",
   "metadata": {},
   "source": [
    "$H_o$: There is no linear correlation between 'sulphates' and the 'quality' on the wine.\n",
    "\n",
    "$H_a$: There is a linear relationship between 'sulphates' and the 'quality' on the wine."
   ]
  },
  {
   "cell_type": "code",
   "execution_count": 20,
   "id": "995dca89",
   "metadata": {},
   "outputs": [
    {
     "name": "stdout",
     "output_type": "stream",
     "text": [
      "We reject the null hypothesis\n"
     ]
    },
    {
     "data": {
      "text/plain": [
       "(0.0578266829819311, 0.00037365329475365247)"
      ]
     },
     "execution_count": 20,
     "metadata": {},
     "output_type": "execute_result"
    }
   ],
   "source": [
    "corr_test(train, \"quality\", \"sulphates\")"
   ]
  },
  {
   "cell_type": "markdown",
   "id": "95de8381",
   "metadata": {},
   "source": [
    "$H_o$: There is no linear correlation between 'alcohol' and the 'quality' on the wine.\n",
    "\n",
    "$H_a$: There is a linear relationship between 'alcohol' and the 'quality' on the wine."
   ]
  },
  {
   "cell_type": "code",
   "execution_count": 21,
   "id": "31615f82",
   "metadata": {},
   "outputs": [
    {
     "name": "stdout",
     "output_type": "stream",
     "text": [
      "We reject the null hypothesis\n"
     ]
    },
    {
     "data": {
      "text/plain": [
       "(0.4511831209713698, 4.2781514190354915e-189)"
      ]
     },
     "execution_count": 21,
     "metadata": {},
     "output_type": "execute_result"
    }
   ],
   "source": [
    "corr_test(train, \"quality\", \"alcohol\")"
   ]
  },
  {
   "cell_type": "markdown",
   "id": "f66e6451",
   "metadata": {},
   "source": [
    "$H_o$: There is no linear correlation between 'wine_type' and the 'quality' on the wine.\n",
    "\n",
    "$H_a$: There is a linear relationship between 'wine_type' and the 'quality' on the wine."
   ]
  },
  {
   "cell_type": "code",
   "execution_count": 22,
   "id": "f8fb0c1a",
   "metadata": {},
   "outputs": [
    {
     "name": "stdout",
     "output_type": "stream",
     "text": [
      "We reject the null hypothesis\n"
     ]
    },
    {
     "data": {
      "text/plain": [
       "(-0.11375602349563708, 2.2792373411285852e-12)"
      ]
     },
     "execution_count": 22,
     "metadata": {},
     "output_type": "execute_result"
    }
   ],
   "source": [
    "corr_test(train, \"quality\", \"red_wine\")"
   ]
  },
  {
   "cell_type": "markdown",
   "id": "10575b29",
   "metadata": {},
   "source": [
    "train.columns"
   ]
  },
  {
   "cell_type": "code",
   "execution_count": 23,
   "id": "cfe7cb78",
   "metadata": {},
   "outputs": [],
   "source": [
    "def ind_test(samp1, samp2, alpha=0.05):\n",
    "    '''\n",
    "    Completes an sample t-test, based on the null hypothesis less than\n",
    "    '''\n",
    "    t, p = stats.ttest_ind(samp1, samp2, equal_var=False)\n",
    "\n",
    "    if p/2 < alpha and t > 0 :\n",
    "        print(f'''Reject the null hypothesis: Sufficient''')\n",
    "    else:\n",
    "        print(f''' Fail to reject the null: Insufficient evidence''')\n",
    "    print(f\" p-value: {p} , t: {t}\")\n",
    "\n"
   ]
  },
  {
   "cell_type": "code",
   "execution_count": 24,
   "id": "365affc0",
   "metadata": {},
   "outputs": [],
   "source": [
    "# Does low quality wine have more residual suger or less when compared to high quality wine?"
   ]
  },
  {
   "cell_type": "markdown",
   "id": "298d35bb",
   "metadata": {},
   "source": [
    "$H_o$: Mean of 'residual_sugar' for low quality wines <= Mean of 'residual_sugar' for high quality wines\n",
    "\n",
    "$H_a$: Mean of 'residual_sugar' for low quality wines > Mean of 'residual_sugar' for high quality wines"
   ]
  },
  {
   "cell_type": "code",
   "execution_count": 27,
   "id": "169788f7",
   "metadata": {},
   "outputs": [],
   "source": [
    "low_quality = train[train.quality_type == 'low'].residual_sugar\n",
    "\n",
    "high_quality = train[train.quality_type == 'high'].residual_sugar"
   ]
  },
  {
   "cell_type": "code",
   "execution_count": 31,
   "id": "481865b2",
   "metadata": {},
   "outputs": [
    {
     "name": "stderr",
     "output_type": "stream",
     "text": [
      "No artists with labels found to put in legend.  Note that artists whose label start with an underscore are ignored when legend() is called with no argument.\n"
     ]
    },
    {
     "data": {
      "text/plain": [
       "<matplotlib.legend.Legend at 0x7f9920eae7f0>"
      ]
     },
     "execution_count": 31,
     "metadata": {},
     "output_type": "execute_result"
    },
    {
     "data": {
      "image/png": "[encoded data removed]",
      "text/plain": [
       "<Figure size 640x480 with 1 Axes>"
      ]
     },
     "metadata": {},
     "output_type": "display_data"
    }
   ],
   "source": [
    "high_quality.hist()\n",
    "low_quality.hist()\n",
    "plt.legend()"
   ]
  },
  {
   "cell_type": "code",
   "execution_count": 74,
   "id": "7c847df9",
   "metadata": {},
   "outputs": [],
   "source": [
    "def sugar_barplot(df):\n",
    "    '''\n",
    "    This function creates a custom bar chart for comparing homes with pools and homes without pools\n",
    "    '''\n",
    "    fig, ax =plt.subplots()\n",
    "    # creat average line\n",
    "  \n",
    "    \n",
    "    plt.title(\"Low Quality Wine has More Sugar\")\n",
    "    sns.barplot(x=\"quality_type\", y=\"residual_sugar\", data=df, hue='wine_type')\n",
    "    plt.xlabel(\"Quality\")\n",
    "    plt.ylabel(\"Amount of Sugar\")\n",
    "    tick_label = [\"Low\", \"High\"]\n",
    "    ax.set_xticklabels(tick_label)\n",
    "    property_value_average = df.residual_sugar.mean()\n",
    "    plt.axhline(property_value_average, label=\"Residual Sugar Average\", color='DarkSlateBlue')\n",
    "    plt.legend(loc='upper right')\n",
    "    plt.show()"
   ]
  },
  {
   "cell_type": "code",
   "execution_count": 75,
   "id": "eac7d0b5",
   "metadata": {},
   "outputs": [
    {
     "data": {
      "image/png": "[encoded data removed]",
      "text/plain": [
       "<Figure size 640x480 with 1 Axes>"
      ]
     },
     "metadata": {},
     "output_type": "display_data"
    }
   ],
   "source": [
    "sugar_barplot(train)"
   ]
  },
  {
   "cell_type": "code",
   "execution_count": 36,
   "id": "5893bb9a",
   "metadata": {},
   "outputs": [
    {
     "data": {
      "text/plain": [
       "(24.415103338755117, 21.261813533379094)"
      ]
     },
     "execution_count": 36,
     "metadata": {},
     "output_type": "execute_result"
    }
   ],
   "source": [
    "low_quality.var(), high_quality.var()"
   ]
  },
  {
   "cell_type": "code",
   "execution_count": 40,
   "id": "88842d4c",
   "metadata": {},
   "outputs": [
    {
     "name": "stdout",
     "output_type": "stream",
     "text": [
      "Reject the null hypothesis: Sufficient\n",
      " p-value: 0.02361564235607467 , t: 2.264612071433778\n"
     ]
    }
   ],
   "source": [
    "ind_test(low_quality, high_quality)"
   ]
  },
  {
   "cell_type": "markdown",
   "id": "25ac8b9c",
   "metadata": {},
   "source": [
    "$H_o$: Mean of 'density' for low quality wines <= Mean of 'residual_sugar' for high quality wines\n",
    "\n",
    "$H_a$: Mean of 'density' for low quality wines > Mean of 'residual_sugar' for high quality wines"
   ]
  },
  {
   "cell_type": "code",
   "execution_count": 41,
   "id": "2f308e77",
   "metadata": {},
   "outputs": [],
   "source": [
    "low_quality_2 = train[train.quality_type == 'low'].density\n",
    "\n",
    "high_quality_2 = train[train.quality_type == 'high'].density"
   ]
  },
  {
   "cell_type": "code",
   "execution_count": 54,
   "id": "b7cebefe",
   "metadata": {},
   "outputs": [],
   "source": [
    "def density_barplot(df):\n",
    "    '''\n",
    "    This function creates a custom bar chart for comparing homes with pools and homes without pools\n",
    "    '''\n",
    "    fig, ax =plt.subplots()\n",
    "    # creat average line\n",
    "  \n",
    "    \n",
    "    plt.title(\"Low Quality vs. High Quality \")\n",
    "    sns.barplot(x=\"quality_type\", y=\"density\", data=df)\n",
    "    plt.xlabel(\"Quality\")\n",
    "    plt.ylabel(\"Amount of Density\")\n",
    "    tick_label = [\"Low\", \"High\"]\n",
    "    ax.set_xticklabels(tick_label)\n",
    "    property_value_average = df.density.mean()\n",
    "    plt.axhline(property_value_average, label=\"Density Average\", color='DarkSlateBlue')\n",
    "    plt.legend()\n",
    "    plt.show()"
   ]
  },
  {
   "cell_type": "code",
   "execution_count": 55,
   "id": "d14918ba",
   "metadata": {},
   "outputs": [
    {
     "data": {
      "image/png": "[encoded data removed]",
      "text/plain": [
       "<Figure size 640x480 with 1 Axes>"
      ]
     },
     "metadata": {},
     "output_type": "display_data"
    }
   ],
   "source": [
    "density_barplot(train)"
   ]
  },
  {
   "cell_type": "code",
   "execution_count": 56,
   "id": "2ae374a7",
   "metadata": {},
   "outputs": [
    {
     "name": "stdout",
     "output_type": "stream",
     "text": [
      "Reject the null hypothesis: Sufficient\n",
      " p-value: 1.8261051492646606e-77 , t: 19.124709724841292\n"
     ]
    }
   ],
   "source": [
    "ind_test(low_quality_2, high_quality_2)"
   ]
  },
  {
   "cell_type": "code",
   "execution_count": 57,
   "id": "2c9692f8",
   "metadata": {},
   "outputs": [
    {
     "data": {
      "text/plain": [
       "<AxesSubplot:>"
      ]
     },
     "execution_count": 57,
     "metadata": {},
     "output_type": "execute_result"
    },
    {
     "data": {
      "image/png": "[encoded data removed]",
      "text/plain": [
       "<Figure size 640x480 with 1 Axes>"
      ]
     },
     "metadata": {},
     "output_type": "display_data"
    }
   ],
   "source": [
    "low_quality_2.hist()"
   ]
  },
  {
   "cell_type": "code",
   "execution_count": 58,
   "id": "4fa6bc1c",
   "metadata": {},
   "outputs": [
    {
     "data": {
      "text/plain": [
       "<AxesSubplot:>"
      ]
     },
     "execution_count": 58,
     "metadata": {},
     "output_type": "execute_result"
    },
    {
     "data": {
      "image/png": "[encoded data removed]",
      "text/plain": [
       "<Figure size 640x480 with 1 Axes>"
      ]
     },
     "metadata": {},
     "output_type": "display_data"
    }
   ],
   "source": [
    "high_quality_2.hist()"
   ]
  },
  {
   "cell_type": "code",
   "execution_count": 64,
   "id": "f5aebd44",
   "metadata": {},
   "outputs": [],
   "source": [
    "red = train[train['wine_type'] == \"red\"]\n",
    "white = train[train['wine_type'] == \"white\"]"
   ]
  },
  {
   "cell_type": "markdown",
   "id": "50baf177",
   "metadata": {},
   "source": [
    "$H_o$: wine type is independent of quality type\n",
    "\n",
    "$H_a$: wine type is dependent of quality type"
   ]
  },
  {
   "cell_type": "code",
   "execution_count": 67,
   "id": "32b28cdc",
   "metadata": {},
   "outputs": [],
   "source": [
    "observed = pd.crosstab(train.wine_type, train.quality_type)"
   ]
  },
  {
   "cell_type": "code",
   "execution_count": 68,
   "id": "c9fbb0cd",
   "metadata": {},
   "outputs": [
    {
     "data": {
      "text/plain": [
       "4.560987566222353e-13"
      ]
     },
     "execution_count": 68,
     "metadata": {},
     "output_type": "execute_result"
    }
   ],
   "source": [
    "chi2, p, degf, expected = stats.chi2_contingency(observed)\n",
    "p\n"
   ]
  },
  {
   "cell_type": "code",
   "execution_count": 69,
   "id": "1a5134a1",
   "metadata": {},
   "outputs": [],
   "source": [
    "def eval_results(p, alpha, group1, group2):\n",
    "    '''\n",
    "    this function will take in the p-value, alpha, and a name for the 2 variables \n",
    "    you are comparing (group 1 and group 2)\n",
    "    '''\n",
    "    if p < alpha:\n",
    "        print(f'There exists some relationship between {group1} and the {group2}. (p-value: {p})')\n",
    "    else:\n",
    "        print(f'There is not a significant relationship between {group1} and {group2}. (p-value: {p})')"
   ]
  },
  {
   "cell_type": "code",
   "execution_count": 71,
   "id": "5aecbc39",
   "metadata": {},
   "outputs": [
    {
     "name": "stdout",
     "output_type": "stream",
     "text": [
      "There exists some relationship between 1961    white\n",
      "2604    white\n",
      "890     white\n",
      "3024    white\n",
      "925       red\n",
      "        ...  \n",
      "1401    white\n",
      "2088    white\n",
      "4508    white\n",
      "4740    white\n",
      "1028      red\n",
      "Name: wine_type, Length: 3782, dtype: object and the 1961     low\n",
      "2604    high\n",
      "890     high\n",
      "3024    high\n",
      "925     high\n",
      "        ... \n",
      "1401    high\n",
      "2088    high\n",
      "4508     low\n",
      "4740     low\n",
      "1028    high\n",
      "Name: quality_type, Length: 3782, dtype: object. (p-value: 4.560987566222353e-13)\n"
     ]
    }
   ],
   "source": [
    "eval_results(p, alpha, train.wine_type, train.quality_type)"
   ]
  },
  {
   "cell_type": "code",
   "execution_count": null,
   "id": "40f73d34",
   "metadata": {},
   "outputs": [],
   "source": []
  }
 ],
 "metadata": {
  "kernelspec": {
   "display_name": "Python 3 (ipykernel)",
   "language": "python",
   "name": "python3"
  },
  "language_info": {
   "codemirror_mode": {
    "name": "ipython",
    "version": 3
   },
   "file_extension": ".py",
   "mimetype": "text/x-python",
   "name": "python",
   "nbconvert_exporter": "python",
   "pygments_lexer": "ipython3",
   "version": "3.9.13"
  }
 },
 "nbformat": 4,
 "nbformat_minor": 5
}
