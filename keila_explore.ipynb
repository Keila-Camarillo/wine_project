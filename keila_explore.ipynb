{
 "cells": [
  {
   "cell_type": "code",
   "execution_count": 1,
   "id": "6dad7dab",
   "metadata": {},
   "outputs": [],
   "source": [
    "import warnings\n",
    "warnings.filterwarnings(\"ignore\")\n",
    "\n",
    "import pandas as pd\n",
    "import numpy as np\n",
    "\n",
    "import matplotlib.pyplot as plt\n",
    "import seaborn as sns\n",
    "\n",
    "from scipy import stats\n",
    "from math import sqrt\n",
    "\n",
    "import keila_wrangle as w"
   ]
  },
  {
   "cell_type": "code",
   "execution_count": 2,
   "id": "dd137f66",
   "metadata": {},
   "outputs": [
    {
     "data": {
      "text/html": [
       "<div>\n",
       "<style scoped>\n",
       "    .dataframe tbody tr th:only-of-type {\n",
       "        vertical-align: middle;\n",
       "    }\n",
       "\n",
       "    .dataframe tbody tr th {\n",
       "        vertical-align: top;\n",
       "    }\n",
       "\n",
       "    .dataframe thead th {\n",
       "        text-align: right;\n",
       "    }\n",
       "</style>\n",
       "<table border=\"1\" class=\"dataframe\">\n",
       "  <thead>\n",
       "    <tr style=\"text-align: right;\">\n",
       "      <th></th>\n",
       "      <th>fixed acidity</th>\n",
       "      <th>volatile acidity</th>\n",
       "      <th>citric acid</th>\n",
       "      <th>residual sugar</th>\n",
       "      <th>chlorides</th>\n",
       "      <th>free sulfur dioxide</th>\n",
       "      <th>total sulfur dioxide</th>\n",
       "      <th>density</th>\n",
       "      <th>pH</th>\n",
       "      <th>sulphates</th>\n",
       "      <th>alcohol</th>\n",
       "      <th>quality</th>\n",
       "      <th>red_wine</th>\n",
       "      <th>wine_type</th>\n",
       "    </tr>\n",
       "  </thead>\n",
       "  <tbody>\n",
       "    <tr>\n",
       "      <th>0</th>\n",
       "      <td>7.4</td>\n",
       "      <td>0.70</td>\n",
       "      <td>0.00</td>\n",
       "      <td>1.9</td>\n",
       "      <td>0.076</td>\n",
       "      <td>11.0</td>\n",
       "      <td>34.0</td>\n",
       "      <td>0.9978</td>\n",
       "      <td>3.51</td>\n",
       "      <td>0.56</td>\n",
       "      <td>9.4</td>\n",
       "      <td>5</td>\n",
       "      <td>1</td>\n",
       "      <td>red</td>\n",
       "    </tr>\n",
       "    <tr>\n",
       "      <th>1</th>\n",
       "      <td>7.8</td>\n",
       "      <td>0.88</td>\n",
       "      <td>0.00</td>\n",
       "      <td>2.6</td>\n",
       "      <td>0.098</td>\n",
       "      <td>25.0</td>\n",
       "      <td>67.0</td>\n",
       "      <td>0.9968</td>\n",
       "      <td>3.20</td>\n",
       "      <td>0.68</td>\n",
       "      <td>9.8</td>\n",
       "      <td>5</td>\n",
       "      <td>1</td>\n",
       "      <td>red</td>\n",
       "    </tr>\n",
       "    <tr>\n",
       "      <th>2</th>\n",
       "      <td>7.8</td>\n",
       "      <td>0.76</td>\n",
       "      <td>0.04</td>\n",
       "      <td>2.3</td>\n",
       "      <td>0.092</td>\n",
       "      <td>15.0</td>\n",
       "      <td>54.0</td>\n",
       "      <td>0.9970</td>\n",
       "      <td>3.26</td>\n",
       "      <td>0.65</td>\n",
       "      <td>9.8</td>\n",
       "      <td>5</td>\n",
       "      <td>1</td>\n",
       "      <td>red</td>\n",
       "    </tr>\n",
       "    <tr>\n",
       "      <th>3</th>\n",
       "      <td>11.2</td>\n",
       "      <td>0.28</td>\n",
       "      <td>0.56</td>\n",
       "      <td>1.9</td>\n",
       "      <td>0.075</td>\n",
       "      <td>17.0</td>\n",
       "      <td>60.0</td>\n",
       "      <td>0.9980</td>\n",
       "      <td>3.16</td>\n",
       "      <td>0.58</td>\n",
       "      <td>9.8</td>\n",
       "      <td>6</td>\n",
       "      <td>1</td>\n",
       "      <td>red</td>\n",
       "    </tr>\n",
       "    <tr>\n",
       "      <th>4</th>\n",
       "      <td>7.4</td>\n",
       "      <td>0.70</td>\n",
       "      <td>0.00</td>\n",
       "      <td>1.9</td>\n",
       "      <td>0.076</td>\n",
       "      <td>11.0</td>\n",
       "      <td>34.0</td>\n",
       "      <td>0.9978</td>\n",
       "      <td>3.51</td>\n",
       "      <td>0.56</td>\n",
       "      <td>9.4</td>\n",
       "      <td>5</td>\n",
       "      <td>1</td>\n",
       "      <td>red</td>\n",
       "    </tr>\n",
       "  </tbody>\n",
       "</table>\n",
       "</div>"
      ],
      "text/plain": [
       "   fixed acidity  volatile acidity  citric acid  residual sugar  chlorides  \\\n",
       "0            7.4              0.70         0.00             1.9      0.076   \n",
       "1            7.8              0.88         0.00             2.6      0.098   \n",
       "2            7.8              0.76         0.04             2.3      0.092   \n",
       "3           11.2              0.28         0.56             1.9      0.075   \n",
       "4            7.4              0.70         0.00             1.9      0.076   \n",
       "\n",
       "   free sulfur dioxide  total sulfur dioxide  density    pH  sulphates  \\\n",
       "0                 11.0                  34.0   0.9978  3.51       0.56   \n",
       "1                 25.0                  67.0   0.9968  3.20       0.68   \n",
       "2                 15.0                  54.0   0.9970  3.26       0.65   \n",
       "3                 17.0                  60.0   0.9980  3.16       0.58   \n",
       "4                 11.0                  34.0   0.9978  3.51       0.56   \n",
       "\n",
       "   alcohol  quality  red_wine wine_type  \n",
       "0      9.4        5         1       red  \n",
       "1      9.8        5         1       red  \n",
       "2      9.8        5         1       red  \n",
       "3      9.8        6         1       red  \n",
       "4      9.4        5         1       red  "
      ]
     },
     "execution_count": 2,
     "metadata": {},
     "output_type": "execute_result"
    }
   ],
   "source": [
    "df = w.read_wine()\n",
    "df.head()"
   ]
  },
  {
   "cell_type": "code",
   "execution_count": 7,
   "id": "f2a5072c",
   "metadata": {},
   "outputs": [
    {
     "data": {
      "text/html": [
       "<div>\n",
       "<style scoped>\n",
       "    .dataframe tbody tr th:only-of-type {\n",
       "        vertical-align: middle;\n",
       "    }\n",
       "\n",
       "    .dataframe tbody tr th {\n",
       "        vertical-align: top;\n",
       "    }\n",
       "\n",
       "    .dataframe thead th {\n",
       "        text-align: right;\n",
       "    }\n",
       "</style>\n",
       "<table border=\"1\" class=\"dataframe\">\n",
       "  <thead>\n",
       "    <tr style=\"text-align: right;\">\n",
       "      <th></th>\n",
       "      <th>fixed acidity</th>\n",
       "      <th>volatile acidity</th>\n",
       "      <th>citric acid</th>\n",
       "      <th>residual sugar</th>\n",
       "      <th>chlorides</th>\n",
       "      <th>free sulfur dioxide</th>\n",
       "      <th>total sulfur dioxide</th>\n",
       "      <th>density</th>\n",
       "      <th>pH</th>\n",
       "      <th>sulphates</th>\n",
       "      <th>alcohol</th>\n",
       "      <th>quality</th>\n",
       "      <th>red_wine</th>\n",
       "      <th>wine_type</th>\n",
       "    </tr>\n",
       "  </thead>\n",
       "  <tbody>\n",
       "    <tr>\n",
       "      <th>0</th>\n",
       "      <td>7.4</td>\n",
       "      <td>0.70</td>\n",
       "      <td>0.00</td>\n",
       "      <td>1.9</td>\n",
       "      <td>0.076</td>\n",
       "      <td>11.0</td>\n",
       "      <td>34.0</td>\n",
       "      <td>0.9978</td>\n",
       "      <td>3.51</td>\n",
       "      <td>0.56</td>\n",
       "      <td>9.4</td>\n",
       "      <td>5</td>\n",
       "      <td>1</td>\n",
       "      <td>red</td>\n",
       "    </tr>\n",
       "    <tr>\n",
       "      <th>1</th>\n",
       "      <td>7.8</td>\n",
       "      <td>0.88</td>\n",
       "      <td>0.00</td>\n",
       "      <td>2.6</td>\n",
       "      <td>0.098</td>\n",
       "      <td>25.0</td>\n",
       "      <td>67.0</td>\n",
       "      <td>0.9968</td>\n",
       "      <td>3.20</td>\n",
       "      <td>0.68</td>\n",
       "      <td>9.8</td>\n",
       "      <td>5</td>\n",
       "      <td>1</td>\n",
       "      <td>red</td>\n",
       "    </tr>\n",
       "    <tr>\n",
       "      <th>2</th>\n",
       "      <td>7.8</td>\n",
       "      <td>0.76</td>\n",
       "      <td>0.04</td>\n",
       "      <td>2.3</td>\n",
       "      <td>0.092</td>\n",
       "      <td>15.0</td>\n",
       "      <td>54.0</td>\n",
       "      <td>0.9970</td>\n",
       "      <td>3.26</td>\n",
       "      <td>0.65</td>\n",
       "      <td>9.8</td>\n",
       "      <td>5</td>\n",
       "      <td>1</td>\n",
       "      <td>red</td>\n",
       "    </tr>\n",
       "    <tr>\n",
       "      <th>3</th>\n",
       "      <td>11.2</td>\n",
       "      <td>0.28</td>\n",
       "      <td>0.56</td>\n",
       "      <td>1.9</td>\n",
       "      <td>0.075</td>\n",
       "      <td>17.0</td>\n",
       "      <td>60.0</td>\n",
       "      <td>0.9980</td>\n",
       "      <td>3.16</td>\n",
       "      <td>0.58</td>\n",
       "      <td>9.8</td>\n",
       "      <td>6</td>\n",
       "      <td>1</td>\n",
       "      <td>red</td>\n",
       "    </tr>\n",
       "    <tr>\n",
       "      <th>4</th>\n",
       "      <td>7.4</td>\n",
       "      <td>0.70</td>\n",
       "      <td>0.00</td>\n",
       "      <td>1.9</td>\n",
       "      <td>0.076</td>\n",
       "      <td>11.0</td>\n",
       "      <td>34.0</td>\n",
       "      <td>0.9978</td>\n",
       "      <td>3.51</td>\n",
       "      <td>0.56</td>\n",
       "      <td>9.4</td>\n",
       "      <td>5</td>\n",
       "      <td>1</td>\n",
       "      <td>red</td>\n",
       "    </tr>\n",
       "  </tbody>\n",
       "</table>\n",
       "</div>"
      ],
      "text/plain": [
       "   fixed acidity  volatile acidity  citric acid  residual sugar  chlorides  \\\n",
       "0            7.4              0.70         0.00             1.9      0.076   \n",
       "1            7.8              0.88         0.00             2.6      0.098   \n",
       "2            7.8              0.76         0.04             2.3      0.092   \n",
       "3           11.2              0.28         0.56             1.9      0.075   \n",
       "4            7.4              0.70         0.00             1.9      0.076   \n",
       "\n",
       "   free sulfur dioxide  total sulfur dioxide  density    pH  sulphates  \\\n",
       "0                 11.0                  34.0   0.9978  3.51       0.56   \n",
       "1                 25.0                  67.0   0.9968  3.20       0.68   \n",
       "2                 15.0                  54.0   0.9970  3.26       0.65   \n",
       "3                 17.0                  60.0   0.9980  3.16       0.58   \n",
       "4                 11.0                  34.0   0.9978  3.51       0.56   \n",
       "\n",
       "   alcohol  quality  red_wine wine_type  \n",
       "0      9.4        5         1       red  \n",
       "1      9.8        5         1       red  \n",
       "2      9.8        5         1       red  \n",
       "3      9.8        6         1       red  \n",
       "4      9.4        5         1       red  "
      ]
     },
     "execution_count": 7,
     "metadata": {},
     "output_type": "execute_result"
    }
   ],
   "source": [
    "\n",
    "df.head()"
   ]
  },
  {
   "cell_type": "code",
   "execution_count": 3,
   "id": "70ba27fb",
   "metadata": {},
   "outputs": [
    {
     "name": "stdout",
     "output_type": "stream",
     "text": [
      "46 outliers removed from fixed acidity.\n",
      "26 outliers removed from volatile acidity.\n",
      "11 outliers removed from citric acid.\n",
      "5 outliers removed from residual sugar.\n",
      "63 outliers removed from chlorides.\n",
      "15 outliers removed from free sulfur dioxide.\n",
      "2 outliers removed from total sulfur dioxide.\n",
      "0 outliers removed from density.\n",
      "4 outliers removed from pH.\n",
      "21 outliers removed from sulphates.\n",
      "0 outliers removed from alcohol.\n",
      "0 outliers removed from quality.\n",
      "0 outliers removed from red_wine.\n",
      "\n",
      "Total of 193 outliers removed.\n"
     ]
    }
   ],
   "source": [
    "train, validate, test = w.clean_wine()"
   ]
  },
  {
   "cell_type": "code",
   "execution_count": 4,
   "id": "2b58ab75",
   "metadata": {},
   "outputs": [
    {
     "name": "stdout",
     "output_type": "stream",
     "text": [
      "train -> (3782, 14)\n",
      "validate -> (1261, 14)\n",
      "test -> (1261, 14)\n"
     ]
    }
   ],
   "source": [
    "# splitting into x and y\n",
    "target = \"quality\"\n",
    "train, validate, test, x_train, y_train, x_validate, y_validate, x_test, y_test = w.split_data_xy(train, validate, test, target)"
   ]
  },
  {
   "cell_type": "code",
   "execution_count": 5,
   "id": "9739f715",
   "metadata": {},
   "outputs": [],
   "source": [
    "# scaling data\n",
    "x_train_scaled, x_validate_scaled, x_test_scaled = w.mm_scale(x_train, x_validate, x_test)"
   ]
  },
  {
   "cell_type": "markdown",
   "id": "0e84a944",
   "metadata": {},
   "source": [
    "1. What is the distribution of each of the variables?"
   ]
  },
  {
   "cell_type": "code",
   "execution_count": 6,
   "id": "018507d5",
   "metadata": {},
   "outputs": [
    {
     "data": {
      "image/png": "[encoded data removed]",
      "text/plain": [
       "<Figure size 400x200 with 1 Axes>"
      ]
     },
     "metadata": {},
     "output_type": "display_data"
    },
    {
     "data": {
      "image/png": "[encoded data removed]",
      "text/plain": [
       "<Figure size 400x200 with 1 Axes>"
      ]
     },
     "metadata": {},
     "output_type": "display_data"
    },
    {
     "data": {
      "image/png": "[encoded data removed]",
      "text/plain": [
       "<Figure size 400x200 with 1 Axes>"
      ]
     },
     "metadata": {},
     "output_type": "display_data"
    },
    {
     "data": {
      "image/png": "[encoded data removed]",
      "text/plain": [
       "<Figure size 400x200 with 1 Axes>"
      ]
     },
     "metadata": {},
     "output_type": "display_data"
    },
    {
     "data": {
      "image/png": "[encoded data removed]",
      "text/plain": [
       "<Figure size 400x200 with 1 Axes>"
      ]
     },
     "metadata": {},
     "output_type": "display_data"
    },
    {
     "data": {
      "image/png": "[encoded data removed]",
      "text/plain": [
       "<Figure size 400x200 with 1 Axes>"
      ]
     },
     "metadata": {},
     "output_type": "display_data"
    },
    {
     "data": {
      "image/png": "[encoded data removed]",
      "text/plain": [
       "<Figure size 400x200 with 1 Axes>"
      ]
     },
     "metadata": {},
     "output_type": "display_data"
    },
    {
     "data": {
      "image/png": "[encoded data removed]",
      "text/plain": [
       "<Figure size 400x200 with 1 Axes>"
      ]
     },
     "metadata": {},
     "output_type": "display_data"
    },
    {
     "data": {
      "image/png": "[encoded data removed]",
      "text/plain": [
       "<Figure size 400x200 with 1 Axes>"
      ]
     },
     "metadata": {},
     "output_type": "display_data"
    },
    {
     "data": {
      "image/png": "[encoded data removed]",
      "text/plain": [
       "<Figure size 400x200 with 1 Axes>"
      ]
     },
     "metadata": {},
     "output_type": "display_data"
    },
    {
     "data": {
      "image/png": "[encoded data removed]",
      "text/plain": [
       "<Figure size 400x200 with 1 Axes>"
      ]
     },
     "metadata": {},
     "output_type": "display_data"
    },
    {
     "data": {
      "image/png": "[encoded data removed]",
      "text/plain": [
       "<Figure size 400x200 with 1 Axes>"
      ]
     },
     "metadata": {},
     "output_type": "display_data"
    },
    {
     "data": {
      "image/png": "[encoded data removed]",
      "text/plain": [
       "<Figure size 400x200 with 1 Axes>"
      ]
     },
     "metadata": {},
     "output_type": "display_data"
    }
   ],
   "source": [
    "for col in train.drop(columns='wine_type').columns:\n",
    "    plt.figure(figsize=(4,2))\n",
    "    plt.hist(train[col])\n",
    "    plt.title(col)\n",
    "    plt.show()"
   ]
  },
  {
   "cell_type": "markdown",
   "id": "b9691922",
   "metadata": {},
   "source": [
    "conclusion:\n",
    "\n",
    "    * normal dist -- citrc_acid, density, ph, quality\n",
    "    \n",
    "    * skews to the right -- red_wine, alcohol, sulphates, total_sulfur_dioxide,  free_sulfur_dioxide, cholrides, residual_sugar, volatile_acidity, fixed_acidity\n",
    "    \n",
    "    * The sample has more white wine than red"
   ]
  },
  {
   "cell_type": "markdown",
   "id": "aa07fd39",
   "metadata": {},
   "source": [
    "exploratory Questions:\n",
    "    \n",
    "    - Is there a relationship between citric acid and quality?\n",
    "    - Is there a relationship between density and quality?\n",
    "    - Is there a relationship between ph and quality?\n",
    "    \n",
    "    - residual suger and density \n",
    "    "
   ]
  },
  {
   "cell_type": "markdown",
   "id": "f56eae0a",
   "metadata": {},
   "source": [
    " # Statistical testing "
   ]
  },
  {
   "cell_type": "code",
   "execution_count": 17,
   "id": "9c9f6db2",
   "metadata": {},
   "outputs": [],
   "source": [
    "def corr_test(train, x_col, y_col):\n",
    "    corr, p = stats.pearsonr(train[x_col], train[y_col])\n",
    "    if p < alpha:\n",
    "        print(\"We reject the null hypothesis\")\n",
    "    else:\n",
    "        print(\"We fail to reject null hypothesis\")\n",
    "    return corr, p\n"
   ]
  },
  {
   "cell_type": "code",
   "execution_count": 18,
   "id": "eb37b478",
   "metadata": {},
   "outputs": [],
   "source": [
    "# confidence level = 95% \n",
    "alpha = 0.05"
   ]
  },
  {
   "cell_type": "markdown",
   "id": "8fffffb3",
   "metadata": {},
   "source": [
    "$H_o$: There is no linear correlation between 'fixed_acidity' and the 'quality' on the wine.\n",
    "\n",
    "$H_a$: There is a linear relationship between 'fixed_acidity' and the 'quality' on the wine."
   ]
  },
  {
   "cell_type": "code",
   "execution_count": 19,
   "id": "36e155cb",
   "metadata": {},
   "outputs": [
    {
     "name": "stdout",
     "output_type": "stream",
     "text": [
      "We reject the null hypothesis\n"
     ]
    },
    {
     "data": {
      "text/plain": [
       "(-0.07827511127209155, 1.4387175286092745e-06)"
      ]
     },
     "execution_count": 19,
     "metadata": {},
     "output_type": "execute_result"
    }
   ],
   "source": [
    "corr_test(train, \"fixed_acidity\", \"quality\")"
   ]
  },
  {
   "cell_type": "markdown",
   "id": "01a4c746",
   "metadata": {},
   "source": [
    "$H_o$: There is no linear correlation between 'volatile_acidity' and the 'quality' on the wine.\n",
    "\n",
    "$H_a$: There is a linear relationship between 'volatile_acidity' and the 'quality' on the wine."
   ]
  },
  {
   "cell_type": "code",
   "execution_count": 26,
   "id": "995e9840",
   "metadata": {},
   "outputs": [
    {
     "name": "stdout",
     "output_type": "stream",
     "text": [
      "We reject the null hypothesis\n"
     ]
    },
    {
     "data": {
      "text/plain": [
       "(-0.25265237698603427, 3.6861081532008405e-56)"
      ]
     },
     "execution_count": 26,
     "metadata": {},
     "output_type": "execute_result"
    }
   ],
   "source": [
    "corr_test(train, \"quality\", \"volatile_acidity\")"
   ]
  },
  {
   "cell_type": "markdown",
   "id": "d1f473f2",
   "metadata": {},
   "source": [
    "$H_o$: There is no linear correlation between 'citric_acid' and the 'quality' on the wine.\n",
    "\n",
    "$H_a$: There is a linear relationship between 'citric_acid' and the 'quality' on the wine."
   ]
  },
  {
   "cell_type": "code",
   "execution_count": 27,
   "id": "3ecbb236",
   "metadata": {},
   "outputs": [
    {
     "name": "stdout",
     "output_type": "stream",
     "text": [
      "We reject the null hypothesis\n"
     ]
    },
    {
     "data": {
      "text/plain": [
       "(0.09185134519020383, 1.5246273425609698e-08)"
      ]
     },
     "execution_count": 27,
     "metadata": {},
     "output_type": "execute_result"
    }
   ],
   "source": [
    "corr_test(train, \"quality\", \"citric_acid\")"
   ]
  },
  {
   "cell_type": "markdown",
   "id": "b153845b",
   "metadata": {},
   "source": [
    "$H_o$: There is no linear correlation between 'residual_sugar' and the 'quality' on the wine.\n",
    "\n",
    "$H_a$: There is a linear relationship between 'residual_sugar' and the 'quality' on the wine."
   ]
  },
  {
   "cell_type": "code",
   "execution_count": 28,
   "id": "f7010500",
   "metadata": {},
   "outputs": [
    {
     "name": "stdout",
     "output_type": "stream",
     "text": [
      "We reject the null hypothesis\n"
     ]
    },
    {
     "data": {
      "text/plain": [
       "(-0.04557102612604648, 0.005062099302586473)"
      ]
     },
     "execution_count": 28,
     "metadata": {},
     "output_type": "execute_result"
    }
   ],
   "source": [
    "corr_test(train, \"quality\", \"residual_sugar\")"
   ]
  },
  {
   "cell_type": "markdown",
   "id": "80afb65f",
   "metadata": {},
   "source": [
    "$H_o$: There is no linear correlation between 'chlorides' and the 'quality' on the wine.\n",
    "\n",
    "$H_a$: There is a linear relationship between 'chlorides' and the 'quality' on the wine."
   ]
  },
  {
   "cell_type": "code",
   "execution_count": 29,
   "id": "ed89dff5",
   "metadata": {},
   "outputs": [
    {
     "name": "stdout",
     "output_type": "stream",
     "text": [
      "We reject the null hypothesis\n"
     ]
    },
    {
     "data": {
      "text/plain": [
       "(-0.22955837695216097, 2.0617450801145316e-46)"
      ]
     },
     "execution_count": 29,
     "metadata": {},
     "output_type": "execute_result"
    }
   ],
   "source": [
    "corr_test(train, \"quality\", \"chlorides\")"
   ]
  },
  {
   "cell_type": "markdown",
   "id": "70843d49",
   "metadata": {},
   "source": [
    "$H_o$: There is no linear correlation between 'free_sulfur_dioxide' and the 'quality' on the wine.\n",
    "\n",
    "$H_a$: There is a linear relationship between 'free_sulfur_dioxide' and the 'quality' on the wine."
   ]
  },
  {
   "cell_type": "code",
   "execution_count": 30,
   "id": "2794df9b",
   "metadata": {},
   "outputs": [
    {
     "name": "stdout",
     "output_type": "stream",
     "text": [
      "We reject the null hypothesis\n"
     ]
    },
    {
     "data": {
      "text/plain": [
       "(0.06847518237771702, 2.5017709828608667e-05)"
      ]
     },
     "execution_count": 30,
     "metadata": {},
     "output_type": "execute_result"
    }
   ],
   "source": [
    "corr_test(train, \"quality\", \"free_sulfur_dioxide\")"
   ]
  },
  {
   "cell_type": "markdown",
   "id": "b868c15f",
   "metadata": {},
   "source": [
    "$H_o$: There is no linear correlation between 'total_sulfur_dioxide' and the 'quality' on the wine.\n",
    "\n",
    "$H_a$: There is a linear relationship between 'total_sulfur_dioxide' and the 'quality' on the wine."
   ]
  },
  {
   "cell_type": "code",
   "execution_count": 31,
   "id": "374fd2de",
   "metadata": {},
   "outputs": [
    {
     "name": "stdout",
     "output_type": "stream",
     "text": [
      "We reject the null hypothesis\n"
     ]
    },
    {
     "data": {
      "text/plain": [
       "(-0.04342487206718959, 0.007564402019911827)"
      ]
     },
     "execution_count": 31,
     "metadata": {},
     "output_type": "execute_result"
    }
   ],
   "source": [
    "corr_test(train, \"quality\", \"total_sulfur_dioxide\")"
   ]
  },
  {
   "cell_type": "markdown",
   "id": "6eac9375",
   "metadata": {},
   "source": [
    "$H_o$: There is no linear correlation between 'density' and the 'quality' on the wine.\n",
    "\n",
    "$H_a$: There is a linear relationship between 'density' and the 'quality' on the wine."
   ]
  },
  {
   "cell_type": "code",
   "execution_count": 32,
   "id": "4e9ff3af",
   "metadata": {},
   "outputs": [
    {
     "name": "stdout",
     "output_type": "stream",
     "text": [
      "We reject the null hypothesis\n"
     ]
    },
    {
     "data": {
      "text/plain": [
       "(0.0700862669218869, 1.6029528009553467e-05)"
      ]
     },
     "execution_count": 32,
     "metadata": {},
     "output_type": "execute_result"
    }
   ],
   "source": [
    "corr_test(train, \"quality\", \"density\")"
   ]
  },
  {
   "cell_type": "markdown",
   "id": "a377da22",
   "metadata": {},
   "source": [
    "$H_o$: There is no linear correlation between 'ph' and the 'quality' on the wine.\n",
    "\n",
    "$H_a$: There is a linear relationship between 'ph' and the 'quality' on the wine."
   ]
  },
  {
   "cell_type": "code",
   "execution_count": 33,
   "id": "6c3072cc",
   "metadata": {},
   "outputs": [
    {
     "name": "stdout",
     "output_type": "stream",
     "text": [
      "We reject the null hypothesis\n"
     ]
    },
    {
     "data": {
      "text/plain": [
       "(-0.24833748714288953, 2.931984458638258e-54)"
      ]
     },
     "execution_count": 33,
     "metadata": {},
     "output_type": "execute_result"
    }
   ],
   "source": [
    "corr_test(train, \"quality\", \"ph\")"
   ]
  },
  {
   "cell_type": "markdown",
   "id": "6dc6574d",
   "metadata": {},
   "source": [
    "$H_o$: There is no linear correlation between 'sulphates' and the 'quality' on the wine.\n",
    "\n",
    "$H_a$: There is a linear relationship between 'sulphates' and the 'quality' on the wine."
   ]
  },
  {
   "cell_type": "code",
   "execution_count": 34,
   "id": "1b689c92",
   "metadata": {},
   "outputs": [
    {
     "name": "stdout",
     "output_type": "stream",
     "text": [
      "We reject the null hypothesis\n"
     ]
    },
    {
     "data": {
      "text/plain": [
       "(-0.26468421581346047, 1.176905031210281e-61)"
      ]
     },
     "execution_count": 34,
     "metadata": {},
     "output_type": "execute_result"
    }
   ],
   "source": [
    "corr_test(train, \"quality\", \"sulphates\")"
   ]
  },
  {
   "cell_type": "markdown",
   "id": "e8575a47",
   "metadata": {},
   "source": [
    "$H_o$: There is no linear correlation between 'alcohol' and the 'quality' on the wine.\n",
    "\n",
    "$H_a$: There is a linear relationship between 'alcohol' and the 'quality' on the wine."
   ]
  },
  {
   "cell_type": "code",
   "execution_count": 35,
   "id": "4c2e387a",
   "metadata": {},
   "outputs": [
    {
     "name": "stdout",
     "output_type": "stream",
     "text": [
      "We reject the null hypothesis\n"
     ]
    },
    {
     "data": {
      "text/plain": [
       "(-0.2790362702935659, 1.3524419698057308e-68)"
      ]
     },
     "execution_count": 35,
     "metadata": {},
     "output_type": "execute_result"
    }
   ],
   "source": [
    "corr_test(train, \"quality\", \"alcohol\")"
   ]
  },
  {
   "cell_type": "markdown",
   "id": "11821da0",
   "metadata": {},
   "source": [
    "$H_o$: There is no linear correlation between 'wine_type' and the 'quality' on the wine.\n",
    "\n",
    "$H_a$: There is a linear relationship between 'wine_type' and the 'quality' on the wine."
   ]
  },
  {
   "cell_type": "code",
   "execution_count": 38,
   "id": "8a5d4db9",
   "metadata": {},
   "outputs": [
    {
     "name": "stdout",
     "output_type": "stream",
     "text": [
      "We reject the null hypothesis\n"
     ]
    },
    {
     "data": {
      "text/plain": [
       "(-0.11375602349563708, 2.2792373411285852e-12)"
      ]
     },
     "execution_count": 38,
     "metadata": {},
     "output_type": "execute_result"
    }
   ],
   "source": [
    "corr_test(train, \"quality\", \"red_wine\")"
   ]
  },
  {
   "cell_type": "markdown",
   "id": "fc918b27",
   "metadata": {},
   "source": [
    "train.columns"
   ]
  },
  {
   "cell_type": "code",
   "execution_count": null,
   "id": "44232b4d",
   "metadata": {},
   "outputs": [],
   "source": [
    "# "
   ]
  },
  {
   "cell_type": "markdown",
   "id": "8e2bd89f",
   "metadata": {},
   "source": [
    "$H_o$: There is no linear correlation between 'residual_sugar' and the 'quality' on the wine.\n",
    "\n",
    "$H_a$: There is a linear relationship between 'residual_sugar' and the 'quality' on the wine."
   ]
  },
  {
   "cell_type": "code",
   "execution_count": null,
   "id": "5de85feb",
   "metadata": {},
   "outputs": [],
   "source": []
  },
  {
   "cell_type": "code",
   "execution_count": 40,
   "id": "978b98fa",
   "metadata": {},
   "outputs": [
    {
     "name": "stdout",
     "output_type": "stream",
     "text": [
      "We reject the null hypothesis\n"
     ]
    },
    {
     "data": {
      "text/plain": [
       "(-0.04557102612604648, 0.005062099302586473)"
      ]
     },
     "execution_count": 40,
     "metadata": {},
     "output_type": "execute_result"
    }
   ],
   "source": [
    "corr_test(train, \"quality\", \"residual_sugar\")"
   ]
  },
  {
   "cell_type": "markdown",
   "id": "14e4cfd2",
   "metadata": {},
   "source": [
    "$H_o$: There is no linear correlation between 'density' and the 'quality' on the wine.\n",
    "\n",
    "$H_a$: There is a linear relationship between 'density' and the 'quality' on the wine."
   ]
  },
  {
   "cell_type": "code",
   "execution_count": 41,
   "id": "bc87ed4d",
   "metadata": {},
   "outputs": [
    {
     "name": "stdout",
     "output_type": "stream",
     "text": [
      "We reject the null hypothesis\n"
     ]
    },
    {
     "data": {
      "text/plain": [
       "(-0.32055700121430664, 4.0411344714683615e-91)"
      ]
     },
     "execution_count": 41,
     "metadata": {},
     "output_type": "execute_result"
    }
   ],
   "source": [
    "corr_test(train, \"quality\", \"density\")"
   ]
  },
  {
   "cell_type": "code",
   "execution_count": null,
   "id": "640dffc4",
   "metadata": {},
   "outputs": [],
   "source": []
  }
 ],
 "metadata": {
  "kernelspec": {
   "display_name": "Python 3 (ipykernel)",
   "language": "python",
   "name": "python3"
  },
  "language_info": {
   "codemirror_mode": {
    "name": "ipython",
    "version": 3
   },
   "file_extension": ".py",
   "mimetype": "text/x-python",
   "name": "python",
   "nbconvert_exporter": "python",
   "pygments_lexer": "ipython3",
   "version": "3.9.13"
  }
 },
 "nbformat": 4,
 "nbformat_minor": 5
}
